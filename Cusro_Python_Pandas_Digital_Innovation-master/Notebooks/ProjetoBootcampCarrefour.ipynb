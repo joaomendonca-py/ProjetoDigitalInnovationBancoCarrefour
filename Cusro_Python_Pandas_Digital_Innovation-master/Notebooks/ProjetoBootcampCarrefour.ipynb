{
 "cells": [
  {
   "cell_type": "code",
   "execution_count": 1,
   "metadata": {
    "colab": {
     "base_uri": "https://localhost:8080/"
    },
    "id": "53KvLKKoRsJ-",
    "outputId": "72504b7b-c30b-477c-f279-aff2067ca933"
   },
   "outputs": [
    {
     "name": "stdout",
     "output_type": "stream",
     "text": [
      "Olá Mundo\n"
     ]
    }
   ],
   "source": [
    "print(\"Olá Mundo\")"
   ]
  },
  {
   "cell_type": "code",
   "execution_count": 2,
   "metadata": {
    "colab": {
     "base_uri": "https://localhost:8080/"
    },
    "id": "ssvhDFDPR258",
    "outputId": "5e34159b-0417-4667-cce8-03fa1468cccb"
   },
   "outputs": [
    {
     "name": "stdout",
     "output_type": "stream",
     "text": [
      "Estou aprendendo Python\n"
     ]
    }
   ],
   "source": [
    "print(\"Estou aprendendo Python\")"
   ]
  },
  {
   "cell_type": "code",
   "execution_count": 3,
   "metadata": {
    "colab": {
     "base_uri": "https://localhost:8080/",
     "height": 35
    },
    "id": "Z0A8NYFwR4dk",
    "outputId": "882c166c-a581-453a-ae1d-b5619695ff06"
   },
   "outputs": [
    {
     "data": {
      "application/vnd.google.colaboratory.intrinsic+json": {
       "type": "string"
      },
      "text/plain": [
       "'Estou aprendendo Python'"
      ]
     },
     "execution_count": 3,
     "metadata": {},
     "output_type": "execute_result"
    }
   ],
   "source": [
    "\"Estou aprendendo Python\""
   ]
  },
  {
   "cell_type": "code",
   "execution_count": 4,
   "metadata": {
    "colab": {
     "base_uri": "https://localhost:8080/"
    },
    "id": "Vi5TCIQHR7B_",
    "outputId": "9682b935-e2c4-4ee5-f8ff-8bb610f0f20c"
   },
   "outputs": [
    {
     "data": {
      "text/plain": [
       "2"
      ]
     },
     "execution_count": 4,
     "metadata": {},
     "output_type": "execute_result"
    }
   ],
   "source": [
    "1 + 1"
   ]
  },
  {
   "cell_type": "code",
   "execution_count": 5,
   "metadata": {
    "colab": {
     "base_uri": "https://localhost:8080/"
    },
    "id": "LcxTdwRDR9ZG",
    "outputId": "5b5833f5-21bb-44e2-95af-4bb9c6dd1597"
   },
   "outputs": [
    {
     "data": {
      "text/plain": [
       "8"
      ]
     },
     "execution_count": 5,
     "metadata": {},
     "output_type": "execute_result"
    }
   ],
   "source": [
    "10 - 2"
   ]
  },
  {
   "cell_type": "code",
   "execution_count": 6,
   "metadata": {
    "id": "rwi51cQ5R_dw"
   },
   "outputs": [],
   "source": [
    "#Esse é um comentário em Python"
   ]
  },
  {
   "cell_type": "code",
   "execution_count": 7,
   "metadata": {
    "colab": {
     "base_uri": "https://localhost:8080/"
    },
    "id": "B5EljXRsSC1R",
    "outputId": "0c9487cc-3f0b-49c4-d081-f8f7068f90fc"
   },
   "outputs": [
    {
     "data": {
      "text/plain": [
       "4"
      ]
     },
     "execution_count": 7,
     "metadata": {},
     "output_type": "execute_result"
    }
   ],
   "source": [
    "#Multiplicação\n",
    "2 * 2"
   ]
  },
  {
   "cell_type": "code",
   "execution_count": 8,
   "metadata": {
    "colab": {
     "base_uri": "https://localhost:8080/"
    },
    "id": "nbK5hQMGSKzk",
    "outputId": "0b149538-c087-47c3-9992-93e45f268b0e"
   },
   "outputs": [
    {
     "data": {
      "text/plain": [
       "5.0"
      ]
     },
     "execution_count": 8,
     "metadata": {},
     "output_type": "execute_result"
    }
   ],
   "source": [
    "#Divisão\n",
    "10/2"
   ]
  },
  {
   "cell_type": "code",
   "execution_count": 9,
   "metadata": {
    "id": "uB_X9nOGSNxl"
   },
   "outputs": [],
   "source": [
    "a = 4\n",
    "b = 6"
   ]
  },
  {
   "cell_type": "code",
   "execution_count": 10,
   "metadata": {
    "colab": {
     "base_uri": "https://localhost:8080/"
    },
    "id": "IhQtBDxASN8u",
    "outputId": "e4cef39a-dac9-43d3-9d03-f0abd25fcaa8"
   },
   "outputs": [
    {
     "data": {
      "text/plain": [
       "10"
      ]
     },
     "execution_count": 10,
     "metadata": {},
     "output_type": "execute_result"
    }
   ],
   "source": [
    "a + b"
   ]
  },
  {
   "cell_type": "code",
   "execution_count": 11,
   "metadata": {
    "id": "ED4722FrSN_o"
   },
   "outputs": [],
   "source": [
    "#Criando uma variável do tipo string\n",
    "frase = \"Python para análise de dados\""
   ]
  },
  {
   "cell_type": "code",
   "execution_count": 12,
   "metadata": {
    "colab": {
     "base_uri": "https://localhost:8080/",
     "height": 35
    },
    "id": "jLpf6Q5GSODG",
    "outputId": "bdd9672c-7207-4673-a9f8-9465a100473e"
   },
   "outputs": [
    {
     "data": {
      "application/vnd.google.colaboratory.intrinsic+json": {
       "type": "string"
      },
      "text/plain": [
       "'P'"
      ]
     },
     "execution_count": 12,
     "metadata": {},
     "output_type": "execute_result"
    }
   ],
   "source": [
    "frase[0]"
   ]
  },
  {
   "cell_type": "code",
   "execution_count": 13,
   "metadata": {
    "colab": {
     "base_uri": "https://localhost:8080/",
     "height": 35
    },
    "id": "VzMwizbNSOGB",
    "outputId": "9ead6984-dd87-4ebb-fb23-6384009bb10d"
   },
   "outputs": [
    {
     "data": {
      "application/vnd.google.colaboratory.intrinsic+json": {
       "type": "string"
      },
      "text/plain": [
       "'Python par'"
      ]
     },
     "execution_count": 13,
     "metadata": {},
     "output_type": "execute_result"
    }
   ],
   "source": [
    "frase[0:10]"
   ]
  },
  {
   "cell_type": "code",
   "execution_count": 14,
   "metadata": {
    "colab": {
     "base_uri": "https://localhost:8080/",
     "height": 35
    },
    "id": "UWPxeSluSOI-",
    "outputId": "7fcd0829-0e05-49e4-d97d-b7b7e4a121f7"
   },
   "outputs": [
    {
     "data": {
      "application/vnd.google.colaboratory.intrinsic+json": {
       "type": "string"
      },
      "text/plain": [
       "'a análise de dados'"
      ]
     },
     "execution_count": 14,
     "metadata": {},
     "output_type": "execute_result"
    }
   ],
   "source": [
    "frase[10:]"
   ]
  },
  {
   "cell_type": "code",
   "execution_count": 16,
   "metadata": {
    "colab": {
     "base_uri": "https://localhost:8080/",
     "height": 35
    },
    "id": "Lb0gwnLpSOL7",
    "outputId": "a17a22c6-5eb3-438d-87b1-2300fb3a3d2c"
   },
   "outputs": [
    {
     "data": {
      "application/vnd.google.colaboratory.intrinsic+json": {
       "type": "string"
      },
      "text/plain": [
       "'Python para análi'"
      ]
     },
     "execution_count": 16,
     "metadata": {},
     "output_type": "execute_result"
    }
   ],
   "source": [
    "frase[:17]"
   ]
  },
  {
   "cell_type": "code",
   "execution_count": 17,
   "metadata": {
    "colab": {
     "base_uri": "https://localhost:8080/"
    },
    "id": "f1EGpLjWSOO4",
    "outputId": "ffbb8a88-c91d-4dd9-9118-d85316418fb7"
   },
   "outputs": [
    {
     "data": {
      "text/plain": [
       "1"
      ]
     },
     "execution_count": 17,
     "metadata": {},
     "output_type": "execute_result"
    }
   ],
   "source": [
    "frase.count(\"dados\")"
   ]
  },
  {
   "cell_type": "code",
   "execution_count": 18,
   "metadata": {
    "colab": {
     "base_uri": "https://localhost:8080/",
     "height": 35
    },
    "id": "1nJmfzg3SOU_",
    "outputId": "d7b68454-ea10-4a29-f407-f227adf92338"
   },
   "outputs": [
    {
     "data": {
      "application/vnd.google.colaboratory.intrinsic+json": {
       "type": "string"
      },
      "text/plain": [
       "'python para análise de dados'"
      ]
     },
     "execution_count": 18,
     "metadata": {},
     "output_type": "execute_result"
    }
   ],
   "source": [
    "frase.lower()"
   ]
  },
  {
   "cell_type": "code",
   "execution_count": 19,
   "metadata": {
    "id": "gxjsBmVYSfd5"
   },
   "outputs": [],
   "source": [
    "frase = frase.upper()"
   ]
  },
  {
   "cell_type": "code",
   "execution_count": 20,
   "metadata": {
    "colab": {
     "base_uri": "https://localhost:8080/",
     "height": 35
    },
    "id": "69H6u5NLSfg3",
    "outputId": "ee96e77a-6349-454e-984e-3802ccf241d0"
   },
   "outputs": [
    {
     "data": {
      "application/vnd.google.colaboratory.intrinsic+json": {
       "type": "string"
      },
      "text/plain": [
       "'PYTHON PARA ANÁLISE DE DADOS'"
      ]
     },
     "execution_count": 20,
     "metadata": {},
     "output_type": "execute_result"
    }
   ],
   "source": [
    "frase.replace(\"Python\",\"Frases\")"
   ]
  },
  {
   "cell_type": "code",
   "execution_count": 21,
   "metadata": {
    "colab": {
     "base_uri": "https://localhost:8080/",
     "height": 35
    },
    "id": "bRPiSaTzSfjS",
    "outputId": "76195624-3eea-422d-85fa-0c1cbfdb9a15"
   },
   "outputs": [
    {
     "data": {
      "application/vnd.google.colaboratory.intrinsic+json": {
       "type": "string"
      },
      "text/plain": [
       "'PYTHON PARA ANÁLISE DE DADOS'"
      ]
     },
     "execution_count": 21,
     "metadata": {},
     "output_type": "execute_result"
    }
   ],
   "source": [
    "frase"
   ]
  },
  {
   "cell_type": "markdown",
   "metadata": {
    "id": "vzFO9Ac0SuG-"
   },
   "source": [
    "# **Estrutura de dados**"
   ]
  },
  {
   "cell_type": "markdown",
   "metadata": {
    "id": "3URdyIdqSzIv"
   },
   "source": [
    "## **Listas**"
   ]
  },
  {
   "cell_type": "code",
   "execution_count": 25,
   "metadata": {
    "colab": {
     "base_uri": "https://localhost:8080/"
    },
    "id": "x1AN9wTtSfow",
    "outputId": "36b5e94c-8471-47a2-9933-745312c6bee6"
   },
   "outputs": [
    {
     "data": {
      "text/plain": [
       "[1, 2, 3]"
      ]
     },
     "execution_count": 25,
     "metadata": {},
     "output_type": "execute_result"
    }
   ],
   "source": [
    "#Criando uma lista chamada animais\n",
    "animais = [1,2,3]\n",
    "animais"
   ]
  },
  {
   "cell_type": "code",
   "execution_count": 26,
   "metadata": {
    "colab": {
     "base_uri": "https://localhost:8080/"
    },
    "id": "_1FeTVQYSfro",
    "outputId": "a14153b5-269d-4218-98cf-14fda014e9a9"
   },
   "outputs": [
    {
     "data": {
      "text/plain": [
       "['cachorro', 'gato', 12345, 6.5]"
      ]
     },
     "execution_count": 26,
     "metadata": {},
     "output_type": "execute_result"
    }
   ],
   "source": [
    "animais = [\"cachorro\", \"gato\", 12345, 6.5]\n",
    "animais"
   ]
  },
  {
   "cell_type": "code",
   "execution_count": 27,
   "metadata": {
    "colab": {
     "base_uri": "https://localhost:8080/",
     "height": 35
    },
    "id": "YeLmDcISSfuf",
    "outputId": "6f78519b-70d1-47ef-fbfe-84340081893c"
   },
   "outputs": [
    {
     "data": {
      "application/vnd.google.colaboratory.intrinsic+json": {
       "type": "string"
      },
      "text/plain": [
       "'cachorro'"
      ]
     },
     "execution_count": 27,
     "metadata": {},
     "output_type": "execute_result"
    }
   ],
   "source": [
    "#Imprimindo o primeiro elemento da lista\n",
    "animais[0]"
   ]
  },
  {
   "cell_type": "code",
   "execution_count": 28,
   "metadata": {
    "colab": {
     "base_uri": "https://localhost:8080/"
    },
    "id": "3brNdG0iSfxX",
    "outputId": "c6643c55-9ed2-4c23-85a0-7930cbc6033c"
   },
   "outputs": [
    {
     "data": {
      "text/plain": [
       "6.5"
      ]
     },
     "execution_count": 28,
     "metadata": {},
     "output_type": "execute_result"
    }
   ],
   "source": [
    "#Imprimindo o 4 elemento da lista\n",
    "animais[3]"
   ]
  },
  {
   "cell_type": "code",
   "execution_count": 30,
   "metadata": {
    "id": "qds4UYPgSf0H"
   },
   "outputs": [],
   "source": [
    "#Substituindo o primeiro elemento da lista\n",
    "animais[0] = \"papagaio\""
   ]
  },
  {
   "cell_type": "code",
   "execution_count": 32,
   "metadata": {
    "colab": {
     "base_uri": "https://localhost:8080/"
    },
    "id": "e-P64FBsTEnj",
    "outputId": "ec81fd27-e373-49da-8fb4-f5150ccb1ce0"
   },
   "outputs": [
    {
     "data": {
      "text/plain": [
       "['papagaio', 12345, 6.5]"
      ]
     },
     "execution_count": 32,
     "metadata": {},
     "output_type": "execute_result"
    }
   ],
   "source": [
    "animais"
   ]
  },
  {
   "cell_type": "code",
   "execution_count": 33,
   "metadata": {
    "colab": {
     "base_uri": "https://localhost:8080/",
     "height": 180
    },
    "id": "WmCOFF5oSf22",
    "outputId": "e7193b8d-4da3-468c-d0d4-740efc051786"
   },
   "outputs": [
    {
     "ename": "ValueError",
     "evalue": "ignored",
     "output_type": "error",
     "traceback": [
      "\u001b[0;31m---------------------------------------------------------------------------\u001b[0m",
      "\u001b[0;31mValueError\u001b[0m                                Traceback (most recent call last)",
      "\u001b[0;32m<ipython-input-33-102787398db9>\u001b[0m in \u001b[0;36m<module>\u001b[0;34m()\u001b[0m\n\u001b[1;32m      1\u001b[0m \u001b[0;31m#Removendo gato da lista\u001b[0m\u001b[0;34m\u001b[0m\u001b[0;34m\u001b[0m\u001b[0;34m\u001b[0m\u001b[0m\n\u001b[0;32m----> 2\u001b[0;31m \u001b[0manimais\u001b[0m\u001b[0;34m.\u001b[0m\u001b[0mremove\u001b[0m\u001b[0;34m(\u001b[0m\u001b[0;34m\"gato\"\u001b[0m\u001b[0;34m)\u001b[0m\u001b[0;34m\u001b[0m\u001b[0;34m\u001b[0m\u001b[0m\n\u001b[0m",
      "\u001b[0;31mValueError\u001b[0m: list.remove(x): x not in list"
     ]
    }
   ],
   "source": [
    "#Removendo gato da lista\n",
    "animais.remove(\"gato\")"
   ]
  },
  {
   "cell_type": "code",
   "execution_count": 34,
   "metadata": {
    "colab": {
     "base_uri": "https://localhost:8080/"
    },
    "id": "uq-EyGTqSf5b",
    "outputId": "11a9e251-ef0c-4122-def0-c89f7e6f322d"
   },
   "outputs": [
    {
     "data": {
      "text/plain": [
       "['papagaio', 12345, 6.5]"
      ]
     },
     "execution_count": 34,
     "metadata": {},
     "output_type": "execute_result"
    }
   ],
   "source": [
    "animais"
   ]
  },
  {
   "cell_type": "code",
   "execution_count": 35,
   "metadata": {
    "colab": {
     "base_uri": "https://localhost:8080/"
    },
    "id": "-vB1qEE6S8Ej",
    "outputId": "76c2e3b3-da41-4b70-cdb7-2c4b99a153ee"
   },
   "outputs": [
    {
     "data": {
      "text/plain": [
       "3"
      ]
     },
     "execution_count": 35,
     "metadata": {},
     "output_type": "execute_result"
    }
   ],
   "source": [
    "len(animais)"
   ]
  },
  {
   "cell_type": "code",
   "execution_count": 36,
   "metadata": {
    "colab": {
     "base_uri": "https://localhost:8080/"
    },
    "id": "bMiQ18SAS8A7",
    "outputId": "034af930-ac33-4aa8-f370-5b3e27c5af3e"
   },
   "outputs": [
    {
     "data": {
      "text/plain": [
       "False"
      ]
     },
     "execution_count": 36,
     "metadata": {},
     "output_type": "execute_result"
    }
   ],
   "source": [
    "\"gato\" in animais"
   ]
  },
  {
   "cell_type": "code",
   "execution_count": 37,
   "metadata": {
    "id": "8-mMy9aDS7-O"
   },
   "outputs": [],
   "source": [
    "lista = [500, 30, 300, 80, 10]"
   ]
  },
  {
   "cell_type": "code",
   "execution_count": 38,
   "metadata": {
    "colab": {
     "base_uri": "https://localhost:8080/"
    },
    "id": "vTbJ1VwJTV1h",
    "outputId": "af8fe6f2-6415-46a0-ebac-51bafa6deef3"
   },
   "outputs": [
    {
     "data": {
      "text/plain": [
       "500"
      ]
     },
     "execution_count": 38,
     "metadata": {},
     "output_type": "execute_result"
    }
   ],
   "source": [
    "max(lista)"
   ]
  },
  {
   "cell_type": "code",
   "execution_count": 39,
   "metadata": {
    "colab": {
     "base_uri": "https://localhost:8080/"
    },
    "id": "vHO-jMmLTV4l",
    "outputId": "a26befda-b16a-4bdd-8acb-5e38bf0a86b0"
   },
   "outputs": [
    {
     "data": {
      "text/plain": [
       "10"
      ]
     },
     "execution_count": 39,
     "metadata": {},
     "output_type": "execute_result"
    }
   ],
   "source": [
    "min(lista)"
   ]
  },
  {
   "cell_type": "code",
   "execution_count": 40,
   "metadata": {
    "id": "lyfUp7N_TV7m"
   },
   "outputs": [],
   "source": [
    "animais.append([\"leão\", \"Cachorro\"])"
   ]
  },
  {
   "cell_type": "code",
   "execution_count": 41,
   "metadata": {
    "colab": {
     "base_uri": "https://localhost:8080/"
    },
    "id": "ejRPSq5fTV-i",
    "outputId": "676352a2-24f4-41cb-f5ba-d3d3664398d6"
   },
   "outputs": [
    {
     "data": {
      "text/plain": [
       "['papagaio', 12345, 6.5, ['leão', 'Cachorro']]"
      ]
     },
     "execution_count": 41,
     "metadata": {},
     "output_type": "execute_result"
    }
   ],
   "source": [
    "animais"
   ]
  },
  {
   "cell_type": "code",
   "execution_count": 42,
   "metadata": {
    "id": "ncktpCJxTWBW"
   },
   "outputs": [],
   "source": [
    "animais.extend([\"cobra\", 6])"
   ]
  },
  {
   "cell_type": "code",
   "execution_count": 43,
   "metadata": {
    "colab": {
     "base_uri": "https://localhost:8080/"
    },
    "id": "q_jDBavfTWEL",
    "outputId": "464e10e0-4c20-436a-f5a9-f52b5afa7761"
   },
   "outputs": [
    {
     "data": {
      "text/plain": [
       "['papagaio', 12345, 6.5, ['leão', 'Cachorro'], 'cobra', 6]"
      ]
     },
     "execution_count": 43,
     "metadata": {},
     "output_type": "execute_result"
    }
   ],
   "source": [
    "animais"
   ]
  },
  {
   "cell_type": "code",
   "execution_count": 44,
   "metadata": {
    "colab": {
     "base_uri": "https://localhost:8080/"
    },
    "id": "YW3WRr_vS77L",
    "outputId": "17809973-53f9-4092-93d8-c0a77acce140"
   },
   "outputs": [
    {
     "data": {
      "text/plain": [
       "0"
      ]
     },
     "execution_count": 44,
     "metadata": {},
     "output_type": "execute_result"
    }
   ],
   "source": [
    "animais.count(\"leão\")"
   ]
  },
  {
   "cell_type": "code",
   "execution_count": 45,
   "metadata": {
    "id": "9k6PA8zrTcz-"
   },
   "outputs": [],
   "source": [
    "lista.sort()"
   ]
  },
  {
   "cell_type": "code",
   "execution_count": 46,
   "metadata": {
    "colab": {
     "base_uri": "https://localhost:8080/"
    },
    "id": "etq5k5HlTc3F",
    "outputId": "071c10b9-8cff-4f9e-e65c-f06164f4a140"
   },
   "outputs": [
    {
     "data": {
      "text/plain": [
       "[10, 30, 80, 300, 500]"
      ]
     },
     "execution_count": 46,
     "metadata": {},
     "output_type": "execute_result"
    }
   ],
   "source": [
    "lista"
   ]
  },
  {
   "cell_type": "markdown",
   "metadata": {
    "id": "bUfsfNfgTtpb"
   },
   "source": [
    "# **Tuplas**"
   ]
  },
  {
   "cell_type": "code",
   "execution_count": 47,
   "metadata": {
    "id": "lX1uc_icTc59"
   },
   "outputs": [],
   "source": [
    "#As tuplas usam parênteses como sintaxe\n",
    "tp = (\"Banana\", \"Maçã\", 10, 50)"
   ]
  },
  {
   "cell_type": "code",
   "execution_count": 48,
   "metadata": {
    "colab": {
     "base_uri": "https://localhost:8080/",
     "height": 35
    },
    "id": "H0PeO3nvTc8x",
    "outputId": "bb3b5927-32df-4765-ed5c-d64cc7008426"
   },
   "outputs": [
    {
     "data": {
      "application/vnd.google.colaboratory.intrinsic+json": {
       "type": "string"
      },
      "text/plain": [
       "'Banana'"
      ]
     },
     "execution_count": 48,
     "metadata": {},
     "output_type": "execute_result"
    }
   ],
   "source": [
    "#Retornando o primeiro elemento\n",
    "tp[0]"
   ]
  },
  {
   "cell_type": "code",
   "execution_count": 49,
   "metadata": {
    "colab": {
     "base_uri": "https://localhost:8080/",
     "height": 180
    },
    "id": "Bjg-AdEQTc_v",
    "outputId": "289c6bf7-15b9-41bc-87b5-af0e461d740a"
   },
   "outputs": [
    {
     "ename": "TypeError",
     "evalue": "ignored",
     "output_type": "error",
     "traceback": [
      "\u001b[0;31m---------------------------------------------------------------------------\u001b[0m",
      "\u001b[0;31mTypeError\u001b[0m                                 Traceback (most recent call last)",
      "\u001b[0;32m<ipython-input-49-9264cd18bf8a>\u001b[0m in \u001b[0;36m<module>\u001b[0;34m()\u001b[0m\n\u001b[1;32m      1\u001b[0m \u001b[0;31m#Diferente das listas as tuplas são imutáveis, o que quer dizer que não podemos alterar os seus elementos\u001b[0m\u001b[0;34m\u001b[0m\u001b[0;34m\u001b[0m\u001b[0;34m\u001b[0m\u001b[0m\n\u001b[0;32m----> 2\u001b[0;31m \u001b[0mtp\u001b[0m\u001b[0;34m[\u001b[0m\u001b[0;36m0\u001b[0m\u001b[0;34m]\u001b[0m \u001b[0;34m=\u001b[0m \u001b[0;34m\"Laranja\"\u001b[0m\u001b[0;34m\u001b[0m\u001b[0;34m\u001b[0m\u001b[0m\n\u001b[0m",
      "\u001b[0;31mTypeError\u001b[0m: 'tuple' object does not support item assignment"
     ]
    }
   ],
   "source": [
    "#Diferente das listas as tuplas são imutáveis, o que quer dizer que não podemos alterar os seus elementos\n",
    "tp[0] = \"Laranja\""
   ]
  },
  {
   "cell_type": "code",
   "execution_count": 50,
   "metadata": {
    "colab": {
     "base_uri": "https://localhost:8080/"
    },
    "id": "6i3itgrnTdCW",
    "outputId": "08cc9f98-6a2d-4f5d-ffd7-011a31529527"
   },
   "outputs": [
    {
     "data": {
      "text/plain": [
       "1"
      ]
     },
     "execution_count": 50,
     "metadata": {},
     "output_type": "execute_result"
    }
   ],
   "source": [
    "tp.count(\"Maçã\")"
   ]
  },
  {
   "cell_type": "code",
   "execution_count": 51,
   "metadata": {
    "colab": {
     "base_uri": "https://localhost:8080/"
    },
    "id": "UXglwJ6WT201",
    "outputId": "76ae9adb-c34e-4856-a35b-22861aff4fd9"
   },
   "outputs": [
    {
     "data": {
      "text/plain": [
       "('Banana', 'Maçã')"
      ]
     },
     "execution_count": 51,
     "metadata": {},
     "output_type": "execute_result"
    }
   ],
   "source": [
    "tp[0:2]"
   ]
  },
  {
   "cell_type": "markdown",
   "metadata": {
    "id": "FiAn77JlT-ll"
   },
   "source": [
    "# **Dicionários**"
   ]
  },
  {
   "cell_type": "code",
   "execution_count": 53,
   "metadata": {
    "id": "-TxcKDekT23v"
   },
   "outputs": [],
   "source": [
    "#Para criar um dicionário utilizamos as {}\n",
    "dc = {\"Maçã\":20, \"Banana\":10, \"Laranja\":15, \"Uva\":5} #Dicionários trabalham com o condeito chave e valor"
   ]
  },
  {
   "cell_type": "code",
   "execution_count": 54,
   "metadata": {
    "colab": {
     "base_uri": "https://localhost:8080/"
    },
    "id": "8vdHi51mT26k",
    "outputId": "6b083c11-d487-410b-ffbb-95c49ab36408"
   },
   "outputs": [
    {
     "data": {
      "text/plain": [
       "{'Banana': 10, 'Laranja': 15, 'Maçã': 20, 'Uva': 5}"
      ]
     },
     "execution_count": 54,
     "metadata": {},
     "output_type": "execute_result"
    }
   ],
   "source": [
    "dc"
   ]
  },
  {
   "cell_type": "code",
   "execution_count": 55,
   "metadata": {
    "colab": {
     "base_uri": "https://localhost:8080/"
    },
    "id": "TEwd5vUiT29e",
    "outputId": "eb571ae5-609a-4d49-d634-a43a39a1c4dd"
   },
   "outputs": [
    {
     "data": {
      "text/plain": [
       "20"
      ]
     },
     "execution_count": 55,
     "metadata": {},
     "output_type": "execute_result"
    }
   ],
   "source": [
    "#Acessando o valor de um dicionário através da chave\n",
    "dc[\"Maçã\"]"
   ]
  },
  {
   "cell_type": "code",
   "execution_count": 56,
   "metadata": {
    "colab": {
     "base_uri": "https://localhost:8080/"
    },
    "id": "vMLmnZ7XT3AS",
    "outputId": "13b09640-f507-4fe4-9537-c571d9dd863c"
   },
   "outputs": [
    {
     "data": {
      "text/plain": [
       "{'Banana': 10, 'Laranja': 15, 'Maçã': 25, 'Uva': 5}"
      ]
     },
     "execution_count": 56,
     "metadata": {},
     "output_type": "execute_result"
    }
   ],
   "source": [
    "#Atualizando o valor da Maçã\n",
    "dc[\"Maçã\"] = 25\n",
    "dc"
   ]
  },
  {
   "cell_type": "code",
   "execution_count": 57,
   "metadata": {
    "colab": {
     "base_uri": "https://localhost:8080/"
    },
    "id": "rx7eFglPT3DQ",
    "outputId": "4178015c-a282-4993-db61-d24840208098"
   },
   "outputs": [
    {
     "data": {
      "text/plain": [
       "dict_keys(['Maçã', 'Banana', 'Laranja', 'Uva'])"
      ]
     },
     "execution_count": 57,
     "metadata": {},
     "output_type": "execute_result"
    }
   ],
   "source": [
    "#Retornando todas as chaves do dicionário\n",
    "dc.keys()"
   ]
  },
  {
   "cell_type": "code",
   "execution_count": 58,
   "metadata": {
    "colab": {
     "base_uri": "https://localhost:8080/"
    },
    "id": "3e4TbpJRT3F3",
    "outputId": "20ba7c50-9abe-47ab-d58a-2945e3ba1e34"
   },
   "outputs": [
    {
     "data": {
      "text/plain": [
       "dict_values([25, 10, 15, 5])"
      ]
     },
     "execution_count": 58,
     "metadata": {},
     "output_type": "execute_result"
    }
   ],
   "source": [
    "#Retornando os valores do dicionário\n",
    "dc.values()"
   ]
  },
  {
   "cell_type": "code",
   "execution_count": 59,
   "metadata": {
    "colab": {
     "base_uri": "https://localhost:8080/"
    },
    "id": "AP7gM_9KT3Ip",
    "outputId": "c0b55f88-0bac-46ce-da5b-f93747ff9364"
   },
   "outputs": [
    {
     "data": {
      "text/plain": [
       "22"
      ]
     },
     "execution_count": 59,
     "metadata": {},
     "output_type": "execute_result"
    }
   ],
   "source": [
    "#Verificando se já existe uma chave no dicionário e caso não exista inserir\n",
    "dc.setdefault(\"Limão\", 22)"
   ]
  },
  {
   "cell_type": "code",
   "execution_count": 60,
   "metadata": {
    "colab": {
     "base_uri": "https://localhost:8080/"
    },
    "id": "Ou3kNoFgT3La",
    "outputId": "29b5ed58-4f23-499a-cdee-593eb7085f54"
   },
   "outputs": [
    {
     "data": {
      "text/plain": [
       "{'Banana': 10, 'Laranja': 15, 'Limão': 22, 'Maçã': 25, 'Uva': 5}"
      ]
     },
     "execution_count": 60,
     "metadata": {},
     "output_type": "execute_result"
    }
   ],
   "source": [
    "dc"
   ]
  },
  {
   "cell_type": "markdown",
   "metadata": {
    "id": "YjJ-jYtcUT13"
   },
   "source": [
    "# **Pandas**"
   ]
  },
  {
   "cell_type": "code",
   "execution_count": 2,
   "metadata": {
    "id": "UWV1j9zyT3O2"
   },
   "outputs": [],
   "source": [
    "#importando a biblioteca pandas\n",
    "import pandas as pd"
   ]
  },
  {
   "cell_type": "code",
   "execution_count": 3,
   "metadata": {
    "colab": {
     "base_uri": "https://localhost:8080/",
     "height": 374
    },
    "id": "F5A46epvT3R3",
    "outputId": "a5dbadc0-fcf7-407a-b2f4-a6d7d84a8bd3"
   },
   "outputs": [
    {
     "name": "stderr",
     "output_type": "stream",
     "text": [
      "/home/joao/anaconda3/lib/python3.8/site-packages/IPython/core/interactiveshell.py:3437: FutureWarning: The error_bad_lines argument has been deprecated and will be removed in a future version.\n",
      "\n",
      "\n",
      "  exec(code_obj, self.user_global_ns, self.user_ns)\n"
     ]
    }
   ],
   "source": [
    "df = pd.read_csv(\"/home/joao/Downloads/Cusro_Python_Pandas_Digital_Innovation-master/datasets/Gapminder.csv\",error_bad_lines=False, sep=\";\")"
   ]
  },
  {
   "cell_type": "code",
   "execution_count": 4,
   "metadata": {
    "id": "eQuOzb7fT3VJ"
   },
   "outputs": [
    {
     "data": {
      "text/html": [
       "<div>\n",
       "<style scoped>\n",
       "    .dataframe tbody tr th:only-of-type {\n",
       "        vertical-align: middle;\n",
       "    }\n",
       "\n",
       "    .dataframe tbody tr th {\n",
       "        vertical-align: top;\n",
       "    }\n",
       "\n",
       "    .dataframe thead th {\n",
       "        text-align: right;\n",
       "    }\n",
       "</style>\n",
       "<table border=\"1\" class=\"dataframe\">\n",
       "  <thead>\n",
       "    <tr style=\"text-align: right;\">\n",
       "      <th></th>\n",
       "      <th>country</th>\n",
       "      <th>continent</th>\n",
       "      <th>year</th>\n",
       "      <th>lifeExp</th>\n",
       "      <th>pop</th>\n",
       "      <th>gdpPercap</th>\n",
       "    </tr>\n",
       "  </thead>\n",
       "  <tbody>\n",
       "    <tr>\n",
       "      <th>0</th>\n",
       "      <td>Afghanistan</td>\n",
       "      <td>Asia</td>\n",
       "      <td>1952</td>\n",
       "      <td>28.801</td>\n",
       "      <td>8425333</td>\n",
       "      <td>779.445314</td>\n",
       "    </tr>\n",
       "    <tr>\n",
       "      <th>1</th>\n",
       "      <td>Afghanistan</td>\n",
       "      <td>Asia</td>\n",
       "      <td>1957</td>\n",
       "      <td>30.332</td>\n",
       "      <td>9240934</td>\n",
       "      <td>820.853030</td>\n",
       "    </tr>\n",
       "    <tr>\n",
       "      <th>2</th>\n",
       "      <td>Afghanistan</td>\n",
       "      <td>Asia</td>\n",
       "      <td>1962</td>\n",
       "      <td>31.997</td>\n",
       "      <td>10267083</td>\n",
       "      <td>853.100710</td>\n",
       "    </tr>\n",
       "    <tr>\n",
       "      <th>3</th>\n",
       "      <td>Afghanistan</td>\n",
       "      <td>Asia</td>\n",
       "      <td>1967</td>\n",
       "      <td>34.020</td>\n",
       "      <td>11537966</td>\n",
       "      <td>836.197138</td>\n",
       "    </tr>\n",
       "    <tr>\n",
       "      <th>4</th>\n",
       "      <td>Afghanistan</td>\n",
       "      <td>Asia</td>\n",
       "      <td>1972</td>\n",
       "      <td>36.088</td>\n",
       "      <td>13079460</td>\n",
       "      <td>739.981106</td>\n",
       "    </tr>\n",
       "  </tbody>\n",
       "</table>\n",
       "</div>"
      ],
      "text/plain": [
       "       country continent  year  lifeExp       pop   gdpPercap\n",
       "0  Afghanistan      Asia  1952   28.801   8425333  779.445314\n",
       "1  Afghanistan      Asia  1957   30.332   9240934  820.853030\n",
       "2  Afghanistan      Asia  1962   31.997  10267083  853.100710\n",
       "3  Afghanistan      Asia  1967   34.020  11537966  836.197138\n",
       "4  Afghanistan      Asia  1972   36.088  13079460  739.981106"
      ]
     },
     "execution_count": 4,
     "metadata": {},
     "output_type": "execute_result"
    }
   ],
   "source": [
    "#Visualizando as 5 primeiras linhas\n",
    "df.head()"
   ]
  },
  {
   "cell_type": "code",
   "execution_count": 6,
   "metadata": {},
   "outputs": [],
   "source": [
    "df = df.rename(columns={\"country\":\"Pais\", \"continent\": \"continente\", \"year\":\"Ano\", \"lifeExp\":\"Expectativa de vida\", \"pop\":\"Pop Total\", \"gdpPercap\": \"PIB\"})"
   ]
  },
  {
   "cell_type": "code",
   "execution_count": 7,
   "metadata": {},
   "outputs": [
    {
     "data": {
      "text/html": [
       "<div>\n",
       "<style scoped>\n",
       "    .dataframe tbody tr th:only-of-type {\n",
       "        vertical-align: middle;\n",
       "    }\n",
       "\n",
       "    .dataframe tbody tr th {\n",
       "        vertical-align: top;\n",
       "    }\n",
       "\n",
       "    .dataframe thead th {\n",
       "        text-align: right;\n",
       "    }\n",
       "</style>\n",
       "<table border=\"1\" class=\"dataframe\">\n",
       "  <thead>\n",
       "    <tr style=\"text-align: right;\">\n",
       "      <th></th>\n",
       "      <th>Pais</th>\n",
       "      <th>continente</th>\n",
       "      <th>Ano</th>\n",
       "      <th>Expectativa de vida</th>\n",
       "      <th>Pop Total</th>\n",
       "      <th>PIB</th>\n",
       "    </tr>\n",
       "  </thead>\n",
       "  <tbody>\n",
       "    <tr>\n",
       "      <th>0</th>\n",
       "      <td>Afghanistan</td>\n",
       "      <td>Asia</td>\n",
       "      <td>1952</td>\n",
       "      <td>28.801</td>\n",
       "      <td>8425333</td>\n",
       "      <td>779.445314</td>\n",
       "    </tr>\n",
       "    <tr>\n",
       "      <th>1</th>\n",
       "      <td>Afghanistan</td>\n",
       "      <td>Asia</td>\n",
       "      <td>1957</td>\n",
       "      <td>30.332</td>\n",
       "      <td>9240934</td>\n",
       "      <td>820.853030</td>\n",
       "    </tr>\n",
       "    <tr>\n",
       "      <th>2</th>\n",
       "      <td>Afghanistan</td>\n",
       "      <td>Asia</td>\n",
       "      <td>1962</td>\n",
       "      <td>31.997</td>\n",
       "      <td>10267083</td>\n",
       "      <td>853.100710</td>\n",
       "    </tr>\n",
       "    <tr>\n",
       "      <th>3</th>\n",
       "      <td>Afghanistan</td>\n",
       "      <td>Asia</td>\n",
       "      <td>1967</td>\n",
       "      <td>34.020</td>\n",
       "      <td>11537966</td>\n",
       "      <td>836.197138</td>\n",
       "    </tr>\n",
       "    <tr>\n",
       "      <th>4</th>\n",
       "      <td>Afghanistan</td>\n",
       "      <td>Asia</td>\n",
       "      <td>1972</td>\n",
       "      <td>36.088</td>\n",
       "      <td>13079460</td>\n",
       "      <td>739.981106</td>\n",
       "    </tr>\n",
       "    <tr>\n",
       "      <th>5</th>\n",
       "      <td>Afghanistan</td>\n",
       "      <td>Asia</td>\n",
       "      <td>1977</td>\n",
       "      <td>38.438</td>\n",
       "      <td>14880372</td>\n",
       "      <td>786.113360</td>\n",
       "    </tr>\n",
       "    <tr>\n",
       "      <th>6</th>\n",
       "      <td>Afghanistan</td>\n",
       "      <td>Asia</td>\n",
       "      <td>1982</td>\n",
       "      <td>39.854</td>\n",
       "      <td>12881816</td>\n",
       "      <td>978.011439</td>\n",
       "    </tr>\n",
       "    <tr>\n",
       "      <th>7</th>\n",
       "      <td>Afghanistan</td>\n",
       "      <td>Asia</td>\n",
       "      <td>1987</td>\n",
       "      <td>40.822</td>\n",
       "      <td>13867957</td>\n",
       "      <td>852.395945</td>\n",
       "    </tr>\n",
       "    <tr>\n",
       "      <th>8</th>\n",
       "      <td>Afghanistan</td>\n",
       "      <td>Asia</td>\n",
       "      <td>1992</td>\n",
       "      <td>41.674</td>\n",
       "      <td>16317921</td>\n",
       "      <td>649.341395</td>\n",
       "    </tr>\n",
       "    <tr>\n",
       "      <th>9</th>\n",
       "      <td>Afghanistan</td>\n",
       "      <td>Asia</td>\n",
       "      <td>1997</td>\n",
       "      <td>41.763</td>\n",
       "      <td>22227415</td>\n",
       "      <td>635.341351</td>\n",
       "    </tr>\n",
       "  </tbody>\n",
       "</table>\n",
       "</div>"
      ],
      "text/plain": [
       "          Pais continente   Ano  Expectativa de vida  Pop Total         PIB\n",
       "0  Afghanistan       Asia  1952               28.801    8425333  779.445314\n",
       "1  Afghanistan       Asia  1957               30.332    9240934  820.853030\n",
       "2  Afghanistan       Asia  1962               31.997   10267083  853.100710\n",
       "3  Afghanistan       Asia  1967               34.020   11537966  836.197138\n",
       "4  Afghanistan       Asia  1972               36.088   13079460  739.981106\n",
       "5  Afghanistan       Asia  1977               38.438   14880372  786.113360\n",
       "6  Afghanistan       Asia  1982               39.854   12881816  978.011439\n",
       "7  Afghanistan       Asia  1987               40.822   13867957  852.395945\n",
       "8  Afghanistan       Asia  1992               41.674   16317921  649.341395\n",
       "9  Afghanistan       Asia  1997               41.763   22227415  635.341351"
      ]
     },
     "execution_count": 7,
     "metadata": {},
     "output_type": "execute_result"
    }
   ],
   "source": [
    "df.head(10)"
   ]
  },
  {
   "cell_type": "code",
   "execution_count": 8,
   "metadata": {},
   "outputs": [
    {
     "data": {
      "text/plain": [
       "(3312, 6)"
      ]
     },
     "execution_count": 8,
     "metadata": {},
     "output_type": "execute_result"
    }
   ],
   "source": [
    "#Total de linhas e colunas\n",
    "df.shape"
   ]
  },
  {
   "cell_type": "code",
   "execution_count": 9,
   "metadata": {},
   "outputs": [
    {
     "data": {
      "text/plain": [
       "Index(['Pais', 'continente', 'Ano', 'Expectativa de vida', 'Pop Total', 'PIB'], dtype='object')"
      ]
     },
     "execution_count": 9,
     "metadata": {},
     "output_type": "execute_result"
    }
   ],
   "source": [
    "df.columns"
   ]
  },
  {
   "cell_type": "code",
   "execution_count": 10,
   "metadata": {},
   "outputs": [
    {
     "data": {
      "text/plain": [
       "Pais                    object\n",
       "continente              object\n",
       "Ano                      int64\n",
       "Expectativa de vida    float64\n",
       "Pop Total                int64\n",
       "PIB                    float64\n",
       "dtype: object"
      ]
     },
     "execution_count": 10,
     "metadata": {},
     "output_type": "execute_result"
    }
   ],
   "source": [
    "df.dtypes"
   ]
  },
  {
   "cell_type": "code",
   "execution_count": 11,
   "metadata": {},
   "outputs": [
    {
     "data": {
      "text/html": [
       "<div>\n",
       "<style scoped>\n",
       "    .dataframe tbody tr th:only-of-type {\n",
       "        vertical-align: middle;\n",
       "    }\n",
       "\n",
       "    .dataframe tbody tr th {\n",
       "        vertical-align: top;\n",
       "    }\n",
       "\n",
       "    .dataframe thead th {\n",
       "        text-align: right;\n",
       "    }\n",
       "</style>\n",
       "<table border=\"1\" class=\"dataframe\">\n",
       "  <thead>\n",
       "    <tr style=\"text-align: right;\">\n",
       "      <th></th>\n",
       "      <th>Pais</th>\n",
       "      <th>continente</th>\n",
       "      <th>Ano</th>\n",
       "      <th>Expectativa de vida</th>\n",
       "      <th>Pop Total</th>\n",
       "      <th>PIB</th>\n",
       "    </tr>\n",
       "  </thead>\n",
       "  <tbody>\n",
       "    <tr>\n",
       "      <th>3297</th>\n",
       "      <td>Zambia</td>\n",
       "      <td>Africa</td>\n",
       "      <td>1997</td>\n",
       "      <td>40.238</td>\n",
       "      <td>9417789</td>\n",
       "      <td>1071.353818</td>\n",
       "    </tr>\n",
       "    <tr>\n",
       "      <th>3298</th>\n",
       "      <td>Zambia</td>\n",
       "      <td>Africa</td>\n",
       "      <td>2002</td>\n",
       "      <td>39.193</td>\n",
       "      <td>10595811</td>\n",
       "      <td>1071.613938</td>\n",
       "    </tr>\n",
       "    <tr>\n",
       "      <th>3299</th>\n",
       "      <td>Zambia</td>\n",
       "      <td>Africa</td>\n",
       "      <td>2007</td>\n",
       "      <td>42.384</td>\n",
       "      <td>11746035</td>\n",
       "      <td>1271.211593</td>\n",
       "    </tr>\n",
       "    <tr>\n",
       "      <th>3300</th>\n",
       "      <td>Zimbabwe</td>\n",
       "      <td>Africa</td>\n",
       "      <td>1952</td>\n",
       "      <td>48.451</td>\n",
       "      <td>3080907</td>\n",
       "      <td>406.884115</td>\n",
       "    </tr>\n",
       "    <tr>\n",
       "      <th>3301</th>\n",
       "      <td>Zimbabwe</td>\n",
       "      <td>Africa</td>\n",
       "      <td>1957</td>\n",
       "      <td>50.469</td>\n",
       "      <td>3646340</td>\n",
       "      <td>518.764268</td>\n",
       "    </tr>\n",
       "    <tr>\n",
       "      <th>3302</th>\n",
       "      <td>Zimbabwe</td>\n",
       "      <td>Africa</td>\n",
       "      <td>1962</td>\n",
       "      <td>52.358</td>\n",
       "      <td>4277736</td>\n",
       "      <td>527.272182</td>\n",
       "    </tr>\n",
       "    <tr>\n",
       "      <th>3303</th>\n",
       "      <td>Zimbabwe</td>\n",
       "      <td>Africa</td>\n",
       "      <td>1967</td>\n",
       "      <td>53.995</td>\n",
       "      <td>4995432</td>\n",
       "      <td>569.795071</td>\n",
       "    </tr>\n",
       "    <tr>\n",
       "      <th>3304</th>\n",
       "      <td>Zimbabwe</td>\n",
       "      <td>Africa</td>\n",
       "      <td>1972</td>\n",
       "      <td>55.635</td>\n",
       "      <td>5861135</td>\n",
       "      <td>799.362176</td>\n",
       "    </tr>\n",
       "    <tr>\n",
       "      <th>3305</th>\n",
       "      <td>Zimbabwe</td>\n",
       "      <td>Africa</td>\n",
       "      <td>1977</td>\n",
       "      <td>57.674</td>\n",
       "      <td>6642107</td>\n",
       "      <td>685.587682</td>\n",
       "    </tr>\n",
       "    <tr>\n",
       "      <th>3306</th>\n",
       "      <td>Zimbabwe</td>\n",
       "      <td>Africa</td>\n",
       "      <td>1982</td>\n",
       "      <td>60.363</td>\n",
       "      <td>7636524</td>\n",
       "      <td>788.855041</td>\n",
       "    </tr>\n",
       "    <tr>\n",
       "      <th>3307</th>\n",
       "      <td>Zimbabwe</td>\n",
       "      <td>Africa</td>\n",
       "      <td>1987</td>\n",
       "      <td>62.351</td>\n",
       "      <td>9216418</td>\n",
       "      <td>706.157306</td>\n",
       "    </tr>\n",
       "    <tr>\n",
       "      <th>3308</th>\n",
       "      <td>Zimbabwe</td>\n",
       "      <td>Africa</td>\n",
       "      <td>1992</td>\n",
       "      <td>60.377</td>\n",
       "      <td>10704340</td>\n",
       "      <td>693.420786</td>\n",
       "    </tr>\n",
       "    <tr>\n",
       "      <th>3309</th>\n",
       "      <td>Zimbabwe</td>\n",
       "      <td>Africa</td>\n",
       "      <td>1997</td>\n",
       "      <td>46.809</td>\n",
       "      <td>11404948</td>\n",
       "      <td>792.449960</td>\n",
       "    </tr>\n",
       "    <tr>\n",
       "      <th>3310</th>\n",
       "      <td>Zimbabwe</td>\n",
       "      <td>Africa</td>\n",
       "      <td>2002</td>\n",
       "      <td>39.989</td>\n",
       "      <td>11926563</td>\n",
       "      <td>672.038623</td>\n",
       "    </tr>\n",
       "    <tr>\n",
       "      <th>3311</th>\n",
       "      <td>Zimbabwe</td>\n",
       "      <td>Africa</td>\n",
       "      <td>2007</td>\n",
       "      <td>43.487</td>\n",
       "      <td>12311143</td>\n",
       "      <td>469.709298</td>\n",
       "    </tr>\n",
       "  </tbody>\n",
       "</table>\n",
       "</div>"
      ],
      "text/plain": [
       "          Pais continente   Ano  Expectativa de vida  Pop Total          PIB\n",
       "3297    Zambia     Africa  1997               40.238    9417789  1071.353818\n",
       "3298    Zambia     Africa  2002               39.193   10595811  1071.613938\n",
       "3299    Zambia     Africa  2007               42.384   11746035  1271.211593\n",
       "3300  Zimbabwe     Africa  1952               48.451    3080907   406.884115\n",
       "3301  Zimbabwe     Africa  1957               50.469    3646340   518.764268\n",
       "3302  Zimbabwe     Africa  1962               52.358    4277736   527.272182\n",
       "3303  Zimbabwe     Africa  1967               53.995    4995432   569.795071\n",
       "3304  Zimbabwe     Africa  1972               55.635    5861135   799.362176\n",
       "3305  Zimbabwe     Africa  1977               57.674    6642107   685.587682\n",
       "3306  Zimbabwe     Africa  1982               60.363    7636524   788.855041\n",
       "3307  Zimbabwe     Africa  1987               62.351    9216418   706.157306\n",
       "3308  Zimbabwe     Africa  1992               60.377   10704340   693.420786\n",
       "3309  Zimbabwe     Africa  1997               46.809   11404948   792.449960\n",
       "3310  Zimbabwe     Africa  2002               39.989   11926563   672.038623\n",
       "3311  Zimbabwe     Africa  2007               43.487   12311143   469.709298"
      ]
     },
     "execution_count": 11,
     "metadata": {},
     "output_type": "execute_result"
    }
   ],
   "source": [
    "df.tail(15)"
   ]
  },
  {
   "cell_type": "code",
   "execution_count": 12,
   "metadata": {},
   "outputs": [
    {
     "data": {
      "text/html": [
       "<div>\n",
       "<style scoped>\n",
       "    .dataframe tbody tr th:only-of-type {\n",
       "        vertical-align: middle;\n",
       "    }\n",
       "\n",
       "    .dataframe tbody tr th {\n",
       "        vertical-align: top;\n",
       "    }\n",
       "\n",
       "    .dataframe thead th {\n",
       "        text-align: right;\n",
       "    }\n",
       "</style>\n",
       "<table border=\"1\" class=\"dataframe\">\n",
       "  <thead>\n",
       "    <tr style=\"text-align: right;\">\n",
       "      <th></th>\n",
       "      <th>Ano</th>\n",
       "      <th>Expectativa de vida</th>\n",
       "      <th>Pop Total</th>\n",
       "      <th>PIB</th>\n",
       "    </tr>\n",
       "  </thead>\n",
       "  <tbody>\n",
       "    <tr>\n",
       "      <th>count</th>\n",
       "      <td>3312.000000</td>\n",
       "      <td>3312.000000</td>\n",
       "      <td>3.312000e+03</td>\n",
       "      <td>3312.000000</td>\n",
       "    </tr>\n",
       "    <tr>\n",
       "      <th>mean</th>\n",
       "      <td>1980.301630</td>\n",
       "      <td>65.246871</td>\n",
       "      <td>3.161489e+07</td>\n",
       "      <td>11317.115805</td>\n",
       "    </tr>\n",
       "    <tr>\n",
       "      <th>std</th>\n",
       "      <td>16.927294</td>\n",
       "      <td>11.768412</td>\n",
       "      <td>1.041193e+08</td>\n",
       "      <td>11369.142739</td>\n",
       "    </tr>\n",
       "    <tr>\n",
       "      <th>min</th>\n",
       "      <td>1950.000000</td>\n",
       "      <td>23.599000</td>\n",
       "      <td>5.941200e+04</td>\n",
       "      <td>241.165876</td>\n",
       "    </tr>\n",
       "    <tr>\n",
       "      <th>25%</th>\n",
       "      <td>1967.000000</td>\n",
       "      <td>58.337500</td>\n",
       "      <td>2.678572e+06</td>\n",
       "      <td>2514.625266</td>\n",
       "    </tr>\n",
       "    <tr>\n",
       "      <th>50%</th>\n",
       "      <td>1982.000000</td>\n",
       "      <td>69.610000</td>\n",
       "      <td>7.557218e+06</td>\n",
       "      <td>7838.505123</td>\n",
       "    </tr>\n",
       "    <tr>\n",
       "      <th>75%</th>\n",
       "      <td>1996.000000</td>\n",
       "      <td>73.657750</td>\n",
       "      <td>1.958522e+07</td>\n",
       "      <td>17357.879170</td>\n",
       "    </tr>\n",
       "    <tr>\n",
       "      <th>max</th>\n",
       "      <td>2007.000000</td>\n",
       "      <td>82.670000</td>\n",
       "      <td>1.318683e+09</td>\n",
       "      <td>113523.132900</td>\n",
       "    </tr>\n",
       "  </tbody>\n",
       "</table>\n",
       "</div>"
      ],
      "text/plain": [
       "               Ano  Expectativa de vida     Pop Total            PIB\n",
       "count  3312.000000          3312.000000  3.312000e+03    3312.000000\n",
       "mean   1980.301630            65.246871  3.161489e+07   11317.115805\n",
       "std      16.927294            11.768412  1.041193e+08   11369.142739\n",
       "min    1950.000000            23.599000  5.941200e+04     241.165876\n",
       "25%    1967.000000            58.337500  2.678572e+06    2514.625266\n",
       "50%    1982.000000            69.610000  7.557218e+06    7838.505123\n",
       "75%    1996.000000            73.657750  1.958522e+07   17357.879170\n",
       "max    2007.000000            82.670000  1.318683e+09  113523.132900"
      ]
     },
     "execution_count": 12,
     "metadata": {},
     "output_type": "execute_result"
    }
   ],
   "source": [
    "df.describe()"
   ]
  },
  {
   "cell_type": "code",
   "execution_count": 13,
   "metadata": {},
   "outputs": [
    {
     "data": {
      "text/plain": [
       "array(['Asia', 'Europe', 'Africa', 'Americas', nan, 'FSU', 'Oceania'],\n",
       "      dtype=object)"
      ]
     },
     "execution_count": 13,
     "metadata": {},
     "output_type": "execute_result"
    }
   ],
   "source": [
    "df[\"continente\"].unique()"
   ]
  },
  {
   "cell_type": "code",
   "execution_count": 14,
   "metadata": {},
   "outputs": [
    {
     "data": {
      "text/html": [
       "<div>\n",
       "<style scoped>\n",
       "    .dataframe tbody tr th:only-of-type {\n",
       "        vertical-align: middle;\n",
       "    }\n",
       "\n",
       "    .dataframe tbody tr th {\n",
       "        vertical-align: top;\n",
       "    }\n",
       "\n",
       "    .dataframe thead th {\n",
       "        text-align: right;\n",
       "    }\n",
       "</style>\n",
       "<table border=\"1\" class=\"dataframe\">\n",
       "  <thead>\n",
       "    <tr style=\"text-align: right;\">\n",
       "      <th></th>\n",
       "      <th>Pais</th>\n",
       "      <th>continente</th>\n",
       "      <th>Ano</th>\n",
       "      <th>Expectativa de vida</th>\n",
       "      <th>Pop Total</th>\n",
       "      <th>PIB</th>\n",
       "    </tr>\n",
       "  </thead>\n",
       "  <tbody>\n",
       "    <tr>\n",
       "      <th>975</th>\n",
       "      <td>Fiji</td>\n",
       "      <td>Oceania</td>\n",
       "      <td>1962</td>\n",
       "      <td>56.494</td>\n",
       "      <td>421869</td>\n",
       "      <td>2039.393277</td>\n",
       "    </tr>\n",
       "    <tr>\n",
       "      <th>976</th>\n",
       "      <td>Fiji</td>\n",
       "      <td>Oceania</td>\n",
       "      <td>1967</td>\n",
       "      <td>58.607</td>\n",
       "      <td>485000</td>\n",
       "      <td>2170.073285</td>\n",
       "    </tr>\n",
       "    <tr>\n",
       "      <th>977</th>\n",
       "      <td>Fiji</td>\n",
       "      <td>Oceania</td>\n",
       "      <td>1972</td>\n",
       "      <td>60.642</td>\n",
       "      <td>544000</td>\n",
       "      <td>2797.759484</td>\n",
       "    </tr>\n",
       "    <tr>\n",
       "      <th>978</th>\n",
       "      <td>Fiji</td>\n",
       "      <td>Oceania</td>\n",
       "      <td>1977</td>\n",
       "      <td>62.669</td>\n",
       "      <td>599339</td>\n",
       "      <td>3182.569600</td>\n",
       "    </tr>\n",
       "    <tr>\n",
       "      <th>979</th>\n",
       "      <td>Fiji</td>\n",
       "      <td>Oceania</td>\n",
       "      <td>1982</td>\n",
       "      <td>64.683</td>\n",
       "      <td>658906</td>\n",
       "      <td>3209.257468</td>\n",
       "    </tr>\n",
       "  </tbody>\n",
       "</table>\n",
       "</div>"
      ],
      "text/plain": [
       "     Pais continente   Ano  Expectativa de vida  Pop Total          PIB\n",
       "975  Fiji    Oceania  1962               56.494     421869  2039.393277\n",
       "976  Fiji    Oceania  1967               58.607     485000  2170.073285\n",
       "977  Fiji    Oceania  1972               60.642     544000  2797.759484\n",
       "978  Fiji    Oceania  1977               62.669     599339  3182.569600\n",
       "979  Fiji    Oceania  1982               64.683     658906  3209.257468"
      ]
     },
     "execution_count": 14,
     "metadata": {},
     "output_type": "execute_result"
    }
   ],
   "source": [
    "Oceania = df.loc[df[\"continente\"] == \"Oceania\"]\n",
    "Oceania.head()"
   ]
  },
  {
   "cell_type": "code",
   "execution_count": 15,
   "metadata": {},
   "outputs": [
    {
     "data": {
      "text/plain": [
       "array(['Oceania'], dtype=object)"
      ]
     },
     "execution_count": 15,
     "metadata": {},
     "output_type": "execute_result"
    }
   ],
   "source": [
    "Oceania[\"continente\"].unique()"
   ]
  },
  {
   "cell_type": "code",
   "execution_count": 17,
   "metadata": {},
   "outputs": [
    {
     "data": {
      "text/plain": [
       "continente\n",
       "Africa      51\n",
       "Americas    25\n",
       "Asia        41\n",
       "Europe      35\n",
       "FSU          6\n",
       "Oceania      3\n",
       "Name: Pais, dtype: int64"
      ]
     },
     "execution_count": 17,
     "metadata": {},
     "output_type": "execute_result"
    }
   ],
   "source": [
    "df.groupby(\"continente\")[\"Pais\"].nunique()"
   ]
  },
  {
   "cell_type": "code",
   "execution_count": 18,
   "metadata": {},
   "outputs": [
    {
     "data": {
      "text/plain": [
       "Ano\n",
       "1950    62.002568\n",
       "1951    65.904167\n",
       "1952    49.206867\n",
       "1953    66.674563\n",
       "1954    67.459817\n",
       "1955    67.806757\n",
       "1956    67.950637\n",
       "1957    51.614590\n",
       "1958    68.815936\n",
       "1959    68.226579\n",
       "1960    68.470837\n",
       "1961    68.862480\n",
       "1962    54.035234\n",
       "1963    69.595735\n",
       "1964    70.063105\n",
       "1965    70.259881\n",
       "1966    70.447526\n",
       "1967    56.263629\n",
       "1968    70.689081\n",
       "1969    70.653896\n",
       "1970    70.961141\n",
       "1971    71.103976\n",
       "1972    58.474481\n",
       "1973    71.500338\n",
       "1974    71.778504\n",
       "1975    71.939218\n",
       "1976    72.158050\n",
       "1977    60.429090\n",
       "1978    72.717567\n",
       "1979    73.018717\n",
       "1980    73.064524\n",
       "1981    73.337399\n",
       "1982    62.365871\n",
       "1983    73.787778\n",
       "1984    74.100741\n",
       "1985    74.112222\n",
       "1986    74.452222\n",
       "1987    63.984860\n",
       "1988    74.760000\n",
       "1989    74.924444\n",
       "1990    74.283438\n",
       "1991    74.374848\n",
       "1992    65.008443\n",
       "1993    74.324545\n",
       "1994    74.456667\n",
       "1995    74.552727\n",
       "1996    75.029394\n",
       "1997    65.873799\n",
       "1998    75.569697\n",
       "1999    75.703636\n",
       "2000    76.026364\n",
       "2001    76.257879\n",
       "2002    66.835695\n",
       "2003    76.586667\n",
       "2004    76.921562\n",
       "2005    76.718667\n",
       "2006    77.887778\n",
       "2007    67.868557\n",
       "Name: Expectativa de vida, dtype: float64"
      ]
     },
     "execution_count": 18,
     "metadata": {},
     "output_type": "execute_result"
    }
   ],
   "source": [
    "df.groupby(\"Ano\")[\"Expectativa de vida\"].mean()"
   ]
  },
  {
   "cell_type": "code",
   "execution_count": 19,
   "metadata": {},
   "outputs": [
    {
     "data": {
      "text/plain": [
       "11317.115804696637"
      ]
     },
     "execution_count": 19,
     "metadata": {},
     "output_type": "execute_result"
    }
   ],
   "source": [
    "df[\"PIB\"].mean()"
   ]
  },
  {
   "cell_type": "code",
   "execution_count": 20,
   "metadata": {},
   "outputs": [
    {
     "data": {
      "text/plain": [
       "37482287.5451553"
      ]
     },
     "execution_count": 20,
     "metadata": {},
     "output_type": "execute_result"
    }
   ],
   "source": [
    "df[\"PIB\"].sum()"
   ]
  },
  {
   "cell_type": "markdown",
   "metadata": {},
   "source": [
    "#**Trabalhando com Planilhas do Excel**"
   ]
  },
  {
   "cell_type": "code",
   "execution_count": 22,
   "metadata": {},
   "outputs": [],
   "source": [
    "#Importando a biblioteca\n",
    "import pandas as pd"
   ]
  },
  {
   "cell_type": "code",
   "execution_count": 24,
   "metadata": {},
   "outputs": [],
   "source": [
    "#Leitura dos arquivos\n",
    "df1 = pd.read_excel(\"/home/joao/Downloads/Cusro_Python_Pandas_Digital_Innovation-master/datasets/Aracaju.xlsx\")\n",
    "df2 = pd.read_excel(\"/home/joao/Downloads/Cusro_Python_Pandas_Digital_Innovation-master/datasets/Fortaleza.xlsx\")\n",
    "df3 = pd.read_excel(\"/home/joao/Downloads/Cusro_Python_Pandas_Digital_Innovation-master/datasets/Natal.xlsx\")\n",
    "df4 = pd.read_excel(\"/home/joao/Downloads/Cusro_Python_Pandas_Digital_Innovation-master/datasets/Recife.xlsx\")\n",
    "df5 = pd.read_excel(\"/home/joao/Downloads/Cusro_Python_Pandas_Digital_Innovation-master/datasets/Salvador.xlsx\")"
   ]
  },
  {
   "cell_type": "code",
   "execution_count": 25,
   "metadata": {},
   "outputs": [
    {
     "data": {
      "text/html": [
       "<div>\n",
       "<style scoped>\n",
       "    .dataframe tbody tr th:only-of-type {\n",
       "        vertical-align: middle;\n",
       "    }\n",
       "\n",
       "    .dataframe tbody tr th {\n",
       "        vertical-align: top;\n",
       "    }\n",
       "\n",
       "    .dataframe thead th {\n",
       "        text-align: right;\n",
       "    }\n",
       "</style>\n",
       "<table border=\"1\" class=\"dataframe\">\n",
       "  <thead>\n",
       "    <tr style=\"text-align: right;\">\n",
       "      <th></th>\n",
       "      <th>Cidade</th>\n",
       "      <th>Data</th>\n",
       "      <th>Vendas</th>\n",
       "      <th>LojaID</th>\n",
       "      <th>Qtde</th>\n",
       "    </tr>\n",
       "  </thead>\n",
       "  <tbody>\n",
       "    <tr>\n",
       "      <th>0</th>\n",
       "      <td>Salvador</td>\n",
       "      <td>2018-01-01</td>\n",
       "      <td>31.06</td>\n",
       "      <td>1037</td>\n",
       "      <td>3</td>\n",
       "    </tr>\n",
       "    <tr>\n",
       "      <th>1</th>\n",
       "      <td>Salvador</td>\n",
       "      <td>2018-01-01</td>\n",
       "      <td>19.02</td>\n",
       "      <td>1034</td>\n",
       "      <td>3</td>\n",
       "    </tr>\n",
       "    <tr>\n",
       "      <th>2</th>\n",
       "      <td>Salvador</td>\n",
       "      <td>2019-02-10</td>\n",
       "      <td>173.59</td>\n",
       "      <td>1035</td>\n",
       "      <td>3</td>\n",
       "    </tr>\n",
       "    <tr>\n",
       "      <th>3</th>\n",
       "      <td>Salvador</td>\n",
       "      <td>2019-02-10</td>\n",
       "      <td>176.34</td>\n",
       "      <td>1037</td>\n",
       "      <td>3</td>\n",
       "    </tr>\n",
       "    <tr>\n",
       "      <th>4</th>\n",
       "      <td>Salvador</td>\n",
       "      <td>2019-02-14</td>\n",
       "      <td>19.47</td>\n",
       "      <td>1037</td>\n",
       "      <td>3</td>\n",
       "    </tr>\n",
       "  </tbody>\n",
       "</table>\n",
       "</div>"
      ],
      "text/plain": [
       "     Cidade       Data  Vendas  LojaID  Qtde\n",
       "0  Salvador 2018-01-01   31.06    1037     3\n",
       "1  Salvador 2018-01-01   19.02    1034     3\n",
       "2  Salvador 2019-02-10  173.59    1035     3\n",
       "3  Salvador 2019-02-10  176.34    1037     3\n",
       "4  Salvador 2019-02-14   19.47    1037     3"
      ]
     },
     "execution_count": 25,
     "metadata": {},
     "output_type": "execute_result"
    }
   ],
   "source": [
    "df5.head()"
   ]
  },
  {
   "cell_type": "code",
   "execution_count": 27,
   "metadata": {},
   "outputs": [],
   "source": [
    "#juntando todos os arquivos\n",
    "df = pd.concat([df1,df2,df3,df4,df5])"
   ]
  },
  {
   "cell_type": "code",
   "execution_count": 29,
   "metadata": {},
   "outputs": [
    {
     "data": {
      "text/html": [
       "<div>\n",
       "<style scoped>\n",
       "    .dataframe tbody tr th:only-of-type {\n",
       "        vertical-align: middle;\n",
       "    }\n",
       "\n",
       "    .dataframe tbody tr th {\n",
       "        vertical-align: top;\n",
       "    }\n",
       "\n",
       "    .dataframe thead th {\n",
       "        text-align: right;\n",
       "    }\n",
       "</style>\n",
       "<table border=\"1\" class=\"dataframe\">\n",
       "  <thead>\n",
       "    <tr style=\"text-align: right;\">\n",
       "      <th></th>\n",
       "      <th>Cidade</th>\n",
       "      <th>Data</th>\n",
       "      <th>Vendas</th>\n",
       "      <th>LojaID</th>\n",
       "      <th>Qtde</th>\n",
       "    </tr>\n",
       "  </thead>\n",
       "  <tbody>\n",
       "    <tr>\n",
       "      <th>0</th>\n",
       "      <td>Aracaju</td>\n",
       "      <td>2018-01-01</td>\n",
       "      <td>142.00</td>\n",
       "      <td>1520</td>\n",
       "      <td>1</td>\n",
       "    </tr>\n",
       "    <tr>\n",
       "      <th>1</th>\n",
       "      <td>Aracaju</td>\n",
       "      <td>2018-01-01</td>\n",
       "      <td>14.21</td>\n",
       "      <td>1522</td>\n",
       "      <td>6</td>\n",
       "    </tr>\n",
       "    <tr>\n",
       "      <th>2</th>\n",
       "      <td>Aracaju</td>\n",
       "      <td>2018-01-01</td>\n",
       "      <td>71.55</td>\n",
       "      <td>1520</td>\n",
       "      <td>1</td>\n",
       "    </tr>\n",
       "    <tr>\n",
       "      <th>3</th>\n",
       "      <td>Aracaju</td>\n",
       "      <td>2018-01-01</td>\n",
       "      <td>3.01</td>\n",
       "      <td>1521</td>\n",
       "      <td>7</td>\n",
       "    </tr>\n",
       "    <tr>\n",
       "      <th>4</th>\n",
       "      <td>Aracaju</td>\n",
       "      <td>2018-01-01</td>\n",
       "      <td>24.51</td>\n",
       "      <td>1522</td>\n",
       "      <td>8</td>\n",
       "    </tr>\n",
       "  </tbody>\n",
       "</table>\n",
       "</div>"
      ],
      "text/plain": [
       "    Cidade       Data  Vendas  LojaID  Qtde\n",
       "0  Aracaju 2018-01-01  142.00    1520     1\n",
       "1  Aracaju 2018-01-01   14.21    1522     6\n",
       "2  Aracaju 2018-01-01   71.55    1520     1\n",
       "3  Aracaju 2018-01-01    3.01    1521     7\n",
       "4  Aracaju 2018-01-01   24.51    1522     8"
      ]
     },
     "execution_count": 29,
     "metadata": {},
     "output_type": "execute_result"
    }
   ],
   "source": [
    "#Exibindo as 5 primeiras linhas\n",
    "df.head()"
   ]
  },
  {
   "cell_type": "code",
   "execution_count": 30,
   "metadata": {},
   "outputs": [
    {
     "data": {
      "text/html": [
       "<div>\n",
       "<style scoped>\n",
       "    .dataframe tbody tr th:only-of-type {\n",
       "        vertical-align: middle;\n",
       "    }\n",
       "\n",
       "    .dataframe tbody tr th {\n",
       "        vertical-align: top;\n",
       "    }\n",
       "\n",
       "    .dataframe thead th {\n",
       "        text-align: right;\n",
       "    }\n",
       "</style>\n",
       "<table border=\"1\" class=\"dataframe\">\n",
       "  <thead>\n",
       "    <tr style=\"text-align: right;\">\n",
       "      <th></th>\n",
       "      <th>Cidade</th>\n",
       "      <th>Data</th>\n",
       "      <th>Vendas</th>\n",
       "      <th>LojaID</th>\n",
       "      <th>Qtde</th>\n",
       "    </tr>\n",
       "  </thead>\n",
       "  <tbody>\n",
       "    <tr>\n",
       "      <th>235</th>\n",
       "      <td>Salvador</td>\n",
       "      <td>2019-01-03</td>\n",
       "      <td>41.84</td>\n",
       "      <td>1034</td>\n",
       "      <td>1</td>\n",
       "    </tr>\n",
       "    <tr>\n",
       "      <th>236</th>\n",
       "      <td>Salvador</td>\n",
       "      <td>2019-01-03</td>\n",
       "      <td>126.29</td>\n",
       "      <td>1035</td>\n",
       "      <td>3</td>\n",
       "    </tr>\n",
       "    <tr>\n",
       "      <th>237</th>\n",
       "      <td>Salvador</td>\n",
       "      <td>2019-01-03</td>\n",
       "      <td>38.06</td>\n",
       "      <td>1036</td>\n",
       "      <td>3</td>\n",
       "    </tr>\n",
       "    <tr>\n",
       "      <th>238</th>\n",
       "      <td>Salvador</td>\n",
       "      <td>2019-01-03</td>\n",
       "      <td>139.64</td>\n",
       "      <td>1035</td>\n",
       "      <td>1</td>\n",
       "    </tr>\n",
       "    <tr>\n",
       "      <th>239</th>\n",
       "      <td>Salvador</td>\n",
       "      <td>2019-01-03</td>\n",
       "      <td>161.41</td>\n",
       "      <td>1037</td>\n",
       "      <td>3</td>\n",
       "    </tr>\n",
       "  </tbody>\n",
       "</table>\n",
       "</div>"
      ],
      "text/plain": [
       "       Cidade       Data  Vendas  LojaID  Qtde\n",
       "235  Salvador 2019-01-03   41.84    1034     1\n",
       "236  Salvador 2019-01-03  126.29    1035     3\n",
       "237  Salvador 2019-01-03   38.06    1036     3\n",
       "238  Salvador 2019-01-03  139.64    1035     1\n",
       "239  Salvador 2019-01-03  161.41    1037     3"
      ]
     },
     "execution_count": 30,
     "metadata": {},
     "output_type": "execute_result"
    }
   ],
   "source": [
    "#Exibindo as 5 últimas linhas\n",
    "df.tail()"
   ]
  },
  {
   "cell_type": "code",
   "execution_count": 31,
   "metadata": {},
   "outputs": [
    {
     "data": {
      "text/html": [
       "<div>\n",
       "<style scoped>\n",
       "    .dataframe tbody tr th:only-of-type {\n",
       "        vertical-align: middle;\n",
       "    }\n",
       "\n",
       "    .dataframe tbody tr th {\n",
       "        vertical-align: top;\n",
       "    }\n",
       "\n",
       "    .dataframe thead th {\n",
       "        text-align: right;\n",
       "    }\n",
       "</style>\n",
       "<table border=\"1\" class=\"dataframe\">\n",
       "  <thead>\n",
       "    <tr style=\"text-align: right;\">\n",
       "      <th></th>\n",
       "      <th>Cidade</th>\n",
       "      <th>Data</th>\n",
       "      <th>Vendas</th>\n",
       "      <th>LojaID</th>\n",
       "      <th>Qtde</th>\n",
       "    </tr>\n",
       "  </thead>\n",
       "  <tbody>\n",
       "    <tr>\n",
       "      <th>214</th>\n",
       "      <td>Salvador</td>\n",
       "      <td>2019-01-02</td>\n",
       "      <td>54.94</td>\n",
       "      <td>1036</td>\n",
       "      <td>2</td>\n",
       "    </tr>\n",
       "    <tr>\n",
       "      <th>77</th>\n",
       "      <td>Aracaju</td>\n",
       "      <td>2018-01-01</td>\n",
       "      <td>24.10</td>\n",
       "      <td>1522</td>\n",
       "      <td>1</td>\n",
       "    </tr>\n",
       "    <tr>\n",
       "      <th>171</th>\n",
       "      <td>Natal</td>\n",
       "      <td>2019-01-02</td>\n",
       "      <td>136.45</td>\n",
       "      <td>1035</td>\n",
       "      <td>3</td>\n",
       "    </tr>\n",
       "    <tr>\n",
       "      <th>231</th>\n",
       "      <td>Salvador</td>\n",
       "      <td>2019-01-03</td>\n",
       "      <td>89.85</td>\n",
       "      <td>1034</td>\n",
       "      <td>2</td>\n",
       "    </tr>\n",
       "    <tr>\n",
       "      <th>113</th>\n",
       "      <td>Aracaju</td>\n",
       "      <td>2018-01-01</td>\n",
       "      <td>23.05</td>\n",
       "      <td>1521</td>\n",
       "      <td>9</td>\n",
       "    </tr>\n",
       "  </tbody>\n",
       "</table>\n",
       "</div>"
      ],
      "text/plain": [
       "       Cidade       Data  Vendas  LojaID  Qtde\n",
       "214  Salvador 2019-01-02   54.94    1036     2\n",
       "77    Aracaju 2018-01-01   24.10    1522     1\n",
       "171     Natal 2019-01-02  136.45    1035     3\n",
       "231  Salvador 2019-01-03   89.85    1034     2\n",
       "113   Aracaju 2018-01-01   23.05    1521     9"
      ]
     },
     "execution_count": 31,
     "metadata": {},
     "output_type": "execute_result"
    }
   ],
   "source": [
    "df.sample(5)"
   ]
  },
  {
   "cell_type": "code",
   "execution_count": 32,
   "metadata": {},
   "outputs": [
    {
     "data": {
      "text/plain": [
       "Cidade            object\n",
       "Data      datetime64[ns]\n",
       "Vendas           float64\n",
       "LojaID             int64\n",
       "Qtde               int64\n",
       "dtype: object"
      ]
     },
     "execution_count": 32,
     "metadata": {},
     "output_type": "execute_result"
    }
   ],
   "source": [
    "#Verificando o tipo de dado de cada coluna\n",
    "df.dtypes"
   ]
  },
  {
   "cell_type": "code",
   "execution_count": 33,
   "metadata": {},
   "outputs": [],
   "source": [
    "#Alterando o tipo de dado da coluna LojaID\n",
    "df[\"LojaID\"] = df[\"LojaID\"].astype(\"object\")"
   ]
  },
  {
   "cell_type": "code",
   "execution_count": 34,
   "metadata": {},
   "outputs": [
    {
     "data": {
      "text/plain": [
       "Cidade            object\n",
       "Data      datetime64[ns]\n",
       "Vendas           float64\n",
       "LojaID            object\n",
       "Qtde               int64\n",
       "dtype: object"
      ]
     },
     "execution_count": 34,
     "metadata": {},
     "output_type": "execute_result"
    }
   ],
   "source": [
    "df.dtypes"
   ]
  },
  {
   "cell_type": "code",
   "execution_count": 35,
   "metadata": {},
   "outputs": [
    {
     "data": {
      "text/html": [
       "<div>\n",
       "<style scoped>\n",
       "    .dataframe tbody tr th:only-of-type {\n",
       "        vertical-align: middle;\n",
       "    }\n",
       "\n",
       "    .dataframe tbody tr th {\n",
       "        vertical-align: top;\n",
       "    }\n",
       "\n",
       "    .dataframe thead th {\n",
       "        text-align: right;\n",
       "    }\n",
       "</style>\n",
       "<table border=\"1\" class=\"dataframe\">\n",
       "  <thead>\n",
       "    <tr style=\"text-align: right;\">\n",
       "      <th></th>\n",
       "      <th>Cidade</th>\n",
       "      <th>Data</th>\n",
       "      <th>Vendas</th>\n",
       "      <th>LojaID</th>\n",
       "      <th>Qtde</th>\n",
       "    </tr>\n",
       "  </thead>\n",
       "  <tbody>\n",
       "    <tr>\n",
       "      <th>0</th>\n",
       "      <td>Aracaju</td>\n",
       "      <td>2018-01-01</td>\n",
       "      <td>142.00</td>\n",
       "      <td>1520</td>\n",
       "      <td>1</td>\n",
       "    </tr>\n",
       "    <tr>\n",
       "      <th>1</th>\n",
       "      <td>Aracaju</td>\n",
       "      <td>2018-01-01</td>\n",
       "      <td>14.21</td>\n",
       "      <td>1522</td>\n",
       "      <td>6</td>\n",
       "    </tr>\n",
       "    <tr>\n",
       "      <th>2</th>\n",
       "      <td>Aracaju</td>\n",
       "      <td>2018-01-01</td>\n",
       "      <td>71.55</td>\n",
       "      <td>1520</td>\n",
       "      <td>1</td>\n",
       "    </tr>\n",
       "    <tr>\n",
       "      <th>3</th>\n",
       "      <td>Aracaju</td>\n",
       "      <td>2018-01-01</td>\n",
       "      <td>3.01</td>\n",
       "      <td>1521</td>\n",
       "      <td>7</td>\n",
       "    </tr>\n",
       "    <tr>\n",
       "      <th>4</th>\n",
       "      <td>Aracaju</td>\n",
       "      <td>2018-01-01</td>\n",
       "      <td>24.51</td>\n",
       "      <td>1522</td>\n",
       "      <td>8</td>\n",
       "    </tr>\n",
       "  </tbody>\n",
       "</table>\n",
       "</div>"
      ],
      "text/plain": [
       "    Cidade       Data  Vendas LojaID  Qtde\n",
       "0  Aracaju 2018-01-01  142.00   1520     1\n",
       "1  Aracaju 2018-01-01   14.21   1522     6\n",
       "2  Aracaju 2018-01-01   71.55   1520     1\n",
       "3  Aracaju 2018-01-01    3.01   1521     7\n",
       "4  Aracaju 2018-01-01   24.51   1522     8"
      ]
     },
     "execution_count": 35,
     "metadata": {},
     "output_type": "execute_result"
    }
   ],
   "source": [
    "df.head()"
   ]
  },
  {
   "cell_type": "markdown",
   "metadata": {},
   "source": [
    "**Tratando valores faltantes**"
   ]
  },
  {
   "cell_type": "code",
   "execution_count": 36,
   "metadata": {},
   "outputs": [
    {
     "data": {
      "text/plain": [
       "Cidade    0\n",
       "Data      0\n",
       "Vendas    0\n",
       "LojaID    0\n",
       "Qtde      0\n",
       "dtype: int64"
      ]
     },
     "execution_count": 36,
     "metadata": {},
     "output_type": "execute_result"
    }
   ],
   "source": [
    "#Consultando linhas com valores faltantes\n",
    "df.isnull().sum()"
   ]
  },
  {
   "cell_type": "code",
   "execution_count": 37,
   "metadata": {},
   "outputs": [],
   "source": [
    "#Substituindo os valores nulos pela média\n",
    "df[\"Vendas\"].fillna(df[\"Vendas\"].mean(), inplace=True)"
   ]
  },
  {
   "cell_type": "code",
   "execution_count": 38,
   "metadata": {},
   "outputs": [
    {
     "data": {
      "text/plain": [
       "122.61180089485438"
      ]
     },
     "execution_count": 38,
     "metadata": {},
     "output_type": "execute_result"
    }
   ],
   "source": [
    "df[\"Vendas\"].mean()"
   ]
  },
  {
   "cell_type": "code",
   "execution_count": 39,
   "metadata": {},
   "outputs": [
    {
     "data": {
      "text/plain": [
       "Cidade    0\n",
       "Data      0\n",
       "Vendas    0\n",
       "LojaID    0\n",
       "Qtde      0\n",
       "dtype: int64"
      ]
     },
     "execution_count": 39,
     "metadata": {},
     "output_type": "execute_result"
    }
   ],
   "source": [
    "df.isnull().sum()"
   ]
  },
  {
   "cell_type": "code",
   "execution_count": 40,
   "metadata": {},
   "outputs": [
    {
     "data": {
      "text/html": [
       "<div>\n",
       "<style scoped>\n",
       "    .dataframe tbody tr th:only-of-type {\n",
       "        vertical-align: middle;\n",
       "    }\n",
       "\n",
       "    .dataframe tbody tr th {\n",
       "        vertical-align: top;\n",
       "    }\n",
       "\n",
       "    .dataframe thead th {\n",
       "        text-align: right;\n",
       "    }\n",
       "</style>\n",
       "<table border=\"1\" class=\"dataframe\">\n",
       "  <thead>\n",
       "    <tr style=\"text-align: right;\">\n",
       "      <th></th>\n",
       "      <th>Cidade</th>\n",
       "      <th>Data</th>\n",
       "      <th>Vendas</th>\n",
       "      <th>LojaID</th>\n",
       "      <th>Qtde</th>\n",
       "    </tr>\n",
       "  </thead>\n",
       "  <tbody>\n",
       "    <tr>\n",
       "      <th>61</th>\n",
       "      <td>Aracaju</td>\n",
       "      <td>2018-01-01</td>\n",
       "      <td>39.80</td>\n",
       "      <td>1520</td>\n",
       "      <td>6</td>\n",
       "    </tr>\n",
       "    <tr>\n",
       "      <th>187</th>\n",
       "      <td>Natal</td>\n",
       "      <td>2019-01-02</td>\n",
       "      <td>3.85</td>\n",
       "      <td>1035</td>\n",
       "      <td>3</td>\n",
       "    </tr>\n",
       "    <tr>\n",
       "      <th>46</th>\n",
       "      <td>Recife</td>\n",
       "      <td>2019-01-01</td>\n",
       "      <td>239.17</td>\n",
       "      <td>981</td>\n",
       "      <td>8</td>\n",
       "    </tr>\n",
       "    <tr>\n",
       "      <th>192</th>\n",
       "      <td>Salvador</td>\n",
       "      <td>2019-01-02</td>\n",
       "      <td>166.51</td>\n",
       "      <td>1036</td>\n",
       "      <td>1</td>\n",
       "    </tr>\n",
       "    <tr>\n",
       "      <th>92</th>\n",
       "      <td>Fortaleza</td>\n",
       "      <td>2019-01-01</td>\n",
       "      <td>3.49</td>\n",
       "      <td>1005</td>\n",
       "      <td>4</td>\n",
       "    </tr>\n",
       "    <tr>\n",
       "      <th>69</th>\n",
       "      <td>Salvador</td>\n",
       "      <td>2019-01-01</td>\n",
       "      <td>14.79</td>\n",
       "      <td>1035</td>\n",
       "      <td>1</td>\n",
       "    </tr>\n",
       "    <tr>\n",
       "      <th>29</th>\n",
       "      <td>Aracaju</td>\n",
       "      <td>2018-01-01</td>\n",
       "      <td>44.04</td>\n",
       "      <td>1520</td>\n",
       "      <td>6</td>\n",
       "    </tr>\n",
       "    <tr>\n",
       "      <th>199</th>\n",
       "      <td>Natal</td>\n",
       "      <td>2019-01-02</td>\n",
       "      <td>153.87</td>\n",
       "      <td>1036</td>\n",
       "      <td>3</td>\n",
       "    </tr>\n",
       "    <tr>\n",
       "      <th>12</th>\n",
       "      <td>Salvador</td>\n",
       "      <td>2019-01-01</td>\n",
       "      <td>125.05</td>\n",
       "      <td>1034</td>\n",
       "      <td>3</td>\n",
       "    </tr>\n",
       "    <tr>\n",
       "      <th>114</th>\n",
       "      <td>Salvador</td>\n",
       "      <td>2019-03-02</td>\n",
       "      <td>25.52</td>\n",
       "      <td>1034</td>\n",
       "      <td>1</td>\n",
       "    </tr>\n",
       "    <tr>\n",
       "      <th>111</th>\n",
       "      <td>Natal</td>\n",
       "      <td>2019-01-02</td>\n",
       "      <td>147.35</td>\n",
       "      <td>1037</td>\n",
       "      <td>2</td>\n",
       "    </tr>\n",
       "    <tr>\n",
       "      <th>31</th>\n",
       "      <td>Fortaleza</td>\n",
       "      <td>2019-01-01</td>\n",
       "      <td>23.46</td>\n",
       "      <td>1002</td>\n",
       "      <td>4</td>\n",
       "    </tr>\n",
       "    <tr>\n",
       "      <th>137</th>\n",
       "      <td>Recife</td>\n",
       "      <td>2019-03-02</td>\n",
       "      <td>51.99</td>\n",
       "      <td>983</td>\n",
       "      <td>3</td>\n",
       "    </tr>\n",
       "    <tr>\n",
       "      <th>122</th>\n",
       "      <td>Natal</td>\n",
       "      <td>2019-01-02</td>\n",
       "      <td>13.27</td>\n",
       "      <td>1037</td>\n",
       "      <td>1</td>\n",
       "    </tr>\n",
       "    <tr>\n",
       "      <th>68</th>\n",
       "      <td>Salvador</td>\n",
       "      <td>2019-01-01</td>\n",
       "      <td>162.35</td>\n",
       "      <td>1037</td>\n",
       "      <td>3</td>\n",
       "    </tr>\n",
       "  </tbody>\n",
       "</table>\n",
       "</div>"
      ],
      "text/plain": [
       "        Cidade       Data  Vendas LojaID  Qtde\n",
       "61     Aracaju 2018-01-01   39.80   1520     6\n",
       "187      Natal 2019-01-02    3.85   1035     3\n",
       "46      Recife 2019-01-01  239.17    981     8\n",
       "192   Salvador 2019-01-02  166.51   1036     1\n",
       "92   Fortaleza 2019-01-01    3.49   1005     4\n",
       "69    Salvador 2019-01-01   14.79   1035     1\n",
       "29     Aracaju 2018-01-01   44.04   1520     6\n",
       "199      Natal 2019-01-02  153.87   1036     3\n",
       "12    Salvador 2019-01-01  125.05   1034     3\n",
       "114   Salvador 2019-03-02   25.52   1034     1\n",
       "111      Natal 2019-01-02  147.35   1037     2\n",
       "31   Fortaleza 2019-01-01   23.46   1002     4\n",
       "137     Recife 2019-03-02   51.99    983     3\n",
       "122      Natal 2019-01-02   13.27   1037     1\n",
       "68    Salvador 2019-01-01  162.35   1037     3"
      ]
     },
     "execution_count": 40,
     "metadata": {},
     "output_type": "execute_result"
    }
   ],
   "source": [
    "df.sample(15)"
   ]
  },
  {
   "cell_type": "code",
   "execution_count": 41,
   "metadata": {},
   "outputs": [],
   "source": [
    "#Substituindo os valores nulos por zero\n",
    "df[\"Vendas\"].fillna(0, inplace=True)"
   ]
  },
  {
   "cell_type": "code",
   "execution_count": 42,
   "metadata": {},
   "outputs": [],
   "source": [
    "#Apagando as linhas com valores nulos\n",
    "df.dropna(inplace=True)"
   ]
  },
  {
   "cell_type": "code",
   "execution_count": 43,
   "metadata": {},
   "outputs": [],
   "source": [
    "#Apagando as linhas com valores nulos com base apenas em 1 coluna\n",
    "df.dropna(subset=[\"Vendas\"], inplace=True)"
   ]
  },
  {
   "cell_type": "code",
   "execution_count": 44,
   "metadata": {},
   "outputs": [],
   "source": [
    "#Removendo linhas que estejam com valores faltantes em todas as colunas\n",
    "df.dropna(how=\"all\", inplace=True)"
   ]
  },
  {
   "cell_type": "markdown",
   "metadata": {},
   "source": [
    "**Criando colunas novas**"
   ]
  },
  {
   "cell_type": "code",
   "execution_count": 45,
   "metadata": {},
   "outputs": [],
   "source": [
    "#Criando a coluna de receita\n",
    "df[\"Receita\"] = df[\"Vendas\"].mul(df[\"Qtde\"])"
   ]
  },
  {
   "cell_type": "code",
   "execution_count": 46,
   "metadata": {},
   "outputs": [
    {
     "data": {
      "text/html": [
       "<div>\n",
       "<style scoped>\n",
       "    .dataframe tbody tr th:only-of-type {\n",
       "        vertical-align: middle;\n",
       "    }\n",
       "\n",
       "    .dataframe tbody tr th {\n",
       "        vertical-align: top;\n",
       "    }\n",
       "\n",
       "    .dataframe thead th {\n",
       "        text-align: right;\n",
       "    }\n",
       "</style>\n",
       "<table border=\"1\" class=\"dataframe\">\n",
       "  <thead>\n",
       "    <tr style=\"text-align: right;\">\n",
       "      <th></th>\n",
       "      <th>Cidade</th>\n",
       "      <th>Data</th>\n",
       "      <th>Vendas</th>\n",
       "      <th>LojaID</th>\n",
       "      <th>Qtde</th>\n",
       "      <th>Receita</th>\n",
       "    </tr>\n",
       "  </thead>\n",
       "  <tbody>\n",
       "    <tr>\n",
       "      <th>0</th>\n",
       "      <td>Aracaju</td>\n",
       "      <td>2018-01-01</td>\n",
       "      <td>142.00</td>\n",
       "      <td>1520</td>\n",
       "      <td>1</td>\n",
       "      <td>142.00</td>\n",
       "    </tr>\n",
       "    <tr>\n",
       "      <th>1</th>\n",
       "      <td>Aracaju</td>\n",
       "      <td>2018-01-01</td>\n",
       "      <td>14.21</td>\n",
       "      <td>1522</td>\n",
       "      <td>6</td>\n",
       "      <td>85.26</td>\n",
       "    </tr>\n",
       "    <tr>\n",
       "      <th>2</th>\n",
       "      <td>Aracaju</td>\n",
       "      <td>2018-01-01</td>\n",
       "      <td>71.55</td>\n",
       "      <td>1520</td>\n",
       "      <td>1</td>\n",
       "      <td>71.55</td>\n",
       "    </tr>\n",
       "    <tr>\n",
       "      <th>3</th>\n",
       "      <td>Aracaju</td>\n",
       "      <td>2018-01-01</td>\n",
       "      <td>3.01</td>\n",
       "      <td>1521</td>\n",
       "      <td>7</td>\n",
       "      <td>21.07</td>\n",
       "    </tr>\n",
       "    <tr>\n",
       "      <th>4</th>\n",
       "      <td>Aracaju</td>\n",
       "      <td>2018-01-01</td>\n",
       "      <td>24.51</td>\n",
       "      <td>1522</td>\n",
       "      <td>8</td>\n",
       "      <td>196.08</td>\n",
       "    </tr>\n",
       "  </tbody>\n",
       "</table>\n",
       "</div>"
      ],
      "text/plain": [
       "    Cidade       Data  Vendas LojaID  Qtde  Receita\n",
       "0  Aracaju 2018-01-01  142.00   1520     1   142.00\n",
       "1  Aracaju 2018-01-01   14.21   1522     6    85.26\n",
       "2  Aracaju 2018-01-01   71.55   1520     1    71.55\n",
       "3  Aracaju 2018-01-01    3.01   1521     7    21.07\n",
       "4  Aracaju 2018-01-01   24.51   1522     8   196.08"
      ]
     },
     "execution_count": 46,
     "metadata": {},
     "output_type": "execute_result"
    }
   ],
   "source": [
    "df.head()"
   ]
  },
  {
   "cell_type": "code",
   "execution_count": 47,
   "metadata": {},
   "outputs": [],
   "source": [
    "df[\"Receita/Vendas\"] = df[\"Receita\"] / df[\"Vendas\"] "
   ]
  },
  {
   "cell_type": "code",
   "execution_count": 48,
   "metadata": {},
   "outputs": [
    {
     "data": {
      "text/html": [
       "<div>\n",
       "<style scoped>\n",
       "    .dataframe tbody tr th:only-of-type {\n",
       "        vertical-align: middle;\n",
       "    }\n",
       "\n",
       "    .dataframe tbody tr th {\n",
       "        vertical-align: top;\n",
       "    }\n",
       "\n",
       "    .dataframe thead th {\n",
       "        text-align: right;\n",
       "    }\n",
       "</style>\n",
       "<table border=\"1\" class=\"dataframe\">\n",
       "  <thead>\n",
       "    <tr style=\"text-align: right;\">\n",
       "      <th></th>\n",
       "      <th>Cidade</th>\n",
       "      <th>Data</th>\n",
       "      <th>Vendas</th>\n",
       "      <th>LojaID</th>\n",
       "      <th>Qtde</th>\n",
       "      <th>Receita</th>\n",
       "      <th>Receita/Vendas</th>\n",
       "    </tr>\n",
       "  </thead>\n",
       "  <tbody>\n",
       "    <tr>\n",
       "      <th>0</th>\n",
       "      <td>Aracaju</td>\n",
       "      <td>2018-01-01</td>\n",
       "      <td>142.00</td>\n",
       "      <td>1520</td>\n",
       "      <td>1</td>\n",
       "      <td>142.00</td>\n",
       "      <td>1.0</td>\n",
       "    </tr>\n",
       "    <tr>\n",
       "      <th>1</th>\n",
       "      <td>Aracaju</td>\n",
       "      <td>2018-01-01</td>\n",
       "      <td>14.21</td>\n",
       "      <td>1522</td>\n",
       "      <td>6</td>\n",
       "      <td>85.26</td>\n",
       "      <td>6.0</td>\n",
       "    </tr>\n",
       "    <tr>\n",
       "      <th>2</th>\n",
       "      <td>Aracaju</td>\n",
       "      <td>2018-01-01</td>\n",
       "      <td>71.55</td>\n",
       "      <td>1520</td>\n",
       "      <td>1</td>\n",
       "      <td>71.55</td>\n",
       "      <td>1.0</td>\n",
       "    </tr>\n",
       "    <tr>\n",
       "      <th>3</th>\n",
       "      <td>Aracaju</td>\n",
       "      <td>2018-01-01</td>\n",
       "      <td>3.01</td>\n",
       "      <td>1521</td>\n",
       "      <td>7</td>\n",
       "      <td>21.07</td>\n",
       "      <td>7.0</td>\n",
       "    </tr>\n",
       "    <tr>\n",
       "      <th>4</th>\n",
       "      <td>Aracaju</td>\n",
       "      <td>2018-01-01</td>\n",
       "      <td>24.51</td>\n",
       "      <td>1522</td>\n",
       "      <td>8</td>\n",
       "      <td>196.08</td>\n",
       "      <td>8.0</td>\n",
       "    </tr>\n",
       "  </tbody>\n",
       "</table>\n",
       "</div>"
      ],
      "text/plain": [
       "    Cidade       Data  Vendas LojaID  Qtde  Receita  Receita/Vendas\n",
       "0  Aracaju 2018-01-01  142.00   1520     1   142.00             1.0\n",
       "1  Aracaju 2018-01-01   14.21   1522     6    85.26             6.0\n",
       "2  Aracaju 2018-01-01   71.55   1520     1    71.55             1.0\n",
       "3  Aracaju 2018-01-01    3.01   1521     7    21.07             7.0\n",
       "4  Aracaju 2018-01-01   24.51   1522     8   196.08             8.0"
      ]
     },
     "execution_count": 48,
     "metadata": {},
     "output_type": "execute_result"
    }
   ],
   "source": [
    "df.head()"
   ]
  },
  {
   "cell_type": "code",
   "execution_count": 49,
   "metadata": {},
   "outputs": [
    {
     "data": {
      "text/plain": [
       "3544.0"
      ]
     },
     "execution_count": 49,
     "metadata": {},
     "output_type": "execute_result"
    }
   ],
   "source": [
    "#Retornando a maior receita\n",
    "df[\"Receita\"].max()"
   ]
  },
  {
   "cell_type": "code",
   "execution_count": 50,
   "metadata": {},
   "outputs": [
    {
     "data": {
      "text/plain": [
       "3.34"
      ]
     },
     "execution_count": 50,
     "metadata": {},
     "output_type": "execute_result"
    }
   ],
   "source": [
    "#Retornando a menor receita\n",
    "df[\"Receita\"].min()"
   ]
  },
  {
   "cell_type": "code",
   "execution_count": 51,
   "metadata": {},
   "outputs": [
    {
     "data": {
      "text/html": [
       "<div>\n",
       "<style scoped>\n",
       "    .dataframe tbody tr th:only-of-type {\n",
       "        vertical-align: middle;\n",
       "    }\n",
       "\n",
       "    .dataframe tbody tr th {\n",
       "        vertical-align: top;\n",
       "    }\n",
       "\n",
       "    .dataframe thead th {\n",
       "        text-align: right;\n",
       "    }\n",
       "</style>\n",
       "<table border=\"1\" class=\"dataframe\">\n",
       "  <thead>\n",
       "    <tr style=\"text-align: right;\">\n",
       "      <th></th>\n",
       "      <th>Cidade</th>\n",
       "      <th>Data</th>\n",
       "      <th>Vendas</th>\n",
       "      <th>LojaID</th>\n",
       "      <th>Qtde</th>\n",
       "      <th>Receita</th>\n",
       "      <th>Receita/Vendas</th>\n",
       "    </tr>\n",
       "  </thead>\n",
       "  <tbody>\n",
       "    <tr>\n",
       "      <th>7</th>\n",
       "      <td>Natal</td>\n",
       "      <td>2019-03-18</td>\n",
       "      <td>886.0</td>\n",
       "      <td>853</td>\n",
       "      <td>4</td>\n",
       "      <td>3544.0</td>\n",
       "      <td>4.0</td>\n",
       "    </tr>\n",
       "    <tr>\n",
       "      <th>51</th>\n",
       "      <td>Natal</td>\n",
       "      <td>2018-01-21</td>\n",
       "      <td>859.0</td>\n",
       "      <td>852</td>\n",
       "      <td>4</td>\n",
       "      <td>3436.0</td>\n",
       "      <td>4.0</td>\n",
       "    </tr>\n",
       "    <tr>\n",
       "      <th>55</th>\n",
       "      <td>Natal</td>\n",
       "      <td>2019-01-08</td>\n",
       "      <td>859.0</td>\n",
       "      <td>854</td>\n",
       "      <td>4</td>\n",
       "      <td>3436.0</td>\n",
       "      <td>4.0</td>\n",
       "    </tr>\n",
       "  </tbody>\n",
       "</table>\n",
       "</div>"
      ],
      "text/plain": [
       "   Cidade       Data  Vendas LojaID  Qtde  Receita  Receita/Vendas\n",
       "7   Natal 2019-03-18   886.0    853     4   3544.0             4.0\n",
       "51  Natal 2018-01-21   859.0    852     4   3436.0             4.0\n",
       "55  Natal 2019-01-08   859.0    854     4   3436.0             4.0"
      ]
     },
     "execution_count": 51,
     "metadata": {},
     "output_type": "execute_result"
    }
   ],
   "source": [
    "#nlargest\n",
    "df.nlargest(3, \"Receita\")"
   ]
  },
  {
   "cell_type": "code",
   "execution_count": 52,
   "metadata": {},
   "outputs": [
    {
     "data": {
      "text/html": [
       "<div>\n",
       "<style scoped>\n",
       "    .dataframe tbody tr th:only-of-type {\n",
       "        vertical-align: middle;\n",
       "    }\n",
       "\n",
       "    .dataframe tbody tr th {\n",
       "        vertical-align: top;\n",
       "    }\n",
       "\n",
       "    .dataframe thead th {\n",
       "        text-align: right;\n",
       "    }\n",
       "</style>\n",
       "<table border=\"1\" class=\"dataframe\">\n",
       "  <thead>\n",
       "    <tr style=\"text-align: right;\">\n",
       "      <th></th>\n",
       "      <th>Cidade</th>\n",
       "      <th>Data</th>\n",
       "      <th>Vendas</th>\n",
       "      <th>LojaID</th>\n",
       "      <th>Qtde</th>\n",
       "      <th>Receita</th>\n",
       "      <th>Receita/Vendas</th>\n",
       "    </tr>\n",
       "  </thead>\n",
       "  <tbody>\n",
       "    <tr>\n",
       "      <th>118</th>\n",
       "      <td>Aracaju</td>\n",
       "      <td>2018-01-01</td>\n",
       "      <td>3.34</td>\n",
       "      <td>1522</td>\n",
       "      <td>1</td>\n",
       "      <td>3.34</td>\n",
       "      <td>1.0</td>\n",
       "    </tr>\n",
       "    <tr>\n",
       "      <th>65</th>\n",
       "      <td>Recife</td>\n",
       "      <td>2019-01-01</td>\n",
       "      <td>4.01</td>\n",
       "      <td>981</td>\n",
       "      <td>1</td>\n",
       "      <td>4.01</td>\n",
       "      <td>1.0</td>\n",
       "    </tr>\n",
       "    <tr>\n",
       "      <th>92</th>\n",
       "      <td>Natal</td>\n",
       "      <td>2019-01-02</td>\n",
       "      <td>4.57</td>\n",
       "      <td>1035</td>\n",
       "      <td>1</td>\n",
       "      <td>4.57</td>\n",
       "      <td>1.0</td>\n",
       "    </tr>\n",
       "  </tbody>\n",
       "</table>\n",
       "</div>"
      ],
      "text/plain": [
       "      Cidade       Data  Vendas LojaID  Qtde  Receita  Receita/Vendas\n",
       "118  Aracaju 2018-01-01    3.34   1522     1     3.34             1.0\n",
       "65    Recife 2019-01-01    4.01    981     1     4.01             1.0\n",
       "92     Natal 2019-01-02    4.57   1035     1     4.57             1.0"
      ]
     },
     "execution_count": 52,
     "metadata": {},
     "output_type": "execute_result"
    }
   ],
   "source": [
    "#nsamllest\n",
    "df.nsmallest(3, \"Receita\")"
   ]
  },
  {
   "cell_type": "code",
   "execution_count": 53,
   "metadata": {},
   "outputs": [
    {
     "data": {
      "text/plain": [
       "Cidade\n",
       "Aracaju       48748.25\n",
       "Fortaleza     37913.97\n",
       "Natal        167227.52\n",
       "Recife        51936.51\n",
       "Salvador      40596.73\n",
       "Name: Receita, dtype: float64"
      ]
     },
     "execution_count": 53,
     "metadata": {},
     "output_type": "execute_result"
    }
   ],
   "source": [
    "#Agrupamento por cidade\n",
    "df.groupby(\"Cidade\")[\"Receita\"].sum()"
   ]
  },
  {
   "cell_type": "code",
   "execution_count": 54,
   "metadata": {},
   "outputs": [
    {
     "data": {
      "text/html": [
       "<div>\n",
       "<style scoped>\n",
       "    .dataframe tbody tr th:only-of-type {\n",
       "        vertical-align: middle;\n",
       "    }\n",
       "\n",
       "    .dataframe tbody tr th {\n",
       "        vertical-align: top;\n",
       "    }\n",
       "\n",
       "    .dataframe thead th {\n",
       "        text-align: right;\n",
       "    }\n",
       "</style>\n",
       "<table border=\"1\" class=\"dataframe\">\n",
       "  <thead>\n",
       "    <tr style=\"text-align: right;\">\n",
       "      <th></th>\n",
       "      <th>Cidade</th>\n",
       "      <th>Data</th>\n",
       "      <th>Vendas</th>\n",
       "      <th>LojaID</th>\n",
       "      <th>Qtde</th>\n",
       "      <th>Receita</th>\n",
       "      <th>Receita/Vendas</th>\n",
       "    </tr>\n",
       "  </thead>\n",
       "  <tbody>\n",
       "    <tr>\n",
       "      <th>7</th>\n",
       "      <td>Natal</td>\n",
       "      <td>2019-03-18</td>\n",
       "      <td>886.0</td>\n",
       "      <td>853</td>\n",
       "      <td>4</td>\n",
       "      <td>3544.0</td>\n",
       "      <td>4.0</td>\n",
       "    </tr>\n",
       "    <tr>\n",
       "      <th>55</th>\n",
       "      <td>Natal</td>\n",
       "      <td>2019-01-08</td>\n",
       "      <td>859.0</td>\n",
       "      <td>854</td>\n",
       "      <td>4</td>\n",
       "      <td>3436.0</td>\n",
       "      <td>4.0</td>\n",
       "    </tr>\n",
       "    <tr>\n",
       "      <th>51</th>\n",
       "      <td>Natal</td>\n",
       "      <td>2018-01-21</td>\n",
       "      <td>859.0</td>\n",
       "      <td>852</td>\n",
       "      <td>4</td>\n",
       "      <td>3436.0</td>\n",
       "      <td>4.0</td>\n",
       "    </tr>\n",
       "    <tr>\n",
       "      <th>30</th>\n",
       "      <td>Natal</td>\n",
       "      <td>2018-10-02</td>\n",
       "      <td>856.0</td>\n",
       "      <td>853</td>\n",
       "      <td>4</td>\n",
       "      <td>3424.0</td>\n",
       "      <td>4.0</td>\n",
       "    </tr>\n",
       "    <tr>\n",
       "      <th>41</th>\n",
       "      <td>Natal</td>\n",
       "      <td>2018-05-20</td>\n",
       "      <td>835.0</td>\n",
       "      <td>852</td>\n",
       "      <td>4</td>\n",
       "      <td>3340.0</td>\n",
       "      <td>4.0</td>\n",
       "    </tr>\n",
       "    <tr>\n",
       "      <th>38</th>\n",
       "      <td>Natal</td>\n",
       "      <td>2018-02-25</td>\n",
       "      <td>828.0</td>\n",
       "      <td>852</td>\n",
       "      <td>4</td>\n",
       "      <td>3312.0</td>\n",
       "      <td>4.0</td>\n",
       "    </tr>\n",
       "    <tr>\n",
       "      <th>10</th>\n",
       "      <td>Natal</td>\n",
       "      <td>2018-10-27</td>\n",
       "      <td>828.0</td>\n",
       "      <td>852</td>\n",
       "      <td>4</td>\n",
       "      <td>3312.0</td>\n",
       "      <td>4.0</td>\n",
       "    </tr>\n",
       "    <tr>\n",
       "      <th>69</th>\n",
       "      <td>Natal</td>\n",
       "      <td>2019-03-24</td>\n",
       "      <td>817.0</td>\n",
       "      <td>852</td>\n",
       "      <td>4</td>\n",
       "      <td>3268.0</td>\n",
       "      <td>4.0</td>\n",
       "    </tr>\n",
       "    <tr>\n",
       "      <th>62</th>\n",
       "      <td>Natal</td>\n",
       "      <td>2018-02-10</td>\n",
       "      <td>793.0</td>\n",
       "      <td>854</td>\n",
       "      <td>4</td>\n",
       "      <td>3172.0</td>\n",
       "      <td>4.0</td>\n",
       "    </tr>\n",
       "    <tr>\n",
       "      <th>52</th>\n",
       "      <td>Natal</td>\n",
       "      <td>2018-04-27</td>\n",
       "      <td>778.0</td>\n",
       "      <td>854</td>\n",
       "      <td>4</td>\n",
       "      <td>3112.0</td>\n",
       "      <td>4.0</td>\n",
       "    </tr>\n",
       "  </tbody>\n",
       "</table>\n",
       "</div>"
      ],
      "text/plain": [
       "   Cidade       Data  Vendas LojaID  Qtde  Receita  Receita/Vendas\n",
       "7   Natal 2019-03-18   886.0    853     4   3544.0             4.0\n",
       "55  Natal 2019-01-08   859.0    854     4   3436.0             4.0\n",
       "51  Natal 2018-01-21   859.0    852     4   3436.0             4.0\n",
       "30  Natal 2018-10-02   856.0    853     4   3424.0             4.0\n",
       "41  Natal 2018-05-20   835.0    852     4   3340.0             4.0\n",
       "38  Natal 2018-02-25   828.0    852     4   3312.0             4.0\n",
       "10  Natal 2018-10-27   828.0    852     4   3312.0             4.0\n",
       "69  Natal 2019-03-24   817.0    852     4   3268.0             4.0\n",
       "62  Natal 2018-02-10   793.0    854     4   3172.0             4.0\n",
       "52  Natal 2018-04-27   778.0    854     4   3112.0             4.0"
      ]
     },
     "execution_count": 54,
     "metadata": {},
     "output_type": "execute_result"
    }
   ],
   "source": [
    "#Ordenando o conjunto de dados\n",
    "df.sort_values(\"Receita\", ascending=False).head(10)"
   ]
  },
  {
   "cell_type": "markdown",
   "metadata": {},
   "source": [
    "**Trabalhando com datas**"
   ]
  },
  {
   "cell_type": "code",
   "execution_count": 56,
   "metadata": {},
   "outputs": [
    {
     "name": "stderr",
     "output_type": "stream",
     "text": [
      "<ipython-input-56-6b0551f32edb>:2: FutureWarning: casting datetime64[ns] values to int64 with .astype(...) is deprecated and will raise in a future version. Use .view(...) instead.\n",
      "  df[\"Data\"] = df[\"Data\"].astype(\"int64\")\n"
     ]
    }
   ],
   "source": [
    "#Trasnformando a coluna de data em tipo inteiro\n",
    "df[\"Data\"] = df[\"Data\"].astype(\"int64\")"
   ]
  },
  {
   "cell_type": "code",
   "execution_count": 57,
   "metadata": {},
   "outputs": [
    {
     "data": {
      "text/plain": [
       "Cidade             object\n",
       "Data                int64\n",
       "Vendas            float64\n",
       "LojaID             object\n",
       "Qtde                int64\n",
       "Receita           float64\n",
       "Receita/Vendas    float64\n",
       "dtype: object"
      ]
     },
     "execution_count": 57,
     "metadata": {},
     "output_type": "execute_result"
    }
   ],
   "source": [
    "#Verificando o tipo de dado de cada coluna\n",
    "df.dtypes"
   ]
  },
  {
   "cell_type": "code",
   "execution_count": 58,
   "metadata": {},
   "outputs": [],
   "source": [
    "#Transformando coluna de data em data\n",
    "df[\"Data\"] = pd.to_datetime(df[\"Data\"])"
   ]
  },
  {
   "cell_type": "code",
   "execution_count": 59,
   "metadata": {},
   "outputs": [
    {
     "data": {
      "text/plain": [
       "Cidade                    object\n",
       "Data              datetime64[ns]\n",
       "Vendas                   float64\n",
       "LojaID                    object\n",
       "Qtde                       int64\n",
       "Receita                  float64\n",
       "Receita/Vendas           float64\n",
       "dtype: object"
      ]
     },
     "execution_count": 59,
     "metadata": {},
     "output_type": "execute_result"
    }
   ],
   "source": [
    "df.dtypes"
   ]
  },
  {
   "cell_type": "code",
   "execution_count": 60,
   "metadata": {},
   "outputs": [
    {
     "data": {
      "text/plain": [
       "Data\n",
       "2018    118176.53\n",
       "2019    228246.45\n",
       "Name: Receita, dtype: float64"
      ]
     },
     "execution_count": 60,
     "metadata": {},
     "output_type": "execute_result"
    }
   ],
   "source": [
    "#Agrupamento por ano\n",
    "df.groupby(df[\"Data\"].dt.year)[\"Receita\"].sum()"
   ]
  },
  {
   "cell_type": "code",
   "execution_count": 61,
   "metadata": {},
   "outputs": [],
   "source": [
    "#Criando uma nova coluna com o ano\n",
    "df[\"Ano_Venda\"] = df[\"Data\"].dt.year"
   ]
  },
  {
   "cell_type": "code",
   "execution_count": 62,
   "metadata": {},
   "outputs": [
    {
     "data": {
      "text/html": [
       "<div>\n",
       "<style scoped>\n",
       "    .dataframe tbody tr th:only-of-type {\n",
       "        vertical-align: middle;\n",
       "    }\n",
       "\n",
       "    .dataframe tbody tr th {\n",
       "        vertical-align: top;\n",
       "    }\n",
       "\n",
       "    .dataframe thead th {\n",
       "        text-align: right;\n",
       "    }\n",
       "</style>\n",
       "<table border=\"1\" class=\"dataframe\">\n",
       "  <thead>\n",
       "    <tr style=\"text-align: right;\">\n",
       "      <th></th>\n",
       "      <th>Cidade</th>\n",
       "      <th>Data</th>\n",
       "      <th>Vendas</th>\n",
       "      <th>LojaID</th>\n",
       "      <th>Qtde</th>\n",
       "      <th>Receita</th>\n",
       "      <th>Receita/Vendas</th>\n",
       "      <th>Ano_Venda</th>\n",
       "    </tr>\n",
       "  </thead>\n",
       "  <tbody>\n",
       "    <tr>\n",
       "      <th>159</th>\n",
       "      <td>Salvador</td>\n",
       "      <td>2019-01-02</td>\n",
       "      <td>172.52</td>\n",
       "      <td>1035</td>\n",
       "      <td>1</td>\n",
       "      <td>172.52</td>\n",
       "      <td>1.0</td>\n",
       "      <td>2019</td>\n",
       "    </tr>\n",
       "    <tr>\n",
       "      <th>31</th>\n",
       "      <td>Salvador</td>\n",
       "      <td>2019-01-01</td>\n",
       "      <td>202.25</td>\n",
       "      <td>1035</td>\n",
       "      <td>2</td>\n",
       "      <td>404.50</td>\n",
       "      <td>2.0</td>\n",
       "      <td>2019</td>\n",
       "    </tr>\n",
       "    <tr>\n",
       "      <th>95</th>\n",
       "      <td>Salvador</td>\n",
       "      <td>2019-01-01</td>\n",
       "      <td>5.13</td>\n",
       "      <td>1035</td>\n",
       "      <td>1</td>\n",
       "      <td>5.13</td>\n",
       "      <td>1.0</td>\n",
       "      <td>2019</td>\n",
       "    </tr>\n",
       "    <tr>\n",
       "      <th>16</th>\n",
       "      <td>Recife</td>\n",
       "      <td>2019-01-01</td>\n",
       "      <td>19.95</td>\n",
       "      <td>980</td>\n",
       "      <td>8</td>\n",
       "      <td>159.60</td>\n",
       "      <td>8.0</td>\n",
       "      <td>2019</td>\n",
       "    </tr>\n",
       "    <tr>\n",
       "      <th>136</th>\n",
       "      <td>Salvador</td>\n",
       "      <td>2019-03-02</td>\n",
       "      <td>13.81</td>\n",
       "      <td>1036</td>\n",
       "      <td>1</td>\n",
       "      <td>13.81</td>\n",
       "      <td>1.0</td>\n",
       "      <td>2019</td>\n",
       "    </tr>\n",
       "  </tbody>\n",
       "</table>\n",
       "</div>"
      ],
      "text/plain": [
       "       Cidade       Data  Vendas LojaID  Qtde  Receita  Receita/Vendas  \\\n",
       "159  Salvador 2019-01-02  172.52   1035     1   172.52             1.0   \n",
       "31   Salvador 2019-01-01  202.25   1035     2   404.50             2.0   \n",
       "95   Salvador 2019-01-01    5.13   1035     1     5.13             1.0   \n",
       "16     Recife 2019-01-01   19.95    980     8   159.60             8.0   \n",
       "136  Salvador 2019-03-02   13.81   1036     1    13.81             1.0   \n",
       "\n",
       "     Ano_Venda  \n",
       "159       2019  \n",
       "31        2019  \n",
       "95        2019  \n",
       "16        2019  \n",
       "136       2019  "
      ]
     },
     "execution_count": 62,
     "metadata": {},
     "output_type": "execute_result"
    }
   ],
   "source": [
    "df.sample(5)"
   ]
  },
  {
   "cell_type": "code",
   "execution_count": 63,
   "metadata": {},
   "outputs": [],
   "source": [
    "#Extraindo o mês e o dia\n",
    "df[\"mes_venda\"], df[\"dia_venda\"] = (df[\"Data\"].dt.month, df[\"Data\"].dt.day)"
   ]
  },
  {
   "cell_type": "code",
   "execution_count": 64,
   "metadata": {},
   "outputs": [
    {
     "data": {
      "text/html": [
       "<div>\n",
       "<style scoped>\n",
       "    .dataframe tbody tr th:only-of-type {\n",
       "        vertical-align: middle;\n",
       "    }\n",
       "\n",
       "    .dataframe tbody tr th {\n",
       "        vertical-align: top;\n",
       "    }\n",
       "\n",
       "    .dataframe thead th {\n",
       "        text-align: right;\n",
       "    }\n",
       "</style>\n",
       "<table border=\"1\" class=\"dataframe\">\n",
       "  <thead>\n",
       "    <tr style=\"text-align: right;\">\n",
       "      <th></th>\n",
       "      <th>Cidade</th>\n",
       "      <th>Data</th>\n",
       "      <th>Vendas</th>\n",
       "      <th>LojaID</th>\n",
       "      <th>Qtde</th>\n",
       "      <th>Receita</th>\n",
       "      <th>Receita/Vendas</th>\n",
       "      <th>Ano_Venda</th>\n",
       "      <th>mes_venda</th>\n",
       "      <th>dia_venda</th>\n",
       "    </tr>\n",
       "  </thead>\n",
       "  <tbody>\n",
       "    <tr>\n",
       "      <th>57</th>\n",
       "      <td>Aracaju</td>\n",
       "      <td>2018-01-01</td>\n",
       "      <td>23.49</td>\n",
       "      <td>1520</td>\n",
       "      <td>7</td>\n",
       "      <td>164.43</td>\n",
       "      <td>7.0</td>\n",
       "      <td>2018</td>\n",
       "      <td>1</td>\n",
       "      <td>1</td>\n",
       "    </tr>\n",
       "    <tr>\n",
       "      <th>46</th>\n",
       "      <td>Aracaju</td>\n",
       "      <td>2018-01-01</td>\n",
       "      <td>41.42</td>\n",
       "      <td>1522</td>\n",
       "      <td>2</td>\n",
       "      <td>82.84</td>\n",
       "      <td>2.0</td>\n",
       "      <td>2018</td>\n",
       "      <td>1</td>\n",
       "      <td>1</td>\n",
       "    </tr>\n",
       "    <tr>\n",
       "      <th>218</th>\n",
       "      <td>Salvador</td>\n",
       "      <td>2019-01-02</td>\n",
       "      <td>189.12</td>\n",
       "      <td>1036</td>\n",
       "      <td>3</td>\n",
       "      <td>567.36</td>\n",
       "      <td>3.0</td>\n",
       "      <td>2019</td>\n",
       "      <td>1</td>\n",
       "      <td>2</td>\n",
       "    </tr>\n",
       "    <tr>\n",
       "      <th>24</th>\n",
       "      <td>Natal</td>\n",
       "      <td>2018-04-22</td>\n",
       "      <td>868.00</td>\n",
       "      <td>854</td>\n",
       "      <td>3</td>\n",
       "      <td>2604.00</td>\n",
       "      <td>3.0</td>\n",
       "      <td>2018</td>\n",
       "      <td>4</td>\n",
       "      <td>22</td>\n",
       "    </tr>\n",
       "    <tr>\n",
       "      <th>36</th>\n",
       "      <td>Salvador</td>\n",
       "      <td>2019-01-01</td>\n",
       "      <td>9.67</td>\n",
       "      <td>1037</td>\n",
       "      <td>1</td>\n",
       "      <td>9.67</td>\n",
       "      <td>1.0</td>\n",
       "      <td>2019</td>\n",
       "      <td>1</td>\n",
       "      <td>1</td>\n",
       "    </tr>\n",
       "  </tbody>\n",
       "</table>\n",
       "</div>"
      ],
      "text/plain": [
       "       Cidade       Data  Vendas LojaID  Qtde  Receita  Receita/Vendas  \\\n",
       "57    Aracaju 2018-01-01   23.49   1520     7   164.43             7.0   \n",
       "46    Aracaju 2018-01-01   41.42   1522     2    82.84             2.0   \n",
       "218  Salvador 2019-01-02  189.12   1036     3   567.36             3.0   \n",
       "24      Natal 2018-04-22  868.00    854     3  2604.00             3.0   \n",
       "36   Salvador 2019-01-01    9.67   1037     1     9.67             1.0   \n",
       "\n",
       "     Ano_Venda  mes_venda  dia_venda  \n",
       "57        2018          1          1  \n",
       "46        2018          1          1  \n",
       "218       2019          1          2  \n",
       "24        2018          4         22  \n",
       "36        2019          1          1  "
      ]
     },
     "execution_count": 64,
     "metadata": {},
     "output_type": "execute_result"
    }
   ],
   "source": [
    "df.sample(5)"
   ]
  },
  {
   "cell_type": "code",
   "execution_count": 65,
   "metadata": {},
   "outputs": [
    {
     "data": {
      "text/plain": [
       "Timestamp('2018-01-01 00:00:00')"
      ]
     },
     "execution_count": 65,
     "metadata": {},
     "output_type": "execute_result"
    }
   ],
   "source": [
    "#Retornando a data mais antiga\n",
    "df[\"Data\"].min()"
   ]
  },
  {
   "cell_type": "code",
   "execution_count": 66,
   "metadata": {},
   "outputs": [],
   "source": [
    "#Calculando a diferença de dias\n",
    "df[\"diferenca_dias\"] = df[\"Data\"] - df[\"Data\"].min()"
   ]
  },
  {
   "cell_type": "code",
   "execution_count": 67,
   "metadata": {},
   "outputs": [
    {
     "data": {
      "text/html": [
       "<div>\n",
       "<style scoped>\n",
       "    .dataframe tbody tr th:only-of-type {\n",
       "        vertical-align: middle;\n",
       "    }\n",
       "\n",
       "    .dataframe tbody tr th {\n",
       "        vertical-align: top;\n",
       "    }\n",
       "\n",
       "    .dataframe thead th {\n",
       "        text-align: right;\n",
       "    }\n",
       "</style>\n",
       "<table border=\"1\" class=\"dataframe\">\n",
       "  <thead>\n",
       "    <tr style=\"text-align: right;\">\n",
       "      <th></th>\n",
       "      <th>Cidade</th>\n",
       "      <th>Data</th>\n",
       "      <th>Vendas</th>\n",
       "      <th>LojaID</th>\n",
       "      <th>Qtde</th>\n",
       "      <th>Receita</th>\n",
       "      <th>Receita/Vendas</th>\n",
       "      <th>Ano_Venda</th>\n",
       "      <th>mes_venda</th>\n",
       "      <th>dia_venda</th>\n",
       "      <th>diferenca_dias</th>\n",
       "    </tr>\n",
       "  </thead>\n",
       "  <tbody>\n",
       "    <tr>\n",
       "      <th>27</th>\n",
       "      <td>Recife</td>\n",
       "      <td>2019-01-01</td>\n",
       "      <td>22.25</td>\n",
       "      <td>980</td>\n",
       "      <td>7</td>\n",
       "      <td>155.75</td>\n",
       "      <td>7.0</td>\n",
       "      <td>2019</td>\n",
       "      <td>1</td>\n",
       "      <td>1</td>\n",
       "      <td>365 days</td>\n",
       "    </tr>\n",
       "    <tr>\n",
       "      <th>121</th>\n",
       "      <td>Fortaleza</td>\n",
       "      <td>2019-03-02</td>\n",
       "      <td>41.55</td>\n",
       "      <td>981</td>\n",
       "      <td>3</td>\n",
       "      <td>124.65</td>\n",
       "      <td>3.0</td>\n",
       "      <td>2019</td>\n",
       "      <td>3</td>\n",
       "      <td>2</td>\n",
       "      <td>425 days</td>\n",
       "    </tr>\n",
       "    <tr>\n",
       "      <th>51</th>\n",
       "      <td>Recife</td>\n",
       "      <td>2019-01-01</td>\n",
       "      <td>146.95</td>\n",
       "      <td>982</td>\n",
       "      <td>2</td>\n",
       "      <td>293.90</td>\n",
       "      <td>2.0</td>\n",
       "      <td>2019</td>\n",
       "      <td>1</td>\n",
       "      <td>1</td>\n",
       "      <td>365 days</td>\n",
       "    </tr>\n",
       "    <tr>\n",
       "      <th>115</th>\n",
       "      <td>Aracaju</td>\n",
       "      <td>2018-01-01</td>\n",
       "      <td>50.99</td>\n",
       "      <td>1522</td>\n",
       "      <td>10</td>\n",
       "      <td>509.90</td>\n",
       "      <td>10.0</td>\n",
       "      <td>2018</td>\n",
       "      <td>1</td>\n",
       "      <td>1</td>\n",
       "      <td>0 days</td>\n",
       "    </tr>\n",
       "    <tr>\n",
       "      <th>38</th>\n",
       "      <td>Salvador</td>\n",
       "      <td>2019-01-01</td>\n",
       "      <td>165.34</td>\n",
       "      <td>1034</td>\n",
       "      <td>3</td>\n",
       "      <td>496.02</td>\n",
       "      <td>3.0</td>\n",
       "      <td>2019</td>\n",
       "      <td>1</td>\n",
       "      <td>1</td>\n",
       "      <td>365 days</td>\n",
       "    </tr>\n",
       "  </tbody>\n",
       "</table>\n",
       "</div>"
      ],
      "text/plain": [
       "        Cidade       Data  Vendas LojaID  Qtde  Receita  Receita/Vendas  \\\n",
       "27      Recife 2019-01-01   22.25    980     7   155.75             7.0   \n",
       "121  Fortaleza 2019-03-02   41.55    981     3   124.65             3.0   \n",
       "51      Recife 2019-01-01  146.95    982     2   293.90             2.0   \n",
       "115    Aracaju 2018-01-01   50.99   1522    10   509.90            10.0   \n",
       "38    Salvador 2019-01-01  165.34   1034     3   496.02             3.0   \n",
       "\n",
       "     Ano_Venda  mes_venda  dia_venda diferenca_dias  \n",
       "27        2019          1          1       365 days  \n",
       "121       2019          3          2       425 days  \n",
       "51        2019          1          1       365 days  \n",
       "115       2018          1          1         0 days  \n",
       "38        2019          1          1       365 days  "
      ]
     },
     "execution_count": 67,
     "metadata": {},
     "output_type": "execute_result"
    }
   ],
   "source": [
    "df.sample(5)"
   ]
  },
  {
   "cell_type": "code",
   "execution_count": 68,
   "metadata": {},
   "outputs": [],
   "source": [
    "#Criando a coluna de trimestre\n",
    "df[\"trimestre_venda\"] = df[\"Data\"].dt.quarter"
   ]
  },
  {
   "cell_type": "code",
   "execution_count": 69,
   "metadata": {},
   "outputs": [
    {
     "data": {
      "text/html": [
       "<div>\n",
       "<style scoped>\n",
       "    .dataframe tbody tr th:only-of-type {\n",
       "        vertical-align: middle;\n",
       "    }\n",
       "\n",
       "    .dataframe tbody tr th {\n",
       "        vertical-align: top;\n",
       "    }\n",
       "\n",
       "    .dataframe thead th {\n",
       "        text-align: right;\n",
       "    }\n",
       "</style>\n",
       "<table border=\"1\" class=\"dataframe\">\n",
       "  <thead>\n",
       "    <tr style=\"text-align: right;\">\n",
       "      <th></th>\n",
       "      <th>Cidade</th>\n",
       "      <th>Data</th>\n",
       "      <th>Vendas</th>\n",
       "      <th>LojaID</th>\n",
       "      <th>Qtde</th>\n",
       "      <th>Receita</th>\n",
       "      <th>Receita/Vendas</th>\n",
       "      <th>Ano_Venda</th>\n",
       "      <th>mes_venda</th>\n",
       "      <th>dia_venda</th>\n",
       "      <th>diferenca_dias</th>\n",
       "      <th>trimestre_venda</th>\n",
       "    </tr>\n",
       "  </thead>\n",
       "  <tbody>\n",
       "    <tr>\n",
       "      <th>109</th>\n",
       "      <td>Salvador</td>\n",
       "      <td>2019-03-02</td>\n",
       "      <td>124.37</td>\n",
       "      <td>1035</td>\n",
       "      <td>1</td>\n",
       "      <td>124.37</td>\n",
       "      <td>1.0</td>\n",
       "      <td>2019</td>\n",
       "      <td>3</td>\n",
       "      <td>2</td>\n",
       "      <td>425 days</td>\n",
       "      <td>1</td>\n",
       "    </tr>\n",
       "    <tr>\n",
       "      <th>95</th>\n",
       "      <td>Natal</td>\n",
       "      <td>2019-01-02</td>\n",
       "      <td>5.13</td>\n",
       "      <td>1035</td>\n",
       "      <td>1</td>\n",
       "      <td>5.13</td>\n",
       "      <td>1.0</td>\n",
       "      <td>2019</td>\n",
       "      <td>1</td>\n",
       "      <td>2</td>\n",
       "      <td>366 days</td>\n",
       "      <td>1</td>\n",
       "    </tr>\n",
       "    <tr>\n",
       "      <th>8</th>\n",
       "      <td>Natal</td>\n",
       "      <td>2019-03-27</td>\n",
       "      <td>667.00</td>\n",
       "      <td>852</td>\n",
       "      <td>4</td>\n",
       "      <td>2668.00</td>\n",
       "      <td>4.0</td>\n",
       "      <td>2019</td>\n",
       "      <td>3</td>\n",
       "      <td>27</td>\n",
       "      <td>450 days</td>\n",
       "      <td>1</td>\n",
       "    </tr>\n",
       "    <tr>\n",
       "      <th>30</th>\n",
       "      <td>Recife</td>\n",
       "      <td>2019-01-01</td>\n",
       "      <td>12.35</td>\n",
       "      <td>980</td>\n",
       "      <td>5</td>\n",
       "      <td>61.75</td>\n",
       "      <td>5.0</td>\n",
       "      <td>2019</td>\n",
       "      <td>1</td>\n",
       "      <td>1</td>\n",
       "      <td>365 days</td>\n",
       "      <td>1</td>\n",
       "    </tr>\n",
       "    <tr>\n",
       "      <th>88</th>\n",
       "      <td>Recife</td>\n",
       "      <td>2019-01-01</td>\n",
       "      <td>180.24</td>\n",
       "      <td>980</td>\n",
       "      <td>6</td>\n",
       "      <td>1081.44</td>\n",
       "      <td>6.0</td>\n",
       "      <td>2019</td>\n",
       "      <td>1</td>\n",
       "      <td>1</td>\n",
       "      <td>365 days</td>\n",
       "      <td>1</td>\n",
       "    </tr>\n",
       "  </tbody>\n",
       "</table>\n",
       "</div>"
      ],
      "text/plain": [
       "       Cidade       Data  Vendas LojaID  Qtde  Receita  Receita/Vendas  \\\n",
       "109  Salvador 2019-03-02  124.37   1035     1   124.37             1.0   \n",
       "95      Natal 2019-01-02    5.13   1035     1     5.13             1.0   \n",
       "8       Natal 2019-03-27  667.00    852     4  2668.00             4.0   \n",
       "30     Recife 2019-01-01   12.35    980     5    61.75             5.0   \n",
       "88     Recife 2019-01-01  180.24    980     6  1081.44             6.0   \n",
       "\n",
       "     Ano_Venda  mes_venda  dia_venda diferenca_dias  trimestre_venda  \n",
       "109       2019          3          2       425 days                1  \n",
       "95        2019          1          2       366 days                1  \n",
       "8         2019          3         27       450 days                1  \n",
       "30        2019          1          1       365 days                1  \n",
       "88        2019          1          1       365 days                1  "
      ]
     },
     "execution_count": 69,
     "metadata": {},
     "output_type": "execute_result"
    }
   ],
   "source": [
    "df.sample(5)"
   ]
  },
  {
   "cell_type": "code",
   "execution_count": 70,
   "metadata": {},
   "outputs": [],
   "source": [
    "#Filtrando as vendas de 2019 do mês de março\n",
    "vendas_marco_19 = df.loc[(df[\"Data\"].dt.year == 2019) & (df[\"Data\"].dt.month == 3)]"
   ]
  },
  {
   "cell_type": "code",
   "execution_count": 71,
   "metadata": {},
   "outputs": [
    {
     "data": {
      "text/html": [
       "<div>\n",
       "<style scoped>\n",
       "    .dataframe tbody tr th:only-of-type {\n",
       "        vertical-align: middle;\n",
       "    }\n",
       "\n",
       "    .dataframe tbody tr th {\n",
       "        vertical-align: top;\n",
       "    }\n",
       "\n",
       "    .dataframe thead th {\n",
       "        text-align: right;\n",
       "    }\n",
       "</style>\n",
       "<table border=\"1\" class=\"dataframe\">\n",
       "  <thead>\n",
       "    <tr style=\"text-align: right;\">\n",
       "      <th></th>\n",
       "      <th>Cidade</th>\n",
       "      <th>Data</th>\n",
       "      <th>Vendas</th>\n",
       "      <th>LojaID</th>\n",
       "      <th>Qtde</th>\n",
       "      <th>Receita</th>\n",
       "      <th>Receita/Vendas</th>\n",
       "      <th>Ano_Venda</th>\n",
       "      <th>mes_venda</th>\n",
       "      <th>dia_venda</th>\n",
       "      <th>diferenca_dias</th>\n",
       "      <th>trimestre_venda</th>\n",
       "    </tr>\n",
       "  </thead>\n",
       "  <tbody>\n",
       "    <tr>\n",
       "      <th>71</th>\n",
       "      <td>Natal</td>\n",
       "      <td>2019-03-20</td>\n",
       "      <td>840.00</td>\n",
       "      <td>854</td>\n",
       "      <td>3</td>\n",
       "      <td>2520.00</td>\n",
       "      <td>3.0</td>\n",
       "      <td>2019</td>\n",
       "      <td>3</td>\n",
       "      <td>20</td>\n",
       "      <td>443 days</td>\n",
       "      <td>1</td>\n",
       "    </tr>\n",
       "    <tr>\n",
       "      <th>112</th>\n",
       "      <td>Salvador</td>\n",
       "      <td>2019-03-02</td>\n",
       "      <td>43.00</td>\n",
       "      <td>1036</td>\n",
       "      <td>3</td>\n",
       "      <td>129.00</td>\n",
       "      <td>3.0</td>\n",
       "      <td>2019</td>\n",
       "      <td>3</td>\n",
       "      <td>2</td>\n",
       "      <td>425 days</td>\n",
       "      <td>1</td>\n",
       "    </tr>\n",
       "    <tr>\n",
       "      <th>117</th>\n",
       "      <td>Recife</td>\n",
       "      <td>2019-03-02</td>\n",
       "      <td>15.42</td>\n",
       "      <td>983</td>\n",
       "      <td>8</td>\n",
       "      <td>123.36</td>\n",
       "      <td>8.0</td>\n",
       "      <td>2019</td>\n",
       "      <td>3</td>\n",
       "      <td>2</td>\n",
       "      <td>425 days</td>\n",
       "      <td>1</td>\n",
       "    </tr>\n",
       "    <tr>\n",
       "      <th>136</th>\n",
       "      <td>Salvador</td>\n",
       "      <td>2019-03-02</td>\n",
       "      <td>13.81</td>\n",
       "      <td>1036</td>\n",
       "      <td>1</td>\n",
       "      <td>13.81</td>\n",
       "      <td>1.0</td>\n",
       "      <td>2019</td>\n",
       "      <td>3</td>\n",
       "      <td>2</td>\n",
       "      <td>425 days</td>\n",
       "      <td>1</td>\n",
       "    </tr>\n",
       "    <tr>\n",
       "      <th>110</th>\n",
       "      <td>Salvador</td>\n",
       "      <td>2019-03-02</td>\n",
       "      <td>185.93</td>\n",
       "      <td>1036</td>\n",
       "      <td>3</td>\n",
       "      <td>557.79</td>\n",
       "      <td>3.0</td>\n",
       "      <td>2019</td>\n",
       "      <td>3</td>\n",
       "      <td>2</td>\n",
       "      <td>425 days</td>\n",
       "      <td>1</td>\n",
       "    </tr>\n",
       "    <tr>\n",
       "      <th>132</th>\n",
       "      <td>Recife</td>\n",
       "      <td>2019-03-02</td>\n",
       "      <td>17.49</td>\n",
       "      <td>983</td>\n",
       "      <td>5</td>\n",
       "      <td>87.45</td>\n",
       "      <td>5.0</td>\n",
       "      <td>2019</td>\n",
       "      <td>3</td>\n",
       "      <td>2</td>\n",
       "      <td>425 days</td>\n",
       "      <td>1</td>\n",
       "    </tr>\n",
       "    <tr>\n",
       "      <th>127</th>\n",
       "      <td>Fortaleza</td>\n",
       "      <td>2019-03-02</td>\n",
       "      <td>39.56</td>\n",
       "      <td>982</td>\n",
       "      <td>8</td>\n",
       "      <td>316.48</td>\n",
       "      <td>8.0</td>\n",
       "      <td>2019</td>\n",
       "      <td>3</td>\n",
       "      <td>2</td>\n",
       "      <td>425 days</td>\n",
       "      <td>1</td>\n",
       "    </tr>\n",
       "    <tr>\n",
       "      <th>133</th>\n",
       "      <td>Fortaleza</td>\n",
       "      <td>2019-03-02</td>\n",
       "      <td>14.67</td>\n",
       "      <td>980</td>\n",
       "      <td>7</td>\n",
       "      <td>102.69</td>\n",
       "      <td>7.0</td>\n",
       "      <td>2019</td>\n",
       "      <td>3</td>\n",
       "      <td>2</td>\n",
       "      <td>425 days</td>\n",
       "      <td>1</td>\n",
       "    </tr>\n",
       "    <tr>\n",
       "      <th>128</th>\n",
       "      <td>Salvador</td>\n",
       "      <td>2019-03-02</td>\n",
       "      <td>36.84</td>\n",
       "      <td>1034</td>\n",
       "      <td>1</td>\n",
       "      <td>36.84</td>\n",
       "      <td>1.0</td>\n",
       "      <td>2019</td>\n",
       "      <td>3</td>\n",
       "      <td>2</td>\n",
       "      <td>425 days</td>\n",
       "      <td>1</td>\n",
       "    </tr>\n",
       "    <tr>\n",
       "      <th>124</th>\n",
       "      <td>Salvador</td>\n",
       "      <td>2019-03-02</td>\n",
       "      <td>44.82</td>\n",
       "      <td>1034</td>\n",
       "      <td>3</td>\n",
       "      <td>134.46</td>\n",
       "      <td>3.0</td>\n",
       "      <td>2019</td>\n",
       "      <td>3</td>\n",
       "      <td>2</td>\n",
       "      <td>425 days</td>\n",
       "      <td>1</td>\n",
       "    </tr>\n",
       "    <tr>\n",
       "      <th>123</th>\n",
       "      <td>Fortaleza</td>\n",
       "      <td>2019-03-02</td>\n",
       "      <td>20.22</td>\n",
       "      <td>981</td>\n",
       "      <td>6</td>\n",
       "      <td>121.32</td>\n",
       "      <td>6.0</td>\n",
       "      <td>2019</td>\n",
       "      <td>3</td>\n",
       "      <td>2</td>\n",
       "      <td>425 days</td>\n",
       "      <td>1</td>\n",
       "    </tr>\n",
       "    <tr>\n",
       "      <th>126</th>\n",
       "      <td>Salvador</td>\n",
       "      <td>2019-03-02</td>\n",
       "      <td>41.69</td>\n",
       "      <td>1036</td>\n",
       "      <td>2</td>\n",
       "      <td>83.38</td>\n",
       "      <td>2.0</td>\n",
       "      <td>2019</td>\n",
       "      <td>3</td>\n",
       "      <td>2</td>\n",
       "      <td>425 days</td>\n",
       "      <td>1</td>\n",
       "    </tr>\n",
       "    <tr>\n",
       "      <th>132</th>\n",
       "      <td>Fortaleza</td>\n",
       "      <td>2019-03-02</td>\n",
       "      <td>17.49</td>\n",
       "      <td>983</td>\n",
       "      <td>5</td>\n",
       "      <td>87.45</td>\n",
       "      <td>5.0</td>\n",
       "      <td>2019</td>\n",
       "      <td>3</td>\n",
       "      <td>2</td>\n",
       "      <td>425 days</td>\n",
       "      <td>1</td>\n",
       "    </tr>\n",
       "    <tr>\n",
       "      <th>69</th>\n",
       "      <td>Natal</td>\n",
       "      <td>2019-03-24</td>\n",
       "      <td>817.00</td>\n",
       "      <td>852</td>\n",
       "      <td>4</td>\n",
       "      <td>3268.00</td>\n",
       "      <td>4.0</td>\n",
       "      <td>2019</td>\n",
       "      <td>3</td>\n",
       "      <td>24</td>\n",
       "      <td>447 days</td>\n",
       "      <td>1</td>\n",
       "    </tr>\n",
       "    <tr>\n",
       "      <th>131</th>\n",
       "      <td>Recife</td>\n",
       "      <td>2019-03-02</td>\n",
       "      <td>139.07</td>\n",
       "      <td>982</td>\n",
       "      <td>6</td>\n",
       "      <td>834.42</td>\n",
       "      <td>6.0</td>\n",
       "      <td>2019</td>\n",
       "      <td>3</td>\n",
       "      <td>2</td>\n",
       "      <td>425 days</td>\n",
       "      <td>1</td>\n",
       "    </tr>\n",
       "    <tr>\n",
       "      <th>139</th>\n",
       "      <td>Salvador</td>\n",
       "      <td>2019-03-02</td>\n",
       "      <td>169.01</td>\n",
       "      <td>1036</td>\n",
       "      <td>1</td>\n",
       "      <td>169.01</td>\n",
       "      <td>1.0</td>\n",
       "      <td>2019</td>\n",
       "      <td>3</td>\n",
       "      <td>2</td>\n",
       "      <td>425 days</td>\n",
       "      <td>1</td>\n",
       "    </tr>\n",
       "    <tr>\n",
       "      <th>136</th>\n",
       "      <td>Recife</td>\n",
       "      <td>2019-03-02</td>\n",
       "      <td>39.09</td>\n",
       "      <td>982</td>\n",
       "      <td>4</td>\n",
       "      <td>156.36</td>\n",
       "      <td>4.0</td>\n",
       "      <td>2019</td>\n",
       "      <td>3</td>\n",
       "      <td>2</td>\n",
       "      <td>425 days</td>\n",
       "      <td>1</td>\n",
       "    </tr>\n",
       "    <tr>\n",
       "      <th>115</th>\n",
       "      <td>Salvador</td>\n",
       "      <td>2019-03-02</td>\n",
       "      <td>202.33</td>\n",
       "      <td>1035</td>\n",
       "      <td>2</td>\n",
       "      <td>404.66</td>\n",
       "      <td>2.0</td>\n",
       "      <td>2019</td>\n",
       "      <td>3</td>\n",
       "      <td>2</td>\n",
       "      <td>425 days</td>\n",
       "      <td>1</td>\n",
       "    </tr>\n",
       "    <tr>\n",
       "      <th>115</th>\n",
       "      <td>Recife</td>\n",
       "      <td>2019-03-02</td>\n",
       "      <td>12.23</td>\n",
       "      <td>981</td>\n",
       "      <td>3</td>\n",
       "      <td>36.69</td>\n",
       "      <td>3.0</td>\n",
       "      <td>2019</td>\n",
       "      <td>3</td>\n",
       "      <td>2</td>\n",
       "      <td>425 days</td>\n",
       "      <td>1</td>\n",
       "    </tr>\n",
       "    <tr>\n",
       "      <th>7</th>\n",
       "      <td>Natal</td>\n",
       "      <td>2019-03-18</td>\n",
       "      <td>886.00</td>\n",
       "      <td>853</td>\n",
       "      <td>4</td>\n",
       "      <td>3544.00</td>\n",
       "      <td>4.0</td>\n",
       "      <td>2019</td>\n",
       "      <td>3</td>\n",
       "      <td>18</td>\n",
       "      <td>441 days</td>\n",
       "      <td>1</td>\n",
       "    </tr>\n",
       "  </tbody>\n",
       "</table>\n",
       "</div>"
      ],
      "text/plain": [
       "        Cidade       Data  Vendas LojaID  Qtde  Receita  Receita/Vendas  \\\n",
       "71       Natal 2019-03-20  840.00    854     3  2520.00             3.0   \n",
       "112   Salvador 2019-03-02   43.00   1036     3   129.00             3.0   \n",
       "117     Recife 2019-03-02   15.42    983     8   123.36             8.0   \n",
       "136   Salvador 2019-03-02   13.81   1036     1    13.81             1.0   \n",
       "110   Salvador 2019-03-02  185.93   1036     3   557.79             3.0   \n",
       "132     Recife 2019-03-02   17.49    983     5    87.45             5.0   \n",
       "127  Fortaleza 2019-03-02   39.56    982     8   316.48             8.0   \n",
       "133  Fortaleza 2019-03-02   14.67    980     7   102.69             7.0   \n",
       "128   Salvador 2019-03-02   36.84   1034     1    36.84             1.0   \n",
       "124   Salvador 2019-03-02   44.82   1034     3   134.46             3.0   \n",
       "123  Fortaleza 2019-03-02   20.22    981     6   121.32             6.0   \n",
       "126   Salvador 2019-03-02   41.69   1036     2    83.38             2.0   \n",
       "132  Fortaleza 2019-03-02   17.49    983     5    87.45             5.0   \n",
       "69       Natal 2019-03-24  817.00    852     4  3268.00             4.0   \n",
       "131     Recife 2019-03-02  139.07    982     6   834.42             6.0   \n",
       "139   Salvador 2019-03-02  169.01   1036     1   169.01             1.0   \n",
       "136     Recife 2019-03-02   39.09    982     4   156.36             4.0   \n",
       "115   Salvador 2019-03-02  202.33   1035     2   404.66             2.0   \n",
       "115     Recife 2019-03-02   12.23    981     3    36.69             3.0   \n",
       "7        Natal 2019-03-18  886.00    853     4  3544.00             4.0   \n",
       "\n",
       "     Ano_Venda  mes_venda  dia_venda diferenca_dias  trimestre_venda  \n",
       "71        2019          3         20       443 days                1  \n",
       "112       2019          3          2       425 days                1  \n",
       "117       2019          3          2       425 days                1  \n",
       "136       2019          3          2       425 days                1  \n",
       "110       2019          3          2       425 days                1  \n",
       "132       2019          3          2       425 days                1  \n",
       "127       2019          3          2       425 days                1  \n",
       "133       2019          3          2       425 days                1  \n",
       "128       2019          3          2       425 days                1  \n",
       "124       2019          3          2       425 days                1  \n",
       "123       2019          3          2       425 days                1  \n",
       "126       2019          3          2       425 days                1  \n",
       "132       2019          3          2       425 days                1  \n",
       "69        2019          3         24       447 days                1  \n",
       "131       2019          3          2       425 days                1  \n",
       "139       2019          3          2       425 days                1  \n",
       "136       2019          3          2       425 days                1  \n",
       "115       2019          3          2       425 days                1  \n",
       "115       2019          3          2       425 days                1  \n",
       "7         2019          3         18       441 days                1  "
      ]
     },
     "execution_count": 71,
     "metadata": {},
     "output_type": "execute_result"
    }
   ],
   "source": [
    "vendas_marco_19.sample(20)"
   ]
  },
  {
   "cell_type": "markdown",
   "metadata": {},
   "source": [
    "**Visualização de dados**"
   ]
  },
  {
   "cell_type": "code",
   "execution_count": 72,
   "metadata": {},
   "outputs": [
    {
     "data": {
      "text/plain": [
       "1036    117\n",
       "1035    112\n",
       "1037    101\n",
       "1034     67\n",
       "983      65\n",
       "982      44\n",
       "1522     41\n",
       "1520     39\n",
       "980      36\n",
       "981      31\n",
       "1005     30\n",
       "1002     30\n",
       "852      29\n",
       "1523     29\n",
       "1004     28\n",
       "854      28\n",
       "853      26\n",
       "1521     21\n",
       "1003     20\n",
       "Name: LojaID, dtype: int64"
      ]
     },
     "execution_count": 72,
     "metadata": {},
     "output_type": "execute_result"
    }
   ],
   "source": [
    "df[\"LojaID\"].value_counts(ascending=False)"
   ]
  },
  {
   "cell_type": "code",
   "execution_count": 73,
   "metadata": {},
   "outputs": [
    {
     "data": {
      "text/plain": [
       "<AxesSubplot:>"
      ]
     },
     "execution_count": 73,
     "metadata": {},
     "output_type": "execute_result"
    },
    {
     "data": {
      "image/png": "[encoded data removed]",
      "text/plain": [
       "<Figure size 432x288 with 1 Axes>"
      ]
     },
     "metadata": {
      "needs_background": "light"
     },
     "output_type": "display_data"
    }
   ],
   "source": [
    "#Gráfico de barras\n",
    "df[\"LojaID\"].value_counts(ascending=False).plot.bar()"
   ]
  },
  {
   "cell_type": "code",
   "execution_count": 74,
   "metadata": {},
   "outputs": [
    {
     "data": {
      "text/plain": [
       "<AxesSubplot:>"
      ]
     },
     "execution_count": 74,
     "metadata": {},
     "output_type": "execute_result"
    },
    {
     "data": {
      "image/png": "[encoded data removed]",
      "text/plain": [
       "<Figure size 432x288 with 1 Axes>"
      ]
     },
     "metadata": {
      "needs_background": "light"
     },
     "output_type": "display_data"
    }
   ],
   "source": [
    "#Gráfico de barras horizontais\n",
    "df[\"LojaID\"].value_counts().plot.barh()"
   ]
  },
  {
   "cell_type": "code",
   "execution_count": 75,
   "metadata": {},
   "outputs": [
    {
     "data": {
      "image/png": "[encoded data removed]",
      "text/plain": [
       "<Figure size 432x288 with 1 Axes>"
      ]
     },
     "metadata": {
      "needs_background": "light"
     },
     "output_type": "display_data"
    }
   ],
   "source": [
    "#Gráfico de barras horizontais\n",
    "df[\"LojaID\"].value_counts(ascending=True).plot.barh();"
   ]
  },
  {
   "cell_type": "code",
   "execution_count": 76,
   "metadata": {},
   "outputs": [
    {
     "data": {
      "text/plain": [
       "<AxesSubplot:ylabel='Receita'>"
      ]
     },
     "execution_count": 76,
     "metadata": {},
     "output_type": "execute_result"
    },
    {
     "data": {
      "image/png": "[encoded data removed]",
      "text/plain": [
       "<Figure size 432x288 with 1 Axes>"
      ]
     },
     "metadata": {},
     "output_type": "display_data"
    }
   ],
   "source": [
    "#Gráfico de Pizza\n",
    "df.groupby(df[\"Data\"].dt.year)[\"Receita\"].sum().plot.pie()"
   ]
  },
  {
   "cell_type": "code",
   "execution_count": 77,
   "metadata": {},
   "outputs": [
    {
     "data": {
      "text/plain": [
       "Natal        240\n",
       "Salvador     240\n",
       "Fortaleza    142\n",
       "Recife       142\n",
       "Aracaju      130\n",
       "Name: Cidade, dtype: int64"
      ]
     },
     "execution_count": 77,
     "metadata": {},
     "output_type": "execute_result"
    }
   ],
   "source": [
    "#Total vendas por cidade\n",
    "df[\"Cidade\"].value_counts()"
   ]
  },
  {
   "cell_type": "code",
   "execution_count": 78,
   "metadata": {},
   "outputs": [
    {
     "data": {
      "image/png": "[encoded data removed]",
      "text/plain": [
       "<Figure size 432x288 with 1 Axes>"
      ]
     },
     "metadata": {
      "needs_background": "light"
     },
     "output_type": "display_data"
    }
   ],
   "source": [
    "#Adicionando um título e alterando o nome dos eixos\n",
    "import matplotlib.pyplot as plt\n",
    "df[\"Cidade\"].value_counts().plot.bar(title=\"Total vendas por Cidade\")\n",
    "plt.xlabel(\"Cidade\")\n",
    "plt.ylabel(\"Total Vendas\");"
   ]
  },
  {
   "cell_type": "code",
   "execution_count": 79,
   "metadata": {},
   "outputs": [
    {
     "data": {
      "image/png": "[encoded data removed]",
      "text/plain": [
       "<Figure size 432x288 with 1 Axes>"
      ]
     },
     "metadata": {
      "needs_background": "light"
     },
     "output_type": "display_data"
    }
   ],
   "source": [
    "#Alterando a cor\n",
    "df[\"Cidade\"].value_counts().plot.bar(title=\"Total vendas por Cidade\", color=\"red\")\n",
    "plt.xlabel(\"Cidade\")\n",
    "plt.ylabel(\"Total Vendas\");"
   ]
  },
  {
   "cell_type": "code",
   "execution_count": 80,
   "metadata": {},
   "outputs": [],
   "source": [
    "#Alterando o estilo\n",
    "plt.style.use(\"ggplot\")"
   ]
  },
  {
   "cell_type": "code",
   "execution_count": 81,
   "metadata": {},
   "outputs": [
    {
     "data": {
      "image/png": "[encoded data removed]",
      "text/plain": [
       "<Figure size 432x288 with 1 Axes>"
      ]
     },
     "metadata": {},
     "output_type": "display_data"
    }
   ],
   "source": [
    "df.groupby(df[\"mes_venda\"])[\"Qtde\"].sum().plot(title = \"Total Produtos vendidos x mês\")\n",
    "plt.xlabel(\"Mês\")\n",
    "plt.ylabel(\"Total Produtos Vendidos\")\n",
    "plt.legend();"
   ]
  },
  {
   "cell_type": "code",
   "execution_count": 82,
   "metadata": {},
   "outputs": [
    {
     "data": {
      "text/plain": [
       "mes_venda\n",
       "1     2208\n",
       "2      144\n",
       "3      467\n",
       "4       23\n",
       "5       17\n",
       "6       13\n",
       "7       13\n",
       "8        2\n",
       "9       10\n",
       "10      14\n",
       "11       2\n",
       "12       3\n",
       "Name: Qtde, dtype: int64"
      ]
     },
     "execution_count": 82,
     "metadata": {},
     "output_type": "execute_result"
    }
   ],
   "source": [
    "df.groupby(df[\"mes_venda\"])[\"Qtde\"].sum()"
   ]
  },
  {
   "cell_type": "code",
   "execution_count": 83,
   "metadata": {},
   "outputs": [],
   "source": [
    "#Selecionando apenas as vendas de 2019\n",
    "df_2019 = df[df[\"Ano_Venda\"] == 2019]"
   ]
  },
  {
   "cell_type": "code",
   "execution_count": 84,
   "metadata": {},
   "outputs": [
    {
     "data": {
      "text/plain": [
       "mes_venda\n",
       "1    1541\n",
       "2     128\n",
       "3     460\n",
       "4      12\n",
       "Name: Qtde, dtype: int64"
      ]
     },
     "execution_count": 84,
     "metadata": {},
     "output_type": "execute_result"
    }
   ],
   "source": [
    "df_2019.groupby(df_2019[\"mes_venda\"])[\"Qtde\"].sum()"
   ]
  },
  {
   "cell_type": "code",
   "execution_count": 85,
   "metadata": {},
   "outputs": [
    {
     "data": {
      "image/png": "[encoded data removed]",
      "text/plain": [
       "<Figure size 432x288 with 1 Axes>"
      ]
     },
     "metadata": {},
     "output_type": "display_data"
    }
   ],
   "source": [
    "#Total produtos vendidos por mês\n",
    "df_2019.groupby(df_2019[\"mes_venda\"])[\"Qtde\"].sum().plot(marker = \"o\")\n",
    "plt.xlabel(\"Mês\")\n",
    "plt.ylabel(\"Total Produtos Vendidos\")\n",
    "plt.legend();"
   ]
  },
  {
   "cell_type": "code",
   "execution_count": 86,
   "metadata": {},
   "outputs": [
    {
     "data": {
      "image/png": "[encoded data removed]",
      "text/plain": [
       "<Figure size 432x288 with 1 Axes>"
      ]
     },
     "metadata": {},
     "output_type": "display_data"
    }
   ],
   "source": [
    "#Hisograma\n",
    "plt.hist(df[\"Qtde\"], color=\"orangered\");"
   ]
  },
  {
   "cell_type": "code",
   "execution_count": 87,
   "metadata": {},
   "outputs": [
    {
     "data": {
      "image/png": "[encoded data removed]",
      "text/plain": [
       "<Figure size 432x288 with 1 Axes>"
      ]
     },
     "metadata": {},
     "output_type": "display_data"
    }
   ],
   "source": [
    "plt.scatter(x=df_2019[\"dia_venda\"], y = df_2019[\"Receita\"]);"
   ]
  },
  {
   "cell_type": "code",
   "execution_count": 88,
   "metadata": {},
   "outputs": [
    {
     "data": {
      "image/png": "[encoded data removed]",
      "text/plain": [
       "<Figure size 432x288 with 1 Axes>"
      ]
     },
     "metadata": {},
     "output_type": "display_data"
    }
   ],
   "source": [
    "#Salvando em png\n",
    "df_2019.groupby(df_2019[\"mes_venda\"])[\"Qtde\"].sum().plot(marker = \"v\")\n",
    "plt.title(\"Quantidade de produtos vendidos x mês\")\n",
    "plt.xlabel(\"Mês\")\n",
    "plt.ylabel(\"Total Produtos Vendidos\");\n",
    "plt.legend()\n",
    "plt.savefig(\"grafico QTDE x MES.png\")"
   ]
  },
  {
   "cell_type": "code",
   "execution_count": null,
   "metadata": {},
   "outputs": [],
   "source": []
  },
  {
   "cell_type": "code",
   "execution_count": 89,
   "metadata": {},
   "outputs": [],
   "source": [
    "#Importando as bibliotecas\n",
    "import pandas as pd\n",
    "import matplotlib.pyplot as plt\n",
    "plt.style.use(\"seaborn\")"
   ]
  },
  {
   "cell_type": "code",
   "execution_count": 90,
   "metadata": {},
   "outputs": [],
   "source": [
    "#Criando nosso DataFrame\n",
    "df = pd.read_excel(\"/home/joao/Downloads/Cusro_Python_Pandas_Digital_Innovation-master/datasets/AdventureWorks.xlsx\")"
   ]
  },
  {
   "cell_type": "code",
   "execution_count": 92,
   "metadata": {},
   "outputs": [
    {
     "data": {
      "text/html": [
       "<div>\n",
       "<style scoped>\n",
       "    .dataframe tbody tr th:only-of-type {\n",
       "        vertical-align: middle;\n",
       "    }\n",
       "\n",
       "    .dataframe tbody tr th {\n",
       "        vertical-align: top;\n",
       "    }\n",
       "\n",
       "    .dataframe thead th {\n",
       "        text-align: right;\n",
       "    }\n",
       "</style>\n",
       "<table border=\"1\" class=\"dataframe\">\n",
       "  <thead>\n",
       "    <tr style=\"text-align: right;\">\n",
       "      <th></th>\n",
       "      <th>Data Venda</th>\n",
       "      <th>Data Envio</th>\n",
       "      <th>ID Loja</th>\n",
       "      <th>ID Produto</th>\n",
       "      <th>ID Cliente</th>\n",
       "      <th>No. Venda</th>\n",
       "      <th>Custo Unitário</th>\n",
       "      <th>Preço Unitário</th>\n",
       "      <th>Quantidade</th>\n",
       "      <th>Valor Desconto</th>\n",
       "      <th>Valor Venda</th>\n",
       "      <th>Produto</th>\n",
       "      <th>Fabricante</th>\n",
       "      <th>Marca</th>\n",
       "      <th>Classe</th>\n",
       "      <th>Cor</th>\n",
       "    </tr>\n",
       "  </thead>\n",
       "  <tbody>\n",
       "    <tr>\n",
       "      <th>0</th>\n",
       "      <td>2008-05-09</td>\n",
       "      <td>2008-05-29</td>\n",
       "      <td>199</td>\n",
       "      <td>384</td>\n",
       "      <td>18839</td>\n",
       "      <td>200805093CS607</td>\n",
       "      <td>348.58</td>\n",
       "      <td>758.0</td>\n",
       "      <td>6</td>\n",
       "      <td>0.0</td>\n",
       "      <td>4548.0</td>\n",
       "      <td>Adventure Works Laptop15.4W M1548 Red</td>\n",
       "      <td>Adventure Works</td>\n",
       "      <td>Adventure Works</td>\n",
       "      <td>Regular</td>\n",
       "      <td>Red</td>\n",
       "    </tr>\n",
       "    <tr>\n",
       "      <th>1</th>\n",
       "      <td>2008-05-12</td>\n",
       "      <td>2008-05-17</td>\n",
       "      <td>306</td>\n",
       "      <td>384</td>\n",
       "      <td>19051</td>\n",
       "      <td>200805123CS567</td>\n",
       "      <td>348.58</td>\n",
       "      <td>758.0</td>\n",
       "      <td>6</td>\n",
       "      <td>0.0</td>\n",
       "      <td>4548.0</td>\n",
       "      <td>Adventure Works Laptop15.4W M1548 Red</td>\n",
       "      <td>Adventure Works</td>\n",
       "      <td>Adventure Works</td>\n",
       "      <td>Regular</td>\n",
       "      <td>Red</td>\n",
       "    </tr>\n",
       "    <tr>\n",
       "      <th>2</th>\n",
       "      <td>2008-05-14</td>\n",
       "      <td>2008-05-20</td>\n",
       "      <td>306</td>\n",
       "      <td>384</td>\n",
       "      <td>19052</td>\n",
       "      <td>200805143CS576</td>\n",
       "      <td>348.58</td>\n",
       "      <td>758.0</td>\n",
       "      <td>6</td>\n",
       "      <td>0.0</td>\n",
       "      <td>4548.0</td>\n",
       "      <td>Adventure Works Laptop15.4W M1548 Red</td>\n",
       "      <td>Adventure Works</td>\n",
       "      <td>Adventure Works</td>\n",
       "      <td>Regular</td>\n",
       "      <td>Red</td>\n",
       "    </tr>\n",
       "    <tr>\n",
       "      <th>3</th>\n",
       "      <td>2008-05-21</td>\n",
       "      <td>2008-05-27</td>\n",
       "      <td>306</td>\n",
       "      <td>384</td>\n",
       "      <td>19052</td>\n",
       "      <td>200805213CS576</td>\n",
       "      <td>348.58</td>\n",
       "      <td>758.0</td>\n",
       "      <td>6</td>\n",
       "      <td>0.0</td>\n",
       "      <td>4548.0</td>\n",
       "      <td>Adventure Works Laptop15.4W M1548 Red</td>\n",
       "      <td>Adventure Works</td>\n",
       "      <td>Adventure Works</td>\n",
       "      <td>Regular</td>\n",
       "      <td>Red</td>\n",
       "    </tr>\n",
       "    <tr>\n",
       "      <th>4</th>\n",
       "      <td>2008-06-20</td>\n",
       "      <td>2008-06-27</td>\n",
       "      <td>306</td>\n",
       "      <td>384</td>\n",
       "      <td>19053</td>\n",
       "      <td>200806203CS586</td>\n",
       "      <td>348.58</td>\n",
       "      <td>758.0</td>\n",
       "      <td>6</td>\n",
       "      <td>0.0</td>\n",
       "      <td>4548.0</td>\n",
       "      <td>Adventure Works Laptop15.4W M1548 Red</td>\n",
       "      <td>Adventure Works</td>\n",
       "      <td>Adventure Works</td>\n",
       "      <td>Regular</td>\n",
       "      <td>Red</td>\n",
       "    </tr>\n",
       "  </tbody>\n",
       "</table>\n",
       "</div>"
      ],
      "text/plain": [
       "  Data Venda Data Envio  ID Loja  ID Produto  ID Cliente       No. Venda  \\\n",
       "0 2008-05-09 2008-05-29      199         384       18839  200805093CS607   \n",
       "1 2008-05-12 2008-05-17      306         384       19051  200805123CS567   \n",
       "2 2008-05-14 2008-05-20      306         384       19052  200805143CS576   \n",
       "3 2008-05-21 2008-05-27      306         384       19052  200805213CS576   \n",
       "4 2008-06-20 2008-06-27      306         384       19053  200806203CS586   \n",
       "\n",
       "   Custo Unitário  Preço Unitário  Quantidade  Valor Desconto  Valor Venda  \\\n",
       "0          348.58           758.0           6             0.0       4548.0   \n",
       "1          348.58           758.0           6             0.0       4548.0   \n",
       "2          348.58           758.0           6             0.0       4548.0   \n",
       "3          348.58           758.0           6             0.0       4548.0   \n",
       "4          348.58           758.0           6             0.0       4548.0   \n",
       "\n",
       "                                 Produto       Fabricante            Marca  \\\n",
       "0  Adventure Works Laptop15.4W M1548 Red  Adventure Works  Adventure Works   \n",
       "1  Adventure Works Laptop15.4W M1548 Red  Adventure Works  Adventure Works   \n",
       "2  Adventure Works Laptop15.4W M1548 Red  Adventure Works  Adventure Works   \n",
       "3  Adventure Works Laptop15.4W M1548 Red  Adventure Works  Adventure Works   \n",
       "4  Adventure Works Laptop15.4W M1548 Red  Adventure Works  Adventure Works   \n",
       "\n",
       "    Classe  Cor  \n",
       "0  Regular  Red  \n",
       "1  Regular  Red  \n",
       "2  Regular  Red  \n",
       "3  Regular  Red  \n",
       "4  Regular  Red  "
      ]
     },
     "execution_count": 92,
     "metadata": {},
     "output_type": "execute_result"
    }
   ],
   "source": [
    "#Visualizando as 5 primeiras linhas\n",
    "df.head()"
   ]
  },
  {
   "cell_type": "code",
   "execution_count": 93,
   "metadata": {},
   "outputs": [
    {
     "data": {
      "text/plain": [
       "(904, 16)"
      ]
     },
     "execution_count": 93,
     "metadata": {},
     "output_type": "execute_result"
    }
   ],
   "source": [
    "#Quantidade de linhas e colunas\n",
    "df.shape"
   ]
  },
  {
   "cell_type": "code",
   "execution_count": 94,
   "metadata": {},
   "outputs": [
    {
     "data": {
      "text/plain": [
       "Data Venda        datetime64[ns]\n",
       "Data Envio        datetime64[ns]\n",
       "ID Loja                    int64\n",
       "ID Produto                 int64\n",
       "ID Cliente                 int64\n",
       "No. Venda                 object\n",
       "Custo Unitário           float64\n",
       "Preço Unitário           float64\n",
       "Quantidade                 int64\n",
       "Valor Desconto           float64\n",
       "Valor Venda              float64\n",
       "Produto                   object\n",
       "Fabricante                object\n",
       "Marca                     object\n",
       "Classe                    object\n",
       "Cor                       object\n",
       "dtype: object"
      ]
     },
     "execution_count": 94,
     "metadata": {},
     "output_type": "execute_result"
    }
   ],
   "source": [
    "#Verificando os tipos de dados\n",
    "df.dtypes"
   ]
  },
  {
   "cell_type": "code",
   "execution_count": 95,
   "metadata": {},
   "outputs": [
    {
     "data": {
      "text/plain": [
       "5984606.1426"
      ]
     },
     "execution_count": 95,
     "metadata": {},
     "output_type": "execute_result"
    }
   ],
   "source": [
    "#Qual a Receita total?\n",
    "df[\"Valor Venda\"].sum()"
   ]
  },
  {
   "cell_type": "code",
   "execution_count": 96,
   "metadata": {},
   "outputs": [],
   "source": [
    "#Qual o custo Total?\n",
    "df[\"custo\"] = df[\"Custo Unitário\"].mul(df[\"Quantidade\"]) #Criando a coluna de custo"
   ]
  },
  {
   "cell_type": "code",
   "execution_count": 97,
   "metadata": {},
   "outputs": [
    {
     "data": {
      "text/html": [
       "<div>\n",
       "<style scoped>\n",
       "    .dataframe tbody tr th:only-of-type {\n",
       "        vertical-align: middle;\n",
       "    }\n",
       "\n",
       "    .dataframe tbody tr th {\n",
       "        vertical-align: top;\n",
       "    }\n",
       "\n",
       "    .dataframe thead th {\n",
       "        text-align: right;\n",
       "    }\n",
       "</style>\n",
       "<table border=\"1\" class=\"dataframe\">\n",
       "  <thead>\n",
       "    <tr style=\"text-align: right;\">\n",
       "      <th></th>\n",
       "      <th>Data Venda</th>\n",
       "      <th>Data Envio</th>\n",
       "      <th>ID Loja</th>\n",
       "      <th>ID Produto</th>\n",
       "      <th>ID Cliente</th>\n",
       "      <th>No. Venda</th>\n",
       "      <th>Custo Unitário</th>\n",
       "      <th>Preço Unitário</th>\n",
       "      <th>Quantidade</th>\n",
       "      <th>Valor Desconto</th>\n",
       "      <th>Valor Venda</th>\n",
       "      <th>Produto</th>\n",
       "      <th>Fabricante</th>\n",
       "      <th>Marca</th>\n",
       "      <th>Classe</th>\n",
       "      <th>Cor</th>\n",
       "      <th>custo</th>\n",
       "    </tr>\n",
       "  </thead>\n",
       "  <tbody>\n",
       "    <tr>\n",
       "      <th>0</th>\n",
       "      <td>2008-05-09</td>\n",
       "      <td>2008-05-29</td>\n",
       "      <td>199</td>\n",
       "      <td>384</td>\n",
       "      <td>18839</td>\n",
       "      <td>200805093CS607</td>\n",
       "      <td>348.58</td>\n",
       "      <td>758.0</td>\n",
       "      <td>6</td>\n",
       "      <td>0.0</td>\n",
       "      <td>4548.0</td>\n",
       "      <td>Adventure Works Laptop15.4W M1548 Red</td>\n",
       "      <td>Adventure Works</td>\n",
       "      <td>Adventure Works</td>\n",
       "      <td>Regular</td>\n",
       "      <td>Red</td>\n",
       "      <td>2091.48</td>\n",
       "    </tr>\n",
       "  </tbody>\n",
       "</table>\n",
       "</div>"
      ],
      "text/plain": [
       "  Data Venda Data Envio  ID Loja  ID Produto  ID Cliente       No. Venda  \\\n",
       "0 2008-05-09 2008-05-29      199         384       18839  200805093CS607   \n",
       "\n",
       "   Custo Unitário  Preço Unitário  Quantidade  Valor Desconto  Valor Venda  \\\n",
       "0          348.58           758.0           6             0.0       4548.0   \n",
       "\n",
       "                                 Produto       Fabricante            Marca  \\\n",
       "0  Adventure Works Laptop15.4W M1548 Red  Adventure Works  Adventure Works   \n",
       "\n",
       "    Classe  Cor    custo  \n",
       "0  Regular  Red  2091.48  "
      ]
     },
     "execution_count": 97,
     "metadata": {},
     "output_type": "execute_result"
    }
   ],
   "source": [
    "df.head(1)"
   ]
  },
  {
   "cell_type": "code",
   "execution_count": 98,
   "metadata": {},
   "outputs": [
    {
     "data": {
      "text/plain": [
       "2486783.05"
      ]
     },
     "execution_count": 98,
     "metadata": {},
     "output_type": "execute_result"
    }
   ],
   "source": [
    "#Qual o custo Total?\n",
    "round(df[\"custo\"].sum(), 2)"
   ]
  },
  {
   "cell_type": "code",
   "execution_count": 99,
   "metadata": {},
   "outputs": [],
   "source": [
    "#Agora que temos a receita e custo e o total, podemos achar o Lucro total\n",
    "#Vamos criar uma coluna de Lucro que será Receita - Custo\n",
    "df[\"lucro\"]  = df[\"Valor Venda\"] - df[\"custo\"] "
   ]
  },
  {
   "cell_type": "code",
   "execution_count": 100,
   "metadata": {},
   "outputs": [
    {
     "data": {
      "text/html": [
       "<div>\n",
       "<style scoped>\n",
       "    .dataframe tbody tr th:only-of-type {\n",
       "        vertical-align: middle;\n",
       "    }\n",
       "\n",
       "    .dataframe tbody tr th {\n",
       "        vertical-align: top;\n",
       "    }\n",
       "\n",
       "    .dataframe thead th {\n",
       "        text-align: right;\n",
       "    }\n",
       "</style>\n",
       "<table border=\"1\" class=\"dataframe\">\n",
       "  <thead>\n",
       "    <tr style=\"text-align: right;\">\n",
       "      <th></th>\n",
       "      <th>Data Venda</th>\n",
       "      <th>Data Envio</th>\n",
       "      <th>ID Loja</th>\n",
       "      <th>ID Produto</th>\n",
       "      <th>ID Cliente</th>\n",
       "      <th>No. Venda</th>\n",
       "      <th>Custo Unitário</th>\n",
       "      <th>Preço Unitário</th>\n",
       "      <th>Quantidade</th>\n",
       "      <th>Valor Desconto</th>\n",
       "      <th>Valor Venda</th>\n",
       "      <th>Produto</th>\n",
       "      <th>Fabricante</th>\n",
       "      <th>Marca</th>\n",
       "      <th>Classe</th>\n",
       "      <th>Cor</th>\n",
       "      <th>custo</th>\n",
       "      <th>lucro</th>\n",
       "    </tr>\n",
       "  </thead>\n",
       "  <tbody>\n",
       "    <tr>\n",
       "      <th>0</th>\n",
       "      <td>2008-05-09</td>\n",
       "      <td>2008-05-29</td>\n",
       "      <td>199</td>\n",
       "      <td>384</td>\n",
       "      <td>18839</td>\n",
       "      <td>200805093CS607</td>\n",
       "      <td>348.58</td>\n",
       "      <td>758.0</td>\n",
       "      <td>6</td>\n",
       "      <td>0.0</td>\n",
       "      <td>4548.0</td>\n",
       "      <td>Adventure Works Laptop15.4W M1548 Red</td>\n",
       "      <td>Adventure Works</td>\n",
       "      <td>Adventure Works</td>\n",
       "      <td>Regular</td>\n",
       "      <td>Red</td>\n",
       "      <td>2091.48</td>\n",
       "      <td>2456.52</td>\n",
       "    </tr>\n",
       "  </tbody>\n",
       "</table>\n",
       "</div>"
      ],
      "text/plain": [
       "  Data Venda Data Envio  ID Loja  ID Produto  ID Cliente       No. Venda  \\\n",
       "0 2008-05-09 2008-05-29      199         384       18839  200805093CS607   \n",
       "\n",
       "   Custo Unitário  Preço Unitário  Quantidade  Valor Desconto  Valor Venda  \\\n",
       "0          348.58           758.0           6             0.0       4548.0   \n",
       "\n",
       "                                 Produto       Fabricante            Marca  \\\n",
       "0  Adventure Works Laptop15.4W M1548 Red  Adventure Works  Adventure Works   \n",
       "\n",
       "    Classe  Cor    custo    lucro  \n",
       "0  Regular  Red  2091.48  2456.52  "
      ]
     },
     "execution_count": 100,
     "metadata": {},
     "output_type": "execute_result"
    }
   ],
   "source": [
    "df.head(1)"
   ]
  },
  {
   "cell_type": "code",
   "execution_count": 101,
   "metadata": {},
   "outputs": [
    {
     "data": {
      "text/plain": [
       "3497823.09"
      ]
     },
     "execution_count": 101,
     "metadata": {},
     "output_type": "execute_result"
    }
   ],
   "source": [
    "#Total Lucro\n",
    "round(df[\"lucro\"].sum(),2)"
   ]
  },
  {
   "cell_type": "code",
   "execution_count": 102,
   "metadata": {},
   "outputs": [],
   "source": [
    "#Criando uma coluna com total de dias para enviar o produto\n",
    "df[\"Tempo_envio\"] = df[\"Data Envio\"] - df[\"Data Venda\"]"
   ]
  },
  {
   "cell_type": "code",
   "execution_count": 103,
   "metadata": {},
   "outputs": [
    {
     "data": {
      "text/html": [
       "<div>\n",
       "<style scoped>\n",
       "    .dataframe tbody tr th:only-of-type {\n",
       "        vertical-align: middle;\n",
       "    }\n",
       "\n",
       "    .dataframe tbody tr th {\n",
       "        vertical-align: top;\n",
       "    }\n",
       "\n",
       "    .dataframe thead th {\n",
       "        text-align: right;\n",
       "    }\n",
       "</style>\n",
       "<table border=\"1\" class=\"dataframe\">\n",
       "  <thead>\n",
       "    <tr style=\"text-align: right;\">\n",
       "      <th></th>\n",
       "      <th>Data Venda</th>\n",
       "      <th>Data Envio</th>\n",
       "      <th>ID Loja</th>\n",
       "      <th>ID Produto</th>\n",
       "      <th>ID Cliente</th>\n",
       "      <th>No. Venda</th>\n",
       "      <th>Custo Unitário</th>\n",
       "      <th>Preço Unitário</th>\n",
       "      <th>Quantidade</th>\n",
       "      <th>Valor Desconto</th>\n",
       "      <th>Valor Venda</th>\n",
       "      <th>Produto</th>\n",
       "      <th>Fabricante</th>\n",
       "      <th>Marca</th>\n",
       "      <th>Classe</th>\n",
       "      <th>Cor</th>\n",
       "      <th>custo</th>\n",
       "      <th>lucro</th>\n",
       "      <th>Tempo_envio</th>\n",
       "    </tr>\n",
       "  </thead>\n",
       "  <tbody>\n",
       "    <tr>\n",
       "      <th>0</th>\n",
       "      <td>2008-05-09</td>\n",
       "      <td>2008-05-29</td>\n",
       "      <td>199</td>\n",
       "      <td>384</td>\n",
       "      <td>18839</td>\n",
       "      <td>200805093CS607</td>\n",
       "      <td>348.58</td>\n",
       "      <td>758.0</td>\n",
       "      <td>6</td>\n",
       "      <td>0.0</td>\n",
       "      <td>4548.0</td>\n",
       "      <td>Adventure Works Laptop15.4W M1548 Red</td>\n",
       "      <td>Adventure Works</td>\n",
       "      <td>Adventure Works</td>\n",
       "      <td>Regular</td>\n",
       "      <td>Red</td>\n",
       "      <td>2091.48</td>\n",
       "      <td>2456.52</td>\n",
       "      <td>20 days</td>\n",
       "    </tr>\n",
       "  </tbody>\n",
       "</table>\n",
       "</div>"
      ],
      "text/plain": [
       "  Data Venda Data Envio  ID Loja  ID Produto  ID Cliente       No. Venda  \\\n",
       "0 2008-05-09 2008-05-29      199         384       18839  200805093CS607   \n",
       "\n",
       "   Custo Unitário  Preço Unitário  Quantidade  Valor Desconto  Valor Venda  \\\n",
       "0          348.58           758.0           6             0.0       4548.0   \n",
       "\n",
       "                                 Produto       Fabricante            Marca  \\\n",
       "0  Adventure Works Laptop15.4W M1548 Red  Adventure Works  Adventure Works   \n",
       "\n",
       "    Classe  Cor    custo    lucro Tempo_envio  \n",
       "0  Regular  Red  2091.48  2456.52     20 days  "
      ]
     },
     "execution_count": 103,
     "metadata": {},
     "output_type": "execute_result"
    }
   ],
   "source": [
    "df.head(1)"
   ]
  },
  {
   "cell_type": "markdown",
   "metadata": {},
   "source": [
    "**Agora, queremos saber a média do tempo de envio para cada Marca, e para isso precisamos transformar a coluna Tempo_envio em númerica**"
   ]
  },
  {
   "cell_type": "code",
   "execution_count": 104,
   "metadata": {},
   "outputs": [],
   "source": [
    "#Extraindo apenas os dias\n",
    "df[\"Tempo_envio\"] = (df[\"Data Envio\"] - df[\"Data Venda\"]).dt.days"
   ]
  },
  {
   "cell_type": "code",
   "execution_count": 106,
   "metadata": {},
   "outputs": [
    {
     "data": {
      "text/html": [
       "<div>\n",
       "<style scoped>\n",
       "    .dataframe tbody tr th:only-of-type {\n",
       "        vertical-align: middle;\n",
       "    }\n",
       "\n",
       "    .dataframe tbody tr th {\n",
       "        vertical-align: top;\n",
       "    }\n",
       "\n",
       "    .dataframe thead th {\n",
       "        text-align: right;\n",
       "    }\n",
       "</style>\n",
       "<table border=\"1\" class=\"dataframe\">\n",
       "  <thead>\n",
       "    <tr style=\"text-align: right;\">\n",
       "      <th></th>\n",
       "      <th>Data Venda</th>\n",
       "      <th>Data Envio</th>\n",
       "      <th>ID Loja</th>\n",
       "      <th>ID Produto</th>\n",
       "      <th>ID Cliente</th>\n",
       "      <th>No. Venda</th>\n",
       "      <th>Custo Unitário</th>\n",
       "      <th>Preço Unitário</th>\n",
       "      <th>Quantidade</th>\n",
       "      <th>Valor Desconto</th>\n",
       "      <th>Valor Venda</th>\n",
       "      <th>Produto</th>\n",
       "      <th>Fabricante</th>\n",
       "      <th>Marca</th>\n",
       "      <th>Classe</th>\n",
       "      <th>Cor</th>\n",
       "      <th>custo</th>\n",
       "      <th>lucro</th>\n",
       "      <th>Tempo_envio</th>\n",
       "    </tr>\n",
       "  </thead>\n",
       "  <tbody>\n",
       "    <tr>\n",
       "      <th>0</th>\n",
       "      <td>2008-05-09</td>\n",
       "      <td>2008-05-29</td>\n",
       "      <td>199</td>\n",
       "      <td>384</td>\n",
       "      <td>18839</td>\n",
       "      <td>200805093CS607</td>\n",
       "      <td>348.58</td>\n",
       "      <td>758.0</td>\n",
       "      <td>6</td>\n",
       "      <td>0.0</td>\n",
       "      <td>4548.0</td>\n",
       "      <td>Adventure Works Laptop15.4W M1548 Red</td>\n",
       "      <td>Adventure Works</td>\n",
       "      <td>Adventure Works</td>\n",
       "      <td>Regular</td>\n",
       "      <td>Red</td>\n",
       "      <td>2091.48</td>\n",
       "      <td>2456.52</td>\n",
       "      <td>20</td>\n",
       "    </tr>\n",
       "  </tbody>\n",
       "</table>\n",
       "</div>"
      ],
      "text/plain": [
       "  Data Venda Data Envio  ID Loja  ID Produto  ID Cliente       No. Venda  \\\n",
       "0 2008-05-09 2008-05-29      199         384       18839  200805093CS607   \n",
       "\n",
       "   Custo Unitário  Preço Unitário  Quantidade  Valor Desconto  Valor Venda  \\\n",
       "0          348.58           758.0           6             0.0       4548.0   \n",
       "\n",
       "                                 Produto       Fabricante            Marca  \\\n",
       "0  Adventure Works Laptop15.4W M1548 Red  Adventure Works  Adventure Works   \n",
       "\n",
       "    Classe  Cor    custo    lucro  Tempo_envio  \n",
       "0  Regular  Red  2091.48  2456.52           20  "
      ]
     },
     "execution_count": 106,
     "metadata": {},
     "output_type": "execute_result"
    }
   ],
   "source": [
    "df.head(1)"
   ]
  },
  {
   "cell_type": "code",
   "execution_count": 107,
   "metadata": {},
   "outputs": [
    {
     "data": {
      "text/plain": [
       "dtype('int64')"
      ]
     },
     "execution_count": 107,
     "metadata": {},
     "output_type": "execute_result"
    }
   ],
   "source": [
    "#Verificando o tipo da coluna Tempo_envio\n",
    "df[\"Tempo_envio\"].dtype"
   ]
  },
  {
   "cell_type": "code",
   "execution_count": 108,
   "metadata": {},
   "outputs": [
    {
     "data": {
      "text/plain": [
       "Marca\n",
       "Adventure Works    8.663866\n",
       "Contoso            8.470930\n",
       "Fabrikam           8.510121\n",
       "Name: Tempo_envio, dtype: float64"
      ]
     },
     "execution_count": 108,
     "metadata": {},
     "output_type": "execute_result"
    }
   ],
   "source": [
    "#Média do tempo de envio por Marca\n",
    "df.groupby(\"Marca\")[\"Tempo_envio\"].mean()"
   ]
  },
  {
   "cell_type": "code",
   "execution_count": 109,
   "metadata": {},
   "outputs": [
    {
     "data": {
      "text/plain": [
       "Data Venda        0\n",
       "Data Envio        0\n",
       "ID Loja           0\n",
       "ID Produto        0\n",
       "ID Cliente        0\n",
       "No. Venda         0\n",
       "Custo Unitário    0\n",
       "Preço Unitário    0\n",
       "Quantidade        0\n",
       "Valor Desconto    0\n",
       "Valor Venda       0\n",
       "Produto           0\n",
       "Fabricante        0\n",
       "Marca             0\n",
       "Classe            0\n",
       "Cor               0\n",
       "custo             0\n",
       "lucro             0\n",
       "Tempo_envio       0\n",
       "dtype: int64"
      ]
     },
     "execution_count": 109,
     "metadata": {},
     "output_type": "execute_result"
    }
   ],
   "source": [
    "#Verificando se temos dados faltantes\n",
    "df.isnull().sum()"
   ]
  },
  {
   "cell_type": "markdown",
   "metadata": {},
   "source": [
    "**E, se a gente quiser saber o Lucro por Ano e Por Marca?**"
   ]
  },
  {
   "cell_type": "code",
   "execution_count": 110,
   "metadata": {},
   "outputs": [
    {
     "data": {
      "text/plain": [
       "Data Venda  Marca          \n",
       "2008        Adventure Works    3.066412e+05\n",
       "            Contoso            5.641600e+04\n",
       "            Fabrikam           1.557021e+06\n",
       "2009        Adventure Works    4.053951e+05\n",
       "            Contoso            1.382590e+05\n",
       "            Fabrikam           1.034091e+06\n",
       "Name: lucro, dtype: float64"
      ]
     },
     "execution_count": 110,
     "metadata": {},
     "output_type": "execute_result"
    }
   ],
   "source": [
    "#Vamos Agrupar por ano e marca\n",
    "df.groupby([df[\"Data Venda\"].dt.year, \"Marca\"])[\"lucro\"].sum()"
   ]
  },
  {
   "cell_type": "code",
   "execution_count": 111,
   "metadata": {},
   "outputs": [],
   "source": [
    " pd.options.display.float_format = '{:20,.2f}'.format"
   ]
  },
  {
   "cell_type": "code",
   "execution_count": 112,
   "metadata": {},
   "outputs": [
    {
     "data": {
      "text/html": [
       "<div>\n",
       "<style scoped>\n",
       "    .dataframe tbody tr th:only-of-type {\n",
       "        vertical-align: middle;\n",
       "    }\n",
       "\n",
       "    .dataframe tbody tr th {\n",
       "        vertical-align: top;\n",
       "    }\n",
       "\n",
       "    .dataframe thead th {\n",
       "        text-align: right;\n",
       "    }\n",
       "</style>\n",
       "<table border=\"1\" class=\"dataframe\">\n",
       "  <thead>\n",
       "    <tr style=\"text-align: right;\">\n",
       "      <th></th>\n",
       "      <th>Data Venda</th>\n",
       "      <th>Marca</th>\n",
       "      <th>lucro</th>\n",
       "    </tr>\n",
       "  </thead>\n",
       "  <tbody>\n",
       "    <tr>\n",
       "      <th>0</th>\n",
       "      <td>2008</td>\n",
       "      <td>Adventure Works</td>\n",
       "      <td>306,641.16</td>\n",
       "    </tr>\n",
       "    <tr>\n",
       "      <th>1</th>\n",
       "      <td>2008</td>\n",
       "      <td>Contoso</td>\n",
       "      <td>56,416.00</td>\n",
       "    </tr>\n",
       "    <tr>\n",
       "      <th>2</th>\n",
       "      <td>2008</td>\n",
       "      <td>Fabrikam</td>\n",
       "      <td>1,557,020.55</td>\n",
       "    </tr>\n",
       "    <tr>\n",
       "      <th>3</th>\n",
       "      <td>2009</td>\n",
       "      <td>Adventure Works</td>\n",
       "      <td>405,395.08</td>\n",
       "    </tr>\n",
       "    <tr>\n",
       "      <th>4</th>\n",
       "      <td>2009</td>\n",
       "      <td>Contoso</td>\n",
       "      <td>138,258.95</td>\n",
       "    </tr>\n",
       "    <tr>\n",
       "      <th>5</th>\n",
       "      <td>2009</td>\n",
       "      <td>Fabrikam</td>\n",
       "      <td>1,034,091.35</td>\n",
       "    </tr>\n",
       "  </tbody>\n",
       "</table>\n",
       "</div>"
      ],
      "text/plain": [
       "   Data Venda            Marca                lucro\n",
       "0        2008  Adventure Works           306,641.16\n",
       "1        2008          Contoso            56,416.00\n",
       "2        2008         Fabrikam         1,557,020.55\n",
       "3        2009  Adventure Works           405,395.08\n",
       "4        2009          Contoso           138,258.95\n",
       "5        2009         Fabrikam         1,034,091.35"
      ]
     },
     "execution_count": 112,
     "metadata": {},
     "output_type": "execute_result"
    }
   ],
   "source": [
    "#Resetando o index\n",
    "lucro_ano = df.groupby([df[\"Data Venda\"].dt.year, \"Marca\"])[\"lucro\"].sum().reset_index()\n",
    "lucro_ano"
   ]
  },
  {
   "cell_type": "code",
   "execution_count": 113,
   "metadata": {},
   "outputs": [
    {
     "data": {
      "text/plain": [
       "Produto\n",
       "Headphone Adapter for Contoso Phone E130 Silver    25232\n",
       "Headphone Adapter for Contoso Phone E130 White     25008\n",
       "Adventure Works Laptop15.4W M1548 Black             1089\n",
       "Fabrikam Trendsetter 2/3'' 17mm X100 Grey           1087\n",
       "Adventure Works Laptop15.4W M1548 Red               1047\n",
       "Fabrikam Trendsetter 2/3'' 17mm X100 Black           926\n",
       "Fabrikam Trendsetter 1/3'' 8.5mm X200 Black          884\n",
       "Fabrikam Trendsetter 1/3'' 8.5mm X200 Grey           845\n",
       "Fabrikam Trendsetter 1/3'' 8.5mm X200 White          789\n",
       "Name: Quantidade, dtype: int64"
      ]
     },
     "execution_count": 113,
     "metadata": {},
     "output_type": "execute_result"
    }
   ],
   "source": [
    "#Qual o total de produtos vendidos?\n",
    "df.groupby(\"Produto\")[\"Quantidade\"].sum().sort_values(ascending=False)"
   ]
  },
  {
   "cell_type": "code",
   "execution_count": 114,
   "metadata": {},
   "outputs": [
    {
     "data": {
      "image/png": "[encoded data removed]",
      "text/plain": [
       "<Figure size 576x396 with 1 Axes>"
      ]
     },
     "metadata": {},
     "output_type": "display_data"
    }
   ],
   "source": [
    "#Gráfico Total de produtos vendidos\n",
    "df.groupby(\"Produto\")[\"Quantidade\"].sum().sort_values(ascending=True).plot.barh(title=\"Total Produtos Vendidos\")\n",
    "plt.xlabel(\"Total\")\n",
    "plt.ylabel(\"Produto\");"
   ]
  },
  {
   "cell_type": "code",
   "execution_count": 115,
   "metadata": {},
   "outputs": [
    {
     "data": {
      "image/png": "[encoded data removed]",
      "text/plain": [
       "<Figure size 576x396 with 1 Axes>"
      ]
     },
     "metadata": {},
     "output_type": "display_data"
    }
   ],
   "source": [
    "df.groupby(df[\"Data Venda\"].dt.year)[\"lucro\"].sum().plot.bar(title=\"Lucro x Ano\")\n",
    "plt.xlabel(\"Ano\")\n",
    "plt.ylabel(\"Receita\");"
   ]
  },
  {
   "cell_type": "code",
   "execution_count": 116,
   "metadata": {},
   "outputs": [
    {
     "data": {
      "text/plain": [
       "Data Venda\n",
       "2008           1,920,077.71\n",
       "2009           1,577,745.38\n",
       "Name: lucro, dtype: float64"
      ]
     },
     "execution_count": 116,
     "metadata": {},
     "output_type": "execute_result"
    }
   ],
   "source": [
    "df.groupby(df[\"Data Venda\"].dt.year)[\"lucro\"].sum()"
   ]
  },
  {
   "cell_type": "code",
   "execution_count": 117,
   "metadata": {},
   "outputs": [],
   "source": [
    "#Selecionando apenas as vendas de 2009\n",
    "df_2009 = df[df[\"Data Venda\"].dt.year == 2009]"
   ]
  },
  {
   "cell_type": "code",
   "execution_count": 118,
   "metadata": {},
   "outputs": [
    {
     "data": {
      "text/html": [
       "<div>\n",
       "<style scoped>\n",
       "    .dataframe tbody tr th:only-of-type {\n",
       "        vertical-align: middle;\n",
       "    }\n",
       "\n",
       "    .dataframe tbody tr th {\n",
       "        vertical-align: top;\n",
       "    }\n",
       "\n",
       "    .dataframe thead th {\n",
       "        text-align: right;\n",
       "    }\n",
       "</style>\n",
       "<table border=\"1\" class=\"dataframe\">\n",
       "  <thead>\n",
       "    <tr style=\"text-align: right;\">\n",
       "      <th></th>\n",
       "      <th>Data Venda</th>\n",
       "      <th>Data Envio</th>\n",
       "      <th>ID Loja</th>\n",
       "      <th>ID Produto</th>\n",
       "      <th>ID Cliente</th>\n",
       "      <th>No. Venda</th>\n",
       "      <th>Custo Unitário</th>\n",
       "      <th>Preço Unitário</th>\n",
       "      <th>Quantidade</th>\n",
       "      <th>Valor Desconto</th>\n",
       "      <th>Valor Venda</th>\n",
       "      <th>Produto</th>\n",
       "      <th>Fabricante</th>\n",
       "      <th>Marca</th>\n",
       "      <th>Classe</th>\n",
       "      <th>Cor</th>\n",
       "      <th>custo</th>\n",
       "      <th>lucro</th>\n",
       "      <th>Tempo_envio</th>\n",
       "    </tr>\n",
       "  </thead>\n",
       "  <tbody>\n",
       "    <tr>\n",
       "      <th>11</th>\n",
       "      <td>2009-05-02</td>\n",
       "      <td>2009-05-14</td>\n",
       "      <td>199</td>\n",
       "      <td>384</td>\n",
       "      <td>18938</td>\n",
       "      <td>200905023CS847</td>\n",
       "      <td>348.58</td>\n",
       "      <td>758.00</td>\n",
       "      <td>6</td>\n",
       "      <td>0.00</td>\n",
       "      <td>4,548.00</td>\n",
       "      <td>Adventure Works Laptop15.4W M1548 Red</td>\n",
       "      <td>Adventure Works</td>\n",
       "      <td>Adventure Works</td>\n",
       "      <td>Regular</td>\n",
       "      <td>Red</td>\n",
       "      <td>2,091.48</td>\n",
       "      <td>2,456.52</td>\n",
       "      <td>12</td>\n",
       "    </tr>\n",
       "    <tr>\n",
       "      <th>12</th>\n",
       "      <td>2009-05-16</td>\n",
       "      <td>2009-05-27</td>\n",
       "      <td>306</td>\n",
       "      <td>384</td>\n",
       "      <td>19067</td>\n",
       "      <td>200905163CS746</td>\n",
       "      <td>348.58</td>\n",
       "      <td>758.00</td>\n",
       "      <td>6</td>\n",
       "      <td>0.00</td>\n",
       "      <td>4,548.00</td>\n",
       "      <td>Adventure Works Laptop15.4W M1548 Red</td>\n",
       "      <td>Adventure Works</td>\n",
       "      <td>Adventure Works</td>\n",
       "      <td>Regular</td>\n",
       "      <td>Red</td>\n",
       "      <td>2,091.48</td>\n",
       "      <td>2,456.52</td>\n",
       "      <td>11</td>\n",
       "    </tr>\n",
       "    <tr>\n",
       "      <th>13</th>\n",
       "      <td>2009-05-31</td>\n",
       "      <td>2009-06-12</td>\n",
       "      <td>306</td>\n",
       "      <td>384</td>\n",
       "      <td>19068</td>\n",
       "      <td>200905313CS748</td>\n",
       "      <td>348.58</td>\n",
       "      <td>758.00</td>\n",
       "      <td>6</td>\n",
       "      <td>0.00</td>\n",
       "      <td>4,548.00</td>\n",
       "      <td>Adventure Works Laptop15.4W M1548 Red</td>\n",
       "      <td>Adventure Works</td>\n",
       "      <td>Adventure Works</td>\n",
       "      <td>Regular</td>\n",
       "      <td>Red</td>\n",
       "      <td>2,091.48</td>\n",
       "      <td>2,456.52</td>\n",
       "      <td>12</td>\n",
       "    </tr>\n",
       "    <tr>\n",
       "      <th>14</th>\n",
       "      <td>2009-06-28</td>\n",
       "      <td>2009-07-11</td>\n",
       "      <td>199</td>\n",
       "      <td>384</td>\n",
       "      <td>18959</td>\n",
       "      <td>200906283CS870</td>\n",
       "      <td>348.58</td>\n",
       "      <td>758.00</td>\n",
       "      <td>6</td>\n",
       "      <td>0.00</td>\n",
       "      <td>4,548.00</td>\n",
       "      <td>Adventure Works Laptop15.4W M1548 Red</td>\n",
       "      <td>Adventure Works</td>\n",
       "      <td>Adventure Works</td>\n",
       "      <td>Regular</td>\n",
       "      <td>Red</td>\n",
       "      <td>2,091.48</td>\n",
       "      <td>2,456.52</td>\n",
       "      <td>13</td>\n",
       "    </tr>\n",
       "    <tr>\n",
       "      <th>15</th>\n",
       "      <td>2009-07-08</td>\n",
       "      <td>2009-07-12</td>\n",
       "      <td>306</td>\n",
       "      <td>384</td>\n",
       "      <td>19070</td>\n",
       "      <td>200907083CS757</td>\n",
       "      <td>348.58</td>\n",
       "      <td>758.00</td>\n",
       "      <td>6</td>\n",
       "      <td>0.00</td>\n",
       "      <td>4,548.00</td>\n",
       "      <td>Adventure Works Laptop15.4W M1548 Red</td>\n",
       "      <td>Adventure Works</td>\n",
       "      <td>Adventure Works</td>\n",
       "      <td>Regular</td>\n",
       "      <td>Red</td>\n",
       "      <td>2,091.48</td>\n",
       "      <td>2,456.52</td>\n",
       "      <td>4</td>\n",
       "    </tr>\n",
       "  </tbody>\n",
       "</table>\n",
       "</div>"
      ],
      "text/plain": [
       "   Data Venda Data Envio  ID Loja  ID Produto  ID Cliente       No. Venda  \\\n",
       "11 2009-05-02 2009-05-14      199         384       18938  200905023CS847   \n",
       "12 2009-05-16 2009-05-27      306         384       19067  200905163CS746   \n",
       "13 2009-05-31 2009-06-12      306         384       19068  200905313CS748   \n",
       "14 2009-06-28 2009-07-11      199         384       18959  200906283CS870   \n",
       "15 2009-07-08 2009-07-12      306         384       19070  200907083CS757   \n",
       "\n",
       "         Custo Unitário       Preço Unitário  Quantidade       Valor Desconto  \\\n",
       "11               348.58               758.00           6                 0.00   \n",
       "12               348.58               758.00           6                 0.00   \n",
       "13               348.58               758.00           6                 0.00   \n",
       "14               348.58               758.00           6                 0.00   \n",
       "15               348.58               758.00           6                 0.00   \n",
       "\n",
       "            Valor Venda                                Produto  \\\n",
       "11             4,548.00  Adventure Works Laptop15.4W M1548 Red   \n",
       "12             4,548.00  Adventure Works Laptop15.4W M1548 Red   \n",
       "13             4,548.00  Adventure Works Laptop15.4W M1548 Red   \n",
       "14             4,548.00  Adventure Works Laptop15.4W M1548 Red   \n",
       "15             4,548.00  Adventure Works Laptop15.4W M1548 Red   \n",
       "\n",
       "         Fabricante            Marca   Classe  Cor                custo  \\\n",
       "11  Adventure Works  Adventure Works  Regular  Red             2,091.48   \n",
       "12  Adventure Works  Adventure Works  Regular  Red             2,091.48   \n",
       "13  Adventure Works  Adventure Works  Regular  Red             2,091.48   \n",
       "14  Adventure Works  Adventure Works  Regular  Red             2,091.48   \n",
       "15  Adventure Works  Adventure Works  Regular  Red             2,091.48   \n",
       "\n",
       "                  lucro  Tempo_envio  \n",
       "11             2,456.52           12  \n",
       "12             2,456.52           11  \n",
       "13             2,456.52           12  \n",
       "14             2,456.52           13  \n",
       "15             2,456.52            4  "
      ]
     },
     "execution_count": 118,
     "metadata": {},
     "output_type": "execute_result"
    }
   ],
   "source": [
    "df_2009.head()"
   ]
  },
  {
   "cell_type": "code",
   "execution_count": 119,
   "metadata": {},
   "outputs": [
    {
     "data": {
      "image/png": "[encoded data removed]",
      "text/plain": [
       "<Figure size 576x396 with 1 Axes>"
      ]
     },
     "metadata": {},
     "output_type": "display_data"
    }
   ],
   "source": [
    "df_2009.groupby(df_2009[\"Data Venda\"].dt.month)[\"lucro\"].sum().plot(title=\"Lucro x Mês\")\n",
    "plt.xlabel(\"Mês\")\n",
    "plt.ylabel(\"Lucro\");"
   ]
  },
  {
   "cell_type": "code",
   "execution_count": 120,
   "metadata": {},
   "outputs": [
    {
     "data": {
      "image/png": "[encoded data removed]",
      "text/plain": [
       "<Figure size 576x396 with 1 Axes>"
      ]
     },
     "metadata": {},
     "output_type": "display_data"
    }
   ],
   "source": [
    "df_2009.groupby(\"Marca\")[\"lucro\"].sum().plot.bar(title=\"Lucro x Marca\")\n",
    "plt.xlabel(\"Marca\")\n",
    "plt.ylabel(\"Lucro\")\n",
    "plt.xticks(rotation='horizontal');"
   ]
  },
  {
   "cell_type": "code",
   "execution_count": 121,
   "metadata": {},
   "outputs": [
    {
     "data": {
      "image/png": "[encoded data removed]",
      "text/plain": [
       "<Figure size 576x396 with 1 Axes>"
      ]
     },
     "metadata": {},
     "output_type": "display_data"
    }
   ],
   "source": [
    "df_2009.groupby(\"Classe\")[\"lucro\"].sum().plot.bar(title=\"Lucro x Classe\")\n",
    "plt.xlabel(\"Classe\")\n",
    "plt.ylabel(\"Lucro\")\n",
    "plt.xticks(rotation='horizontal');"
   ]
  },
  {
   "cell_type": "code",
   "execution_count": 122,
   "metadata": {},
   "outputs": [
    {
     "data": {
      "text/plain": [
       "count                 904.00\n",
       "mean                    8.54\n",
       "std                     3.06\n",
       "min                     4.00\n",
       "25%                     6.00\n",
       "50%                     9.00\n",
       "75%                    11.00\n",
       "max                    20.00\n",
       "Name: Tempo_envio, dtype: float64"
      ]
     },
     "execution_count": 122,
     "metadata": {},
     "output_type": "execute_result"
    }
   ],
   "source": [
    "df[\"Tempo_envio\"].describe()"
   ]
  },
  {
   "cell_type": "code",
   "execution_count": 123,
   "metadata": {},
   "outputs": [
    {
     "data": {
      "image/png": "[encoded data removed]",
      "text/plain": [
       "<Figure size 576x396 with 1 Axes>"
      ]
     },
     "metadata": {},
     "output_type": "display_data"
    }
   ],
   "source": [
    "#Gráfico de Boxplot\n",
    "plt.boxplot(df[\"Tempo_envio\"]);"
   ]
  },
  {
   "cell_type": "code",
   "execution_count": 124,
   "metadata": {},
   "outputs": [
    {
     "data": {
      "image/png": "[encoded data removed]",
      "text/plain": [
       "<Figure size 576x396 with 1 Axes>"
      ]
     },
     "metadata": {},
     "output_type": "display_data"
    }
   ],
   "source": [
    "#Histograma\n",
    "plt.hist(df[\"Tempo_envio\"]);"
   ]
  },
  {
   "cell_type": "code",
   "execution_count": 125,
   "metadata": {},
   "outputs": [
    {
     "data": {
      "text/plain": [
       "4"
      ]
     },
     "execution_count": 125,
     "metadata": {},
     "output_type": "execute_result"
    }
   ],
   "source": [
    "#Tempo mínimo de envio\n",
    "df[\"Tempo_envio\"].min()"
   ]
  },
  {
   "cell_type": "code",
   "execution_count": 126,
   "metadata": {},
   "outputs": [
    {
     "data": {
      "text/plain": [
       "20"
      ]
     },
     "execution_count": 126,
     "metadata": {},
     "output_type": "execute_result"
    }
   ],
   "source": [
    "#Tempo máximo de envio\n",
    "df['Tempo_envio'].max()"
   ]
  },
  {
   "cell_type": "code",
   "execution_count": 127,
   "metadata": {},
   "outputs": [
    {
     "data": {
      "text/html": [
       "<div>\n",
       "<style scoped>\n",
       "    .dataframe tbody tr th:only-of-type {\n",
       "        vertical-align: middle;\n",
       "    }\n",
       "\n",
       "    .dataframe tbody tr th {\n",
       "        vertical-align: top;\n",
       "    }\n",
       "\n",
       "    .dataframe thead th {\n",
       "        text-align: right;\n",
       "    }\n",
       "</style>\n",
       "<table border=\"1\" class=\"dataframe\">\n",
       "  <thead>\n",
       "    <tr style=\"text-align: right;\">\n",
       "      <th></th>\n",
       "      <th>Data Venda</th>\n",
       "      <th>Data Envio</th>\n",
       "      <th>ID Loja</th>\n",
       "      <th>ID Produto</th>\n",
       "      <th>ID Cliente</th>\n",
       "      <th>No. Venda</th>\n",
       "      <th>Custo Unitário</th>\n",
       "      <th>Preço Unitário</th>\n",
       "      <th>Quantidade</th>\n",
       "      <th>Valor Desconto</th>\n",
       "      <th>Valor Venda</th>\n",
       "      <th>Produto</th>\n",
       "      <th>Fabricante</th>\n",
       "      <th>Marca</th>\n",
       "      <th>Classe</th>\n",
       "      <th>Cor</th>\n",
       "      <th>custo</th>\n",
       "      <th>lucro</th>\n",
       "      <th>Tempo_envio</th>\n",
       "    </tr>\n",
       "  </thead>\n",
       "  <tbody>\n",
       "    <tr>\n",
       "      <th>0</th>\n",
       "      <td>2008-05-09</td>\n",
       "      <td>2008-05-29</td>\n",
       "      <td>199</td>\n",
       "      <td>384</td>\n",
       "      <td>18839</td>\n",
       "      <td>200805093CS607</td>\n",
       "      <td>348.58</td>\n",
       "      <td>758.00</td>\n",
       "      <td>6</td>\n",
       "      <td>0.00</td>\n",
       "      <td>4,548.00</td>\n",
       "      <td>Adventure Works Laptop15.4W M1548 Red</td>\n",
       "      <td>Adventure Works</td>\n",
       "      <td>Adventure Works</td>\n",
       "      <td>Regular</td>\n",
       "      <td>Red</td>\n",
       "      <td>2,091.48</td>\n",
       "      <td>2,456.52</td>\n",
       "      <td>20</td>\n",
       "    </tr>\n",
       "  </tbody>\n",
       "</table>\n",
       "</div>"
      ],
      "text/plain": [
       "  Data Venda Data Envio  ID Loja  ID Produto  ID Cliente       No. Venda  \\\n",
       "0 2008-05-09 2008-05-29      199         384       18839  200805093CS607   \n",
       "\n",
       "        Custo Unitário       Preço Unitário  Quantidade       Valor Desconto  \\\n",
       "0               348.58               758.00           6                 0.00   \n",
       "\n",
       "           Valor Venda                                Produto  \\\n",
       "0             4,548.00  Adventure Works Laptop15.4W M1548 Red   \n",
       "\n",
       "        Fabricante            Marca   Classe  Cor                custo  \\\n",
       "0  Adventure Works  Adventure Works  Regular  Red             2,091.48   \n",
       "\n",
       "                 lucro  Tempo_envio  \n",
       "0             2,456.52           20  "
      ]
     },
     "execution_count": 127,
     "metadata": {},
     "output_type": "execute_result"
    }
   ],
   "source": [
    "#Identificando o Outlier\n",
    "df[df[\"Tempo_envio\"] == 20]"
   ]
  },
  {
   "cell_type": "code",
   "execution_count": 128,
   "metadata": {},
   "outputs": [],
   "source": [
    "df.to_csv(\"df_vendas_novo.csv\", index=False)"
   ]
  },
  {
   "cell_type": "code",
   "execution_count": null,
   "metadata": {},
   "outputs": [],
   "source": []
  }
 ],
 "metadata": {
  "colab": {
   "collapsed_sections": [],
   "name": "ProjetoBootcampCarrefour.ipynb",
   "provenance": []
  },
  "kernelspec": {
   "display_name": "Python 3",
   "language": "python",
   "name": "python3"
  },
  "language_info": {
   "codemirror_mode": {
    "name": "ipython",
    "version": 3
   },
   "file_extension": ".py",
   "mimetype": "text/x-python",
   "name": "python",
   "nbconvert_exporter": "python",
   "pygments_lexer": "ipython3",
   "version": "3.8.8"
  }
 },
 "nbformat": 4,
 "nbformat_minor": 4
}
